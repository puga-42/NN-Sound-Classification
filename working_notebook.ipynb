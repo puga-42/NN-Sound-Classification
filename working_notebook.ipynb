{
 "cells": [
  {
   "cell_type": "code",
   "execution_count": 1,
   "metadata": {},
   "outputs": [],
   "source": [
    "from pytube import YouTube\n",
    "from moviepy.editor import *"
   ]
  },
  {
   "cell_type": "code",
   "execution_count": 2,
   "metadata": {},
   "outputs": [],
   "source": [
    "import librosa\n",
    "import soundfile as sf\n",
    "import matplotlib.pyplot as plt\n",
    "%matplotlib inline\n",
    "\n",
    "import numpy as np\n",
    "import pandas as pd\n",
    "import moviepy.editor as mp\n",
    "import re\n",
    "\n",
    "from src.helpers import *"
   ]
  },
  {
   "cell_type": "code",
   "execution_count": 3,
   "metadata": {},
   "outputs": [],
   "source": [
    "import os\n",
    "from PIL import Image\n",
    "import pathlib\n",
    "import csv\n",
    "import sklearn\n",
    "from sklearn.model_selection import train_test_split\n",
    "from sklearn.preprocessing import LabelEncoder, StandardScaler\n",
    "# import keras\n",
    "# from keras import layers\n",
    "# from keras import layers\n",
    "# from keras.models import Sequential\n",
    "import warnings\n",
    "warnings.filterwarnings('ignore')"
   ]
  },
  {
   "cell_type": "code",
   "execution_count": 4,
   "metadata": {},
   "outputs": [],
   "source": [
    "from sklearn.preprocessing import MultiLabelBinarizer\n",
    "mlb = MultiLabelBinarizer()"
   ]
  },
  {
   "cell_type": "markdown",
   "metadata": {},
   "source": [
    "## Read in Three CSV files"
   ]
  },
  {
   "cell_type": "code",
   "execution_count": 5,
   "metadata": {},
   "outputs": [],
   "source": [
    "dataset, class_labels, true_counts = data_to_df()\n"
   ]
  },
  {
   "cell_type": "code",
   "execution_count": 6,
   "metadata": {},
   "outputs": [
    {
     "data": {
      "text/html": [
       "<div>\n",
       "<style scoped>\n",
       "    .dataframe tbody tr th:only-of-type {\n",
       "        vertical-align: middle;\n",
       "    }\n",
       "\n",
       "    .dataframe tbody tr th {\n",
       "        vertical-align: top;\n",
       "    }\n",
       "\n",
       "    .dataframe thead th {\n",
       "        text-align: right;\n",
       "    }\n",
       "</style>\n",
       "<table border=\"1\" class=\"dataframe\">\n",
       "  <thead>\n",
       "    <tr style=\"text-align: right;\">\n",
       "      <th></th>\n",
       "      <th>label_id</th>\n",
       "      <th>num_rated</th>\n",
       "      <th>num_true</th>\n",
       "      <th>sound</th>\n",
       "      <th>ratio</th>\n",
       "    </tr>\n",
       "  </thead>\n",
       "  <tbody>\n",
       "    <tr>\n",
       "      <th>0</th>\n",
       "      <td>/m/09x0r</td>\n",
       "      <td>10</td>\n",
       "      <td>10</td>\n",
       "      <td>Speech</td>\n",
       "      <td>1.0</td>\n",
       "    </tr>\n",
       "    <tr>\n",
       "      <th>1</th>\n",
       "      <td>/m/05zppz</td>\n",
       "      <td>10</td>\n",
       "      <td>9</td>\n",
       "      <td>Male speech, man speaking</td>\n",
       "      <td>0.9</td>\n",
       "    </tr>\n",
       "    <tr>\n",
       "      <th>2</th>\n",
       "      <td>/m/02zsn</td>\n",
       "      <td>10</td>\n",
       "      <td>10</td>\n",
       "      <td>Female speech, woman speaking</td>\n",
       "      <td>1.0</td>\n",
       "    </tr>\n",
       "    <tr>\n",
       "      <th>3</th>\n",
       "      <td>/m/0ytgt</td>\n",
       "      <td>9</td>\n",
       "      <td>9</td>\n",
       "      <td>Child speech, kid speaking</td>\n",
       "      <td>1.0</td>\n",
       "    </tr>\n",
       "    <tr>\n",
       "      <th>4</th>\n",
       "      <td>/m/01h8n0</td>\n",
       "      <td>10</td>\n",
       "      <td>8</td>\n",
       "      <td>Conversation</td>\n",
       "      <td>0.8</td>\n",
       "    </tr>\n",
       "  </tbody>\n",
       "</table>\n",
       "</div>"
      ],
      "text/plain": [
       "    label_id  num_rated  num_true                          sound  ratio\n",
       "0   /m/09x0r         10        10                         Speech    1.0\n",
       "1  /m/05zppz         10         9      Male speech, man speaking    0.9\n",
       "2   /m/02zsn         10        10  Female speech, woman speaking    1.0\n",
       "3   /m/0ytgt          9         9     Child speech, kid speaking    1.0\n",
       "4  /m/01h8n0         10         8                   Conversation    0.8"
      ]
     },
     "execution_count": 6,
     "metadata": {},
     "output_type": "execute_result"
    }
   ],
   "source": [
    "dataset.head()\n",
    "class_labels.head()\n",
    "true_counts.head()"
   ]
  },
  {
   "cell_type": "markdown",
   "metadata": {},
   "source": [
    "## Clean data"
   ]
  },
  {
   "cell_type": "code",
   "execution_count": 7,
   "metadata": {},
   "outputs": [
    {
     "data": {
      "text/html": [
       "<div>\n",
       "<style scoped>\n",
       "    .dataframe tbody tr th:only-of-type {\n",
       "        vertical-align: middle;\n",
       "    }\n",
       "\n",
       "    .dataframe tbody tr th {\n",
       "        vertical-align: top;\n",
       "    }\n",
       "\n",
       "    .dataframe thead th {\n",
       "        text-align: right;\n",
       "    }\n",
       "</style>\n",
       "<table border=\"1\" class=\"dataframe\">\n",
       "  <thead>\n",
       "    <tr style=\"text-align: right;\">\n",
       "      <th></th>\n",
       "      <th>YTID</th>\n",
       "      <th>start_seconds</th>\n",
       "      <th>end_seconds</th>\n",
       "      <th>positive_labels</th>\n",
       "      <th>recorded_labels</th>\n",
       "    </tr>\n",
       "  </thead>\n",
       "  <tbody>\n",
       "    <tr>\n",
       "      <th>0</th>\n",
       "      <td>--PJHxphWEs</td>\n",
       "      <td>30.0</td>\n",
       "      <td>40.0</td>\n",
       "      <td>\"/m/09x0r,/t/dd00088\"</td>\n",
       "      <td>[/m/09x0r, /t/dd00088]</td>\n",
       "    </tr>\n",
       "    <tr>\n",
       "      <th>1</th>\n",
       "      <td>--ZhevVpy1s</td>\n",
       "      <td>50.0</td>\n",
       "      <td>60.0</td>\n",
       "      <td>\"/m/012xff\"</td>\n",
       "      <td>[/m/012xff]</td>\n",
       "    </tr>\n",
       "    <tr>\n",
       "      <th>2</th>\n",
       "      <td>--aE2O5G5WE</td>\n",
       "      <td>0.0</td>\n",
       "      <td>10.0</td>\n",
       "      <td>\"/m/03fwl,/m/04rlf,/m/09x0r\"</td>\n",
       "      <td>[/m/03fwl, /m/04rlf, /m/09x0r]</td>\n",
       "    </tr>\n",
       "    <tr>\n",
       "      <th>3</th>\n",
       "      <td>--aO5cdqSAg</td>\n",
       "      <td>30.0</td>\n",
       "      <td>40.0</td>\n",
       "      <td>\"/t/dd00003,/t/dd00005\"</td>\n",
       "      <td>[/t/dd00003, /t/dd00005]</td>\n",
       "    </tr>\n",
       "    <tr>\n",
       "      <th>4</th>\n",
       "      <td>--aaILOrkII</td>\n",
       "      <td>200.0</td>\n",
       "      <td>210.0</td>\n",
       "      <td>\"/m/032s66,/m/073cg4\"</td>\n",
       "      <td>[/m/032s66, /m/073cg4]</td>\n",
       "    </tr>\n",
       "  </tbody>\n",
       "</table>\n",
       "</div>"
      ],
      "text/plain": [
       "          YTID  start_seconds  end_seconds               positive_labels  \\\n",
       "0  --PJHxphWEs           30.0         40.0         \"/m/09x0r,/t/dd00088\"   \n",
       "1  --ZhevVpy1s           50.0         60.0                   \"/m/012xff\"   \n",
       "2  --aE2O5G5WE            0.0         10.0  \"/m/03fwl,/m/04rlf,/m/09x0r\"   \n",
       "3  --aO5cdqSAg           30.0         40.0       \"/t/dd00003,/t/dd00005\"   \n",
       "4  --aaILOrkII          200.0        210.0         \"/m/032s66,/m/073cg4\"   \n",
       "\n",
       "                  recorded_labels  \n",
       "0          [/m/09x0r, /t/dd00088]  \n",
       "1                     [/m/012xff]  \n",
       "2  [/m/03fwl, /m/04rlf, /m/09x0r]  \n",
       "3        [/t/dd00003, /t/dd00005]  \n",
       "4          [/m/032s66, /m/073cg4]  "
      ]
     },
     "execution_count": 7,
     "metadata": {},
     "output_type": "execute_result"
    }
   ],
   "source": [
    "dataset = clean_dataset(dataset, mlb)\n",
    "\n",
    "dataset.head()"
   ]
  },
  {
   "cell_type": "code",
   "execution_count": 8,
   "metadata": {},
   "outputs": [
    {
     "data": {
      "text/plain": [
       "YTID               22160\n",
       "start_seconds      22160\n",
       "end_seconds        22160\n",
       "positive_labels    22160\n",
       "recorded_labels    22160\n",
       "dtype: int64"
      ]
     },
     "execution_count": 8,
     "metadata": {},
     "output_type": "execute_result"
    }
   ],
   "source": [
    "dataset.count()"
   ]
  },
  {
   "cell_type": "markdown",
   "metadata": {},
   "source": [
    "## Binarize entire df"
   ]
  },
  {
   "cell_type": "markdown",
   "metadata": {},
   "source": [
    "### Clean true_counts data"
   ]
  },
  {
   "cell_type": "code",
   "execution_count": 9,
   "metadata": {},
   "outputs": [
    {
     "data": {
      "text/html": [
       "<div>\n",
       "<style scoped>\n",
       "    .dataframe tbody tr th:only-of-type {\n",
       "        vertical-align: middle;\n",
       "    }\n",
       "\n",
       "    .dataframe tbody tr th {\n",
       "        vertical-align: top;\n",
       "    }\n",
       "\n",
       "    .dataframe thead th {\n",
       "        text-align: right;\n",
       "    }\n",
       "</style>\n",
       "<table border=\"1\" class=\"dataframe\">\n",
       "  <thead>\n",
       "    <tr style=\"text-align: right;\">\n",
       "      <th></th>\n",
       "      <th>label_id</th>\n",
       "      <th>num_rated</th>\n",
       "      <th>num_true</th>\n",
       "      <th>sound</th>\n",
       "      <th>ratio</th>\n",
       "    </tr>\n",
       "  </thead>\n",
       "  <tbody>\n",
       "    <tr>\n",
       "      <th>0</th>\n",
       "      <td>/m/09x0r</td>\n",
       "      <td>10</td>\n",
       "      <td>10</td>\n",
       "      <td>Speech</td>\n",
       "      <td>1.0</td>\n",
       "    </tr>\n",
       "    <tr>\n",
       "      <th>1</th>\n",
       "      <td>/m/05zppz</td>\n",
       "      <td>10</td>\n",
       "      <td>9</td>\n",
       "      <td>Male speech, man speaking</td>\n",
       "      <td>0.9</td>\n",
       "    </tr>\n",
       "    <tr>\n",
       "      <th>2</th>\n",
       "      <td>/m/02zsn</td>\n",
       "      <td>10</td>\n",
       "      <td>10</td>\n",
       "      <td>Female speech, woman speaking</td>\n",
       "      <td>1.0</td>\n",
       "    </tr>\n",
       "    <tr>\n",
       "      <th>3</th>\n",
       "      <td>/m/0ytgt</td>\n",
       "      <td>9</td>\n",
       "      <td>9</td>\n",
       "      <td>Child speech, kid speaking</td>\n",
       "      <td>1.0</td>\n",
       "    </tr>\n",
       "    <tr>\n",
       "      <th>4</th>\n",
       "      <td>/m/01h8n0</td>\n",
       "      <td>10</td>\n",
       "      <td>8</td>\n",
       "      <td>Conversation</td>\n",
       "      <td>0.8</td>\n",
       "    </tr>\n",
       "  </tbody>\n",
       "</table>\n",
       "</div>"
      ],
      "text/plain": [
       "    label_id  num_rated  num_true                          sound  ratio\n",
       "0   /m/09x0r         10        10                         Speech    1.0\n",
       "1  /m/05zppz         10         9      Male speech, man speaking    0.9\n",
       "2   /m/02zsn         10        10  Female speech, woman speaking    1.0\n",
       "3   /m/0ytgt          9         9     Child speech, kid speaking    1.0\n",
       "4  /m/01h8n0         10         8                   Conversation    0.8"
      ]
     },
     "execution_count": 9,
     "metadata": {},
     "output_type": "execute_result"
    }
   ],
   "source": [
    "true_counts = clean_true_counts(true_counts, class_labels)\n",
    "true_counts.head()"
   ]
  },
  {
   "cell_type": "code",
   "execution_count": 13,
   "metadata": {},
   "outputs": [
    {
     "data": {
      "text/html": [
       "<div>\n",
       "<style scoped>\n",
       "    .dataframe tbody tr th:only-of-type {\n",
       "        vertical-align: middle;\n",
       "    }\n",
       "\n",
       "    .dataframe tbody tr th {\n",
       "        vertical-align: top;\n",
       "    }\n",
       "\n",
       "    .dataframe thead th {\n",
       "        text-align: right;\n",
       "    }\n",
       "</style>\n",
       "<table border=\"1\" class=\"dataframe\">\n",
       "  <thead>\n",
       "    <tr style=\"text-align: right;\">\n",
       "      <th></th>\n",
       "      <th>YTID</th>\n",
       "      <th>start_seconds</th>\n",
       "      <th>end_seconds</th>\n",
       "      <th>positive_labels</th>\n",
       "      <th>/m/01280g</th>\n",
       "      <th>/m/012f08</th>\n",
       "      <th>/m/012ndj</th>\n",
       "      <th>/m/0130jx</th>\n",
       "      <th>/m/0140xf</th>\n",
       "      <th>/m/0145m</th>\n",
       "      <th>...</th>\n",
       "      <th>/t/dd00037</th>\n",
       "      <th>/t/dd00065</th>\n",
       "      <th>/t/dd00066</th>\n",
       "      <th>/t/dd00077</th>\n",
       "      <th>/t/dd00092</th>\n",
       "      <th>/t/dd00121</th>\n",
       "      <th>/t/dd00125</th>\n",
       "      <th>/t/dd00128</th>\n",
       "      <th>/t/dd00129</th>\n",
       "      <th>/t/dd00135</th>\n",
       "    </tr>\n",
       "  </thead>\n",
       "  <tbody>\n",
       "    <tr>\n",
       "      <th>0</th>\n",
       "      <td>--PJHxphWEs</td>\n",
       "      <td>30.0</td>\n",
       "      <td>40.0</td>\n",
       "      <td>\"/m/09x0r,/t/dd00088\"</td>\n",
       "      <td>0</td>\n",
       "      <td>0</td>\n",
       "      <td>0</td>\n",
       "      <td>0</td>\n",
       "      <td>0</td>\n",
       "      <td>0</td>\n",
       "      <td>...</td>\n",
       "      <td>0</td>\n",
       "      <td>0</td>\n",
       "      <td>0</td>\n",
       "      <td>0</td>\n",
       "      <td>0</td>\n",
       "      <td>0</td>\n",
       "      <td>0</td>\n",
       "      <td>0</td>\n",
       "      <td>0</td>\n",
       "      <td>0</td>\n",
       "    </tr>\n",
       "    <tr>\n",
       "      <th>2</th>\n",
       "      <td>--aE2O5G5WE</td>\n",
       "      <td>0.0</td>\n",
       "      <td>10.0</td>\n",
       "      <td>\"/m/03fwl,/m/04rlf,/m/09x0r\"</td>\n",
       "      <td>0</td>\n",
       "      <td>0</td>\n",
       "      <td>0</td>\n",
       "      <td>0</td>\n",
       "      <td>0</td>\n",
       "      <td>0</td>\n",
       "      <td>...</td>\n",
       "      <td>0</td>\n",
       "      <td>0</td>\n",
       "      <td>0</td>\n",
       "      <td>0</td>\n",
       "      <td>0</td>\n",
       "      <td>0</td>\n",
       "      <td>0</td>\n",
       "      <td>0</td>\n",
       "      <td>0</td>\n",
       "      <td>0</td>\n",
       "    </tr>\n",
       "    <tr>\n",
       "      <th>3</th>\n",
       "      <td>--aO5cdqSAg</td>\n",
       "      <td>30.0</td>\n",
       "      <td>40.0</td>\n",
       "      <td>\"/t/dd00003,/t/dd00005\"</td>\n",
       "      <td>0</td>\n",
       "      <td>0</td>\n",
       "      <td>0</td>\n",
       "      <td>0</td>\n",
       "      <td>0</td>\n",
       "      <td>0</td>\n",
       "      <td>...</td>\n",
       "      <td>0</td>\n",
       "      <td>0</td>\n",
       "      <td>0</td>\n",
       "      <td>0</td>\n",
       "      <td>0</td>\n",
       "      <td>0</td>\n",
       "      <td>0</td>\n",
       "      <td>0</td>\n",
       "      <td>0</td>\n",
       "      <td>0</td>\n",
       "    </tr>\n",
       "    <tr>\n",
       "      <th>4</th>\n",
       "      <td>--aaILOrkII</td>\n",
       "      <td>200.0</td>\n",
       "      <td>210.0</td>\n",
       "      <td>\"/m/032s66,/m/073cg4\"</td>\n",
       "      <td>0</td>\n",
       "      <td>0</td>\n",
       "      <td>0</td>\n",
       "      <td>0</td>\n",
       "      <td>0</td>\n",
       "      <td>0</td>\n",
       "      <td>...</td>\n",
       "      <td>0</td>\n",
       "      <td>0</td>\n",
       "      <td>0</td>\n",
       "      <td>0</td>\n",
       "      <td>0</td>\n",
       "      <td>0</td>\n",
       "      <td>0</td>\n",
       "      <td>0</td>\n",
       "      <td>0</td>\n",
       "      <td>0</td>\n",
       "    </tr>\n",
       "    <tr>\n",
       "      <th>6</th>\n",
       "      <td>--ekDLDTUXA</td>\n",
       "      <td>30.0</td>\n",
       "      <td>40.0</td>\n",
       "      <td>\"/m/015lz1,/m/07pws3f\"</td>\n",
       "      <td>0</td>\n",
       "      <td>0</td>\n",
       "      <td>0</td>\n",
       "      <td>0</td>\n",
       "      <td>0</td>\n",
       "      <td>0</td>\n",
       "      <td>...</td>\n",
       "      <td>0</td>\n",
       "      <td>0</td>\n",
       "      <td>0</td>\n",
       "      <td>0</td>\n",
       "      <td>0</td>\n",
       "      <td>0</td>\n",
       "      <td>0</td>\n",
       "      <td>0</td>\n",
       "      <td>0</td>\n",
       "      <td>0</td>\n",
       "    </tr>\n",
       "  </tbody>\n",
       "</table>\n",
       "<p>5 rows × 295 columns</p>\n",
       "</div>"
      ],
      "text/plain": [
       "          YTID  start_seconds  end_seconds               positive_labels  \\\n",
       "0  --PJHxphWEs           30.0         40.0         \"/m/09x0r,/t/dd00088\"   \n",
       "2  --aE2O5G5WE            0.0         10.0  \"/m/03fwl,/m/04rlf,/m/09x0r\"   \n",
       "3  --aO5cdqSAg           30.0         40.0       \"/t/dd00003,/t/dd00005\"   \n",
       "4  --aaILOrkII          200.0        210.0         \"/m/032s66,/m/073cg4\"   \n",
       "6  --ekDLDTUXA           30.0         40.0        \"/m/015lz1,/m/07pws3f\"   \n",
       "\n",
       "   /m/01280g  /m/012f08  /m/012ndj  /m/0130jx  /m/0140xf  /m/0145m  ...  \\\n",
       "0          0          0          0          0          0         0  ...   \n",
       "2          0          0          0          0          0         0  ...   \n",
       "3          0          0          0          0          0         0  ...   \n",
       "4          0          0          0          0          0         0  ...   \n",
       "6          0          0          0          0          0         0  ...   \n",
       "\n",
       "   /t/dd00037  /t/dd00065  /t/dd00066  /t/dd00077  /t/dd00092  /t/dd00121  \\\n",
       "0           0           0           0           0           0           0   \n",
       "2           0           0           0           0           0           0   \n",
       "3           0           0           0           0           0           0   \n",
       "4           0           0           0           0           0           0   \n",
       "6           0           0           0           0           0           0   \n",
       "\n",
       "   /t/dd00125  /t/dd00128  /t/dd00129  /t/dd00135  \n",
       "0           0           0           0           0  \n",
       "2           0           0           0           0  \n",
       "3           0           0           0           0  \n",
       "4           0           0           0           0  \n",
       "6           0           0           0           0  \n",
       "\n",
       "[5 rows x 295 columns]"
      ]
     },
     "execution_count": 13,
     "metadata": {},
     "output_type": "execute_result"
    }
   ],
   "source": [
    "df = get_most_accurate(dataset, true_counts, 0.8, mlb)\n",
    "df = reduce_rows(df)\n",
    "df.head()"
   ]
  },
  {
   "cell_type": "code",
   "execution_count": 14,
   "metadata": {},
   "outputs": [
    {
     "data": {
      "text/plain": [
       "YTID               18117\n",
       "start_seconds      18117\n",
       "end_seconds        18117\n",
       "positive_labels    18117\n",
       "/m/01280g          18117\n",
       "                   ...  \n",
       "/t/dd00121         18117\n",
       "/t/dd00125         18117\n",
       "/t/dd00128         18117\n",
       "/t/dd00129         18117\n",
       "/t/dd00135         18117\n",
       "Length: 295, dtype: int64"
      ]
     },
     "execution_count": 14,
     "metadata": {},
     "output_type": "execute_result"
    }
   ],
   "source": [
    "df.count()"
   ]
  },
  {
   "cell_type": "code",
   "execution_count": 216,
   "metadata": {},
   "outputs": [
    {
     "data": {
      "text/html": [
       "<div>\n",
       "<style scoped>\n",
       "    .dataframe tbody tr th:only-of-type {\n",
       "        vertical-align: middle;\n",
       "    }\n",
       "\n",
       "    .dataframe tbody tr th {\n",
       "        vertical-align: top;\n",
       "    }\n",
       "\n",
       "    .dataframe thead th {\n",
       "        text-align: right;\n",
       "    }\n",
       "</style>\n",
       "<table border=\"1\" class=\"dataframe\">\n",
       "  <thead>\n",
       "    <tr style=\"text-align: right;\">\n",
       "      <th></th>\n",
       "      <th>YTID</th>\n",
       "      <th>start_seconds</th>\n",
       "      <th>end_seconds</th>\n",
       "      <th>positive_labels</th>\n",
       "      <th>/m/01280g</th>\n",
       "      <th>/m/012f08</th>\n",
       "      <th>/m/012ndj</th>\n",
       "      <th>/m/0130jx</th>\n",
       "      <th>/m/0140xf</th>\n",
       "      <th>/m/0145m</th>\n",
       "      <th>...</th>\n",
       "      <th>/t/dd00037</th>\n",
       "      <th>/t/dd00065</th>\n",
       "      <th>/t/dd00066</th>\n",
       "      <th>/t/dd00077</th>\n",
       "      <th>/t/dd00092</th>\n",
       "      <th>/t/dd00121</th>\n",
       "      <th>/t/dd00125</th>\n",
       "      <th>/t/dd00128</th>\n",
       "      <th>/t/dd00129</th>\n",
       "      <th>/t/dd00135</th>\n",
       "    </tr>\n",
       "  </thead>\n",
       "  <tbody>\n",
       "    <tr>\n",
       "      <th>0</th>\n",
       "      <td>--PJHxphWEs</td>\n",
       "      <td>30.0</td>\n",
       "      <td>40.0</td>\n",
       "      <td>\"/m/09x0r,/t/dd00088\"</td>\n",
       "      <td>0</td>\n",
       "      <td>0</td>\n",
       "      <td>0</td>\n",
       "      <td>0</td>\n",
       "      <td>0</td>\n",
       "      <td>0</td>\n",
       "      <td>...</td>\n",
       "      <td>0</td>\n",
       "      <td>0</td>\n",
       "      <td>0</td>\n",
       "      <td>0</td>\n",
       "      <td>0</td>\n",
       "      <td>0</td>\n",
       "      <td>0</td>\n",
       "      <td>0</td>\n",
       "      <td>0</td>\n",
       "      <td>0</td>\n",
       "    </tr>\n",
       "    <tr>\n",
       "      <th>2</th>\n",
       "      <td>--aE2O5G5WE</td>\n",
       "      <td>0.0</td>\n",
       "      <td>10.0</td>\n",
       "      <td>\"/m/03fwl,/m/04rlf,/m/09x0r\"</td>\n",
       "      <td>0</td>\n",
       "      <td>0</td>\n",
       "      <td>0</td>\n",
       "      <td>0</td>\n",
       "      <td>0</td>\n",
       "      <td>0</td>\n",
       "      <td>...</td>\n",
       "      <td>0</td>\n",
       "      <td>0</td>\n",
       "      <td>0</td>\n",
       "      <td>0</td>\n",
       "      <td>0</td>\n",
       "      <td>0</td>\n",
       "      <td>0</td>\n",
       "      <td>0</td>\n",
       "      <td>0</td>\n",
       "      <td>0</td>\n",
       "    </tr>\n",
       "    <tr>\n",
       "      <th>3</th>\n",
       "      <td>--aO5cdqSAg</td>\n",
       "      <td>30.0</td>\n",
       "      <td>40.0</td>\n",
       "      <td>\"/t/dd00003,/t/dd00005\"</td>\n",
       "      <td>0</td>\n",
       "      <td>0</td>\n",
       "      <td>0</td>\n",
       "      <td>0</td>\n",
       "      <td>0</td>\n",
       "      <td>0</td>\n",
       "      <td>...</td>\n",
       "      <td>0</td>\n",
       "      <td>0</td>\n",
       "      <td>0</td>\n",
       "      <td>0</td>\n",
       "      <td>0</td>\n",
       "      <td>0</td>\n",
       "      <td>0</td>\n",
       "      <td>0</td>\n",
       "      <td>0</td>\n",
       "      <td>0</td>\n",
       "    </tr>\n",
       "    <tr>\n",
       "      <th>4</th>\n",
       "      <td>--aaILOrkII</td>\n",
       "      <td>200.0</td>\n",
       "      <td>210.0</td>\n",
       "      <td>\"/m/032s66,/m/073cg4\"</td>\n",
       "      <td>0</td>\n",
       "      <td>0</td>\n",
       "      <td>0</td>\n",
       "      <td>0</td>\n",
       "      <td>0</td>\n",
       "      <td>0</td>\n",
       "      <td>...</td>\n",
       "      <td>0</td>\n",
       "      <td>0</td>\n",
       "      <td>0</td>\n",
       "      <td>0</td>\n",
       "      <td>0</td>\n",
       "      <td>0</td>\n",
       "      <td>0</td>\n",
       "      <td>0</td>\n",
       "      <td>0</td>\n",
       "      <td>0</td>\n",
       "    </tr>\n",
       "    <tr>\n",
       "      <th>6</th>\n",
       "      <td>--ekDLDTUXA</td>\n",
       "      <td>30.0</td>\n",
       "      <td>40.0</td>\n",
       "      <td>\"/m/015lz1,/m/07pws3f\"</td>\n",
       "      <td>0</td>\n",
       "      <td>0</td>\n",
       "      <td>0</td>\n",
       "      <td>0</td>\n",
       "      <td>0</td>\n",
       "      <td>0</td>\n",
       "      <td>...</td>\n",
       "      <td>0</td>\n",
       "      <td>0</td>\n",
       "      <td>0</td>\n",
       "      <td>0</td>\n",
       "      <td>0</td>\n",
       "      <td>0</td>\n",
       "      <td>0</td>\n",
       "      <td>0</td>\n",
       "      <td>0</td>\n",
       "      <td>0</td>\n",
       "    </tr>\n",
       "    <tr>\n",
       "      <th>7</th>\n",
       "      <td>-0DLPzsiXXE</td>\n",
       "      <td>30.0</td>\n",
       "      <td>40.0</td>\n",
       "      <td>\"/m/04rlf,/m/07qwdck\"</td>\n",
       "      <td>0</td>\n",
       "      <td>0</td>\n",
       "      <td>0</td>\n",
       "      <td>0</td>\n",
       "      <td>0</td>\n",
       "      <td>0</td>\n",
       "      <td>...</td>\n",
       "      <td>0</td>\n",
       "      <td>0</td>\n",
       "      <td>0</td>\n",
       "      <td>0</td>\n",
       "      <td>0</td>\n",
       "      <td>0</td>\n",
       "      <td>0</td>\n",
       "      <td>0</td>\n",
       "      <td>0</td>\n",
       "      <td>0</td>\n",
       "    </tr>\n",
       "    <tr>\n",
       "      <th>8</th>\n",
       "      <td>-0DdlOuIFUI</td>\n",
       "      <td>50.0</td>\n",
       "      <td>60.0</td>\n",
       "      <td>\"/m/0130jx,/m/02jz0l,/m/0838f\"</td>\n",
       "      <td>0</td>\n",
       "      <td>0</td>\n",
       "      <td>0</td>\n",
       "      <td>1</td>\n",
       "      <td>0</td>\n",
       "      <td>0</td>\n",
       "      <td>...</td>\n",
       "      <td>0</td>\n",
       "      <td>0</td>\n",
       "      <td>0</td>\n",
       "      <td>0</td>\n",
       "      <td>0</td>\n",
       "      <td>0</td>\n",
       "      <td>0</td>\n",
       "      <td>0</td>\n",
       "      <td>0</td>\n",
       "      <td>0</td>\n",
       "    </tr>\n",
       "    <tr>\n",
       "      <th>9</th>\n",
       "      <td>-0FHUc78Gqo</td>\n",
       "      <td>30.0</td>\n",
       "      <td>40.0</td>\n",
       "      <td>\"/m/02w4v,/m/04rlf\"</td>\n",
       "      <td>0</td>\n",
       "      <td>0</td>\n",
       "      <td>0</td>\n",
       "      <td>0</td>\n",
       "      <td>0</td>\n",
       "      <td>0</td>\n",
       "      <td>...</td>\n",
       "      <td>0</td>\n",
       "      <td>0</td>\n",
       "      <td>0</td>\n",
       "      <td>0</td>\n",
       "      <td>0</td>\n",
       "      <td>0</td>\n",
       "      <td>0</td>\n",
       "      <td>0</td>\n",
       "      <td>0</td>\n",
       "      <td>0</td>\n",
       "    </tr>\n",
       "    <tr>\n",
       "      <th>10</th>\n",
       "      <td>-0O3e95y4gE</td>\n",
       "      <td>100.0</td>\n",
       "      <td>110.0</td>\n",
       "      <td>\"/m/07r4wb8,/t/dd00125\"</td>\n",
       "      <td>0</td>\n",
       "      <td>0</td>\n",
       "      <td>0</td>\n",
       "      <td>0</td>\n",
       "      <td>0</td>\n",
       "      <td>0</td>\n",
       "      <td>...</td>\n",
       "      <td>0</td>\n",
       "      <td>0</td>\n",
       "      <td>0</td>\n",
       "      <td>0</td>\n",
       "      <td>0</td>\n",
       "      <td>0</td>\n",
       "      <td>1</td>\n",
       "      <td>0</td>\n",
       "      <td>0</td>\n",
       "      <td>0</td>\n",
       "    </tr>\n",
       "    <tr>\n",
       "      <th>11</th>\n",
       "      <td>-0SdAVK79lg</td>\n",
       "      <td>30.0</td>\n",
       "      <td>40.0</td>\n",
       "      <td>\"/m/0155w,/m/01lyv,/m/0342h,/m/042v_gx,/m/04rl...</td>\n",
       "      <td>0</td>\n",
       "      <td>0</td>\n",
       "      <td>0</td>\n",
       "      <td>0</td>\n",
       "      <td>0</td>\n",
       "      <td>0</td>\n",
       "      <td>...</td>\n",
       "      <td>0</td>\n",
       "      <td>0</td>\n",
       "      <td>0</td>\n",
       "      <td>0</td>\n",
       "      <td>0</td>\n",
       "      <td>0</td>\n",
       "      <td>0</td>\n",
       "      <td>0</td>\n",
       "      <td>0</td>\n",
       "      <td>0</td>\n",
       "    </tr>\n",
       "    <tr>\n",
       "      <th>12</th>\n",
       "      <td>-0Vl4HyWRk8</td>\n",
       "      <td>410.0</td>\n",
       "      <td>420.0</td>\n",
       "      <td>\"/m/085jw,/m/0l14l2\"</td>\n",
       "      <td>0</td>\n",
       "      <td>0</td>\n",
       "      <td>0</td>\n",
       "      <td>0</td>\n",
       "      <td>0</td>\n",
       "      <td>0</td>\n",
       "      <td>...</td>\n",
       "      <td>0</td>\n",
       "      <td>0</td>\n",
       "      <td>0</td>\n",
       "      <td>0</td>\n",
       "      <td>0</td>\n",
       "      <td>0</td>\n",
       "      <td>0</td>\n",
       "      <td>0</td>\n",
       "      <td>0</td>\n",
       "      <td>0</td>\n",
       "    </tr>\n",
       "    <tr>\n",
       "      <th>13</th>\n",
       "      <td>-0mG4W5Hlq8</td>\n",
       "      <td>270.0</td>\n",
       "      <td>280.0</td>\n",
       "      <td>\"/m/04rlf,/m/05fw6t,/m/07r4k75,/m/09x0r,/m/0ytgt\"</td>\n",
       "      <td>0</td>\n",
       "      <td>0</td>\n",
       "      <td>0</td>\n",
       "      <td>0</td>\n",
       "      <td>0</td>\n",
       "      <td>0</td>\n",
       "      <td>...</td>\n",
       "      <td>0</td>\n",
       "      <td>0</td>\n",
       "      <td>0</td>\n",
       "      <td>0</td>\n",
       "      <td>0</td>\n",
       "      <td>0</td>\n",
       "      <td>0</td>\n",
       "      <td>0</td>\n",
       "      <td>0</td>\n",
       "      <td>0</td>\n",
       "    </tr>\n",
       "    <tr>\n",
       "      <th>15</th>\n",
       "      <td>-11LhdJgBb8</td>\n",
       "      <td>30.0</td>\n",
       "      <td>40.0</td>\n",
       "      <td>\"/m/04rlf,/m/07qn4z3\"</td>\n",
       "      <td>0</td>\n",
       "      <td>0</td>\n",
       "      <td>0</td>\n",
       "      <td>0</td>\n",
       "      <td>0</td>\n",
       "      <td>0</td>\n",
       "      <td>...</td>\n",
       "      <td>0</td>\n",
       "      <td>0</td>\n",
       "      <td>0</td>\n",
       "      <td>0</td>\n",
       "      <td>0</td>\n",
       "      <td>0</td>\n",
       "      <td>0</td>\n",
       "      <td>0</td>\n",
       "      <td>0</td>\n",
       "      <td>0</td>\n",
       "    </tr>\n",
       "    <tr>\n",
       "      <th>16</th>\n",
       "      <td>-1LrH01Ei1w</td>\n",
       "      <td>30.0</td>\n",
       "      <td>40.0</td>\n",
       "      <td>\"/m/02p0sh1,/m/04rlf\"</td>\n",
       "      <td>0</td>\n",
       "      <td>0</td>\n",
       "      <td>0</td>\n",
       "      <td>0</td>\n",
       "      <td>0</td>\n",
       "      <td>0</td>\n",
       "      <td>...</td>\n",
       "      <td>0</td>\n",
       "      <td>0</td>\n",
       "      <td>0</td>\n",
       "      <td>0</td>\n",
       "      <td>0</td>\n",
       "      <td>0</td>\n",
       "      <td>0</td>\n",
       "      <td>0</td>\n",
       "      <td>0</td>\n",
       "      <td>0</td>\n",
       "    </tr>\n",
       "    <tr>\n",
       "      <th>17</th>\n",
       "      <td>-1TLtjPtnms</td>\n",
       "      <td>10.0</td>\n",
       "      <td>20.0</td>\n",
       "      <td>\"/m/03lty,/m/04rlf,/m/07szfh9\"</td>\n",
       "      <td>0</td>\n",
       "      <td>0</td>\n",
       "      <td>0</td>\n",
       "      <td>0</td>\n",
       "      <td>0</td>\n",
       "      <td>0</td>\n",
       "      <td>...</td>\n",
       "      <td>0</td>\n",
       "      <td>0</td>\n",
       "      <td>0</td>\n",
       "      <td>0</td>\n",
       "      <td>0</td>\n",
       "      <td>0</td>\n",
       "      <td>0</td>\n",
       "      <td>0</td>\n",
       "      <td>0</td>\n",
       "      <td>0</td>\n",
       "    </tr>\n",
       "    <tr>\n",
       "      <th>18</th>\n",
       "      <td>-1iKLvsRBbE</td>\n",
       "      <td>80.0</td>\n",
       "      <td>90.0</td>\n",
       "      <td>\"/m/015lz1,/m/07pws3f\"</td>\n",
       "      <td>0</td>\n",
       "      <td>0</td>\n",
       "      <td>0</td>\n",
       "      <td>0</td>\n",
       "      <td>0</td>\n",
       "      <td>0</td>\n",
       "      <td>...</td>\n",
       "      <td>0</td>\n",
       "      <td>0</td>\n",
       "      <td>0</td>\n",
       "      <td>0</td>\n",
       "      <td>0</td>\n",
       "      <td>0</td>\n",
       "      <td>0</td>\n",
       "      <td>0</td>\n",
       "      <td>0</td>\n",
       "      <td>0</td>\n",
       "    </tr>\n",
       "    <tr>\n",
       "      <th>19</th>\n",
       "      <td>-24dqQM_rDk</td>\n",
       "      <td>30.0</td>\n",
       "      <td>40.0</td>\n",
       "      <td>\"/m/04rlf,/t/dd00003\"</td>\n",
       "      <td>0</td>\n",
       "      <td>0</td>\n",
       "      <td>0</td>\n",
       "      <td>0</td>\n",
       "      <td>0</td>\n",
       "      <td>0</td>\n",
       "      <td>...</td>\n",
       "      <td>0</td>\n",
       "      <td>0</td>\n",
       "      <td>0</td>\n",
       "      <td>0</td>\n",
       "      <td>0</td>\n",
       "      <td>0</td>\n",
       "      <td>0</td>\n",
       "      <td>0</td>\n",
       "      <td>0</td>\n",
       "      <td>0</td>\n",
       "    </tr>\n",
       "    <tr>\n",
       "      <th>20</th>\n",
       "      <td>-275_wTLm-4</td>\n",
       "      <td>7.0</td>\n",
       "      <td>17.0</td>\n",
       "      <td>\"/m/07q6cd_\"</td>\n",
       "      <td>0</td>\n",
       "      <td>0</td>\n",
       "      <td>0</td>\n",
       "      <td>0</td>\n",
       "      <td>0</td>\n",
       "      <td>0</td>\n",
       "      <td>...</td>\n",
       "      <td>0</td>\n",
       "      <td>0</td>\n",
       "      <td>0</td>\n",
       "      <td>0</td>\n",
       "      <td>0</td>\n",
       "      <td>0</td>\n",
       "      <td>0</td>\n",
       "      <td>0</td>\n",
       "      <td>0</td>\n",
       "      <td>0</td>\n",
       "    </tr>\n",
       "    <tr>\n",
       "      <th>22</th>\n",
       "      <td>-2PDE7hUArE</td>\n",
       "      <td>30.0</td>\n",
       "      <td>40.0</td>\n",
       "      <td>\"/m/02mk9,/m/07pb8fc,/t/dd00066\"</td>\n",
       "      <td>0</td>\n",
       "      <td>0</td>\n",
       "      <td>0</td>\n",
       "      <td>0</td>\n",
       "      <td>0</td>\n",
       "      <td>0</td>\n",
       "      <td>...</td>\n",
       "      <td>0</td>\n",
       "      <td>0</td>\n",
       "      <td>1</td>\n",
       "      <td>0</td>\n",
       "      <td>0</td>\n",
       "      <td>0</td>\n",
       "      <td>0</td>\n",
       "      <td>0</td>\n",
       "      <td>0</td>\n",
       "      <td>0</td>\n",
       "    </tr>\n",
       "    <tr>\n",
       "      <th>23</th>\n",
       "      <td>-2X03mO3T_U</td>\n",
       "      <td>30.0</td>\n",
       "      <td>40.0</td>\n",
       "      <td>\"/m/04k94,/m/0dv3j\"</td>\n",
       "      <td>0</td>\n",
       "      <td>0</td>\n",
       "      <td>0</td>\n",
       "      <td>0</td>\n",
       "      <td>0</td>\n",
       "      <td>0</td>\n",
       "      <td>...</td>\n",
       "      <td>0</td>\n",
       "      <td>0</td>\n",
       "      <td>0</td>\n",
       "      <td>0</td>\n",
       "      <td>0</td>\n",
       "      <td>0</td>\n",
       "      <td>0</td>\n",
       "      <td>0</td>\n",
       "      <td>0</td>\n",
       "      <td>0</td>\n",
       "    </tr>\n",
       "    <tr>\n",
       "      <th>24</th>\n",
       "      <td>-2hQKCE-oTI</td>\n",
       "      <td>30.0</td>\n",
       "      <td>40.0</td>\n",
       "      <td>\"/m/07pbtc8\"</td>\n",
       "      <td>0</td>\n",
       "      <td>0</td>\n",
       "      <td>0</td>\n",
       "      <td>0</td>\n",
       "      <td>0</td>\n",
       "      <td>0</td>\n",
       "      <td>...</td>\n",
       "      <td>0</td>\n",
       "      <td>0</td>\n",
       "      <td>0</td>\n",
       "      <td>0</td>\n",
       "      <td>0</td>\n",
       "      <td>0</td>\n",
       "      <td>0</td>\n",
       "      <td>0</td>\n",
       "      <td>0</td>\n",
       "      <td>0</td>\n",
       "    </tr>\n",
       "    <tr>\n",
       "      <th>25</th>\n",
       "      <td>-30H9V1IKps</td>\n",
       "      <td>6.0</td>\n",
       "      <td>16.0</td>\n",
       "      <td>\"/m/07yv9,/m/09x0r,/m/0gvgw0\"</td>\n",
       "      <td>0</td>\n",
       "      <td>0</td>\n",
       "      <td>0</td>\n",
       "      <td>0</td>\n",
       "      <td>0</td>\n",
       "      <td>0</td>\n",
       "      <td>...</td>\n",
       "      <td>0</td>\n",
       "      <td>0</td>\n",
       "      <td>0</td>\n",
       "      <td>0</td>\n",
       "      <td>0</td>\n",
       "      <td>0</td>\n",
       "      <td>0</td>\n",
       "      <td>0</td>\n",
       "      <td>0</td>\n",
       "      <td>0</td>\n",
       "    </tr>\n",
       "    <tr>\n",
       "      <th>26</th>\n",
       "      <td>-38Qgsbh7NQ</td>\n",
       "      <td>100.0</td>\n",
       "      <td>110.0</td>\n",
       "      <td>\"/m/013y1f,/m/03xq_f\"</td>\n",
       "      <td>0</td>\n",
       "      <td>0</td>\n",
       "      <td>0</td>\n",
       "      <td>0</td>\n",
       "      <td>0</td>\n",
       "      <td>0</td>\n",
       "      <td>...</td>\n",
       "      <td>0</td>\n",
       "      <td>0</td>\n",
       "      <td>0</td>\n",
       "      <td>0</td>\n",
       "      <td>0</td>\n",
       "      <td>0</td>\n",
       "      <td>0</td>\n",
       "      <td>0</td>\n",
       "      <td>0</td>\n",
       "      <td>0</td>\n",
       "    </tr>\n",
       "    <tr>\n",
       "      <th>27</th>\n",
       "      <td>-3HYdaJyF4U</td>\n",
       "      <td>30.0</td>\n",
       "      <td>40.0</td>\n",
       "      <td>\"/m/04rlf,/m/06rqw\"</td>\n",
       "      <td>0</td>\n",
       "      <td>0</td>\n",
       "      <td>0</td>\n",
       "      <td>0</td>\n",
       "      <td>0</td>\n",
       "      <td>0</td>\n",
       "      <td>...</td>\n",
       "      <td>0</td>\n",
       "      <td>0</td>\n",
       "      <td>0</td>\n",
       "      <td>0</td>\n",
       "      <td>0</td>\n",
       "      <td>0</td>\n",
       "      <td>0</td>\n",
       "      <td>0</td>\n",
       "      <td>0</td>\n",
       "      <td>0</td>\n",
       "    </tr>\n",
       "    <tr>\n",
       "      <th>28</th>\n",
       "      <td>-3IGxVTJvgI</td>\n",
       "      <td>30.0</td>\n",
       "      <td>40.0</td>\n",
       "      <td>\"/m/06bz3,/m/09x0r\"</td>\n",
       "      <td>0</td>\n",
       "      <td>0</td>\n",
       "      <td>0</td>\n",
       "      <td>0</td>\n",
       "      <td>0</td>\n",
       "      <td>0</td>\n",
       "      <td>...</td>\n",
       "      <td>0</td>\n",
       "      <td>0</td>\n",
       "      <td>0</td>\n",
       "      <td>0</td>\n",
       "      <td>0</td>\n",
       "      <td>0</td>\n",
       "      <td>0</td>\n",
       "      <td>0</td>\n",
       "      <td>0</td>\n",
       "      <td>0</td>\n",
       "    </tr>\n",
       "    <tr>\n",
       "      <th>29</th>\n",
       "      <td>-3IYpJfLVJk</td>\n",
       "      <td>30.0</td>\n",
       "      <td>40.0</td>\n",
       "      <td>\"/m/03k3r,/m/07q5rw0,/m/0jbk\"</td>\n",
       "      <td>0</td>\n",
       "      <td>0</td>\n",
       "      <td>0</td>\n",
       "      <td>0</td>\n",
       "      <td>0</td>\n",
       "      <td>0</td>\n",
       "      <td>...</td>\n",
       "      <td>0</td>\n",
       "      <td>0</td>\n",
       "      <td>0</td>\n",
       "      <td>0</td>\n",
       "      <td>0</td>\n",
       "      <td>0</td>\n",
       "      <td>0</td>\n",
       "      <td>0</td>\n",
       "      <td>0</td>\n",
       "      <td>0</td>\n",
       "    </tr>\n",
       "    <tr>\n",
       "      <th>30</th>\n",
       "      <td>-3hKkjKmIGE</td>\n",
       "      <td>30.0</td>\n",
       "      <td>40.0</td>\n",
       "      <td>\"/m/019jd,/m/06q74\"</td>\n",
       "      <td>0</td>\n",
       "      <td>0</td>\n",
       "      <td>0</td>\n",
       "      <td>0</td>\n",
       "      <td>0</td>\n",
       "      <td>0</td>\n",
       "      <td>...</td>\n",
       "      <td>0</td>\n",
       "      <td>0</td>\n",
       "      <td>0</td>\n",
       "      <td>0</td>\n",
       "      <td>0</td>\n",
       "      <td>0</td>\n",
       "      <td>0</td>\n",
       "      <td>0</td>\n",
       "      <td>0</td>\n",
       "      <td>0</td>\n",
       "    </tr>\n",
       "    <tr>\n",
       "      <th>31</th>\n",
       "      <td>-3pPrlCm6gg</td>\n",
       "      <td>30.0</td>\n",
       "      <td>40.0</td>\n",
       "      <td>\"/m/01wy6\"</td>\n",
       "      <td>0</td>\n",
       "      <td>0</td>\n",
       "      <td>0</td>\n",
       "      <td>0</td>\n",
       "      <td>0</td>\n",
       "      <td>0</td>\n",
       "      <td>...</td>\n",
       "      <td>0</td>\n",
       "      <td>0</td>\n",
       "      <td>0</td>\n",
       "      <td>0</td>\n",
       "      <td>0</td>\n",
       "      <td>0</td>\n",
       "      <td>0</td>\n",
       "      <td>0</td>\n",
       "      <td>0</td>\n",
       "      <td>0</td>\n",
       "    </tr>\n",
       "    <tr>\n",
       "      <th>32</th>\n",
       "      <td>-4NLarMj4xU</td>\n",
       "      <td>30.0</td>\n",
       "      <td>40.0</td>\n",
       "      <td>\"/m/04rlf,/t/dd00034\"</td>\n",
       "      <td>0</td>\n",
       "      <td>0</td>\n",
       "      <td>0</td>\n",
       "      <td>0</td>\n",
       "      <td>0</td>\n",
       "      <td>0</td>\n",
       "      <td>...</td>\n",
       "      <td>0</td>\n",
       "      <td>0</td>\n",
       "      <td>0</td>\n",
       "      <td>0</td>\n",
       "      <td>0</td>\n",
       "      <td>0</td>\n",
       "      <td>0</td>\n",
       "      <td>0</td>\n",
       "      <td>0</td>\n",
       "      <td>0</td>\n",
       "    </tr>\n",
       "    <tr>\n",
       "      <th>33</th>\n",
       "      <td>-4RWqM0UCCY</td>\n",
       "      <td>0.0</td>\n",
       "      <td>10.0</td>\n",
       "      <td>\"/m/012n7d,/m/02mfyn,/m/03j1ly,/m/03kmc9\"</td>\n",
       "      <td>0</td>\n",
       "      <td>0</td>\n",
       "      <td>0</td>\n",
       "      <td>0</td>\n",
       "      <td>0</td>\n",
       "      <td>0</td>\n",
       "      <td>...</td>\n",
       "      <td>0</td>\n",
       "      <td>0</td>\n",
       "      <td>0</td>\n",
       "      <td>0</td>\n",
       "      <td>0</td>\n",
       "      <td>0</td>\n",
       "      <td>0</td>\n",
       "      <td>0</td>\n",
       "      <td>0</td>\n",
       "      <td>0</td>\n",
       "    </tr>\n",
       "    <tr>\n",
       "      <th>34</th>\n",
       "      <td>-4hZyOdm7EI</td>\n",
       "      <td>200.0</td>\n",
       "      <td>210.0</td>\n",
       "      <td>\"/m/015lz1,/m/015vgc\"</td>\n",
       "      <td>0</td>\n",
       "      <td>0</td>\n",
       "      <td>0</td>\n",
       "      <td>0</td>\n",
       "      <td>0</td>\n",
       "      <td>0</td>\n",
       "      <td>...</td>\n",
       "      <td>0</td>\n",
       "      <td>0</td>\n",
       "      <td>0</td>\n",
       "      <td>0</td>\n",
       "      <td>0</td>\n",
       "      <td>0</td>\n",
       "      <td>0</td>\n",
       "      <td>0</td>\n",
       "      <td>0</td>\n",
       "      <td>0</td>\n",
       "    </tr>\n",
       "    <tr>\n",
       "      <th>36</th>\n",
       "      <td>-5-vmt2iKT0</td>\n",
       "      <td>30.0</td>\n",
       "      <td>40.0</td>\n",
       "      <td>\"/m/02zsn,/m/09x0r\"</td>\n",
       "      <td>0</td>\n",
       "      <td>0</td>\n",
       "      <td>0</td>\n",
       "      <td>0</td>\n",
       "      <td>0</td>\n",
       "      <td>0</td>\n",
       "      <td>...</td>\n",
       "      <td>0</td>\n",
       "      <td>0</td>\n",
       "      <td>0</td>\n",
       "      <td>0</td>\n",
       "      <td>0</td>\n",
       "      <td>0</td>\n",
       "      <td>0</td>\n",
       "      <td>0</td>\n",
       "      <td>0</td>\n",
       "      <td>0</td>\n",
       "    </tr>\n",
       "    <tr>\n",
       "      <th>38</th>\n",
       "      <td>-5GhUbDLYkQ</td>\n",
       "      <td>16.0</td>\n",
       "      <td>26.0</td>\n",
       "      <td>\"/m/0130jx,/m/02jz0l,/m/0838f\"</td>\n",
       "      <td>0</td>\n",
       "      <td>0</td>\n",
       "      <td>0</td>\n",
       "      <td>1</td>\n",
       "      <td>0</td>\n",
       "      <td>0</td>\n",
       "      <td>...</td>\n",
       "      <td>0</td>\n",
       "      <td>0</td>\n",
       "      <td>0</td>\n",
       "      <td>0</td>\n",
       "      <td>0</td>\n",
       "      <td>0</td>\n",
       "      <td>0</td>\n",
       "      <td>0</td>\n",
       "      <td>0</td>\n",
       "      <td>0</td>\n",
       "    </tr>\n",
       "    <tr>\n",
       "      <th>39</th>\n",
       "      <td>-5Jlimvsuwo</td>\n",
       "      <td>90.0</td>\n",
       "      <td>100.0</td>\n",
       "      <td>\"/m/011k_j,/m/04rlf\"</td>\n",
       "      <td>0</td>\n",
       "      <td>0</td>\n",
       "      <td>0</td>\n",
       "      <td>0</td>\n",
       "      <td>0</td>\n",
       "      <td>0</td>\n",
       "      <td>...</td>\n",
       "      <td>0</td>\n",
       "      <td>0</td>\n",
       "      <td>0</td>\n",
       "      <td>0</td>\n",
       "      <td>0</td>\n",
       "      <td>0</td>\n",
       "      <td>0</td>\n",
       "      <td>0</td>\n",
       "      <td>0</td>\n",
       "      <td>0</td>\n",
       "    </tr>\n",
       "    <tr>\n",
       "      <th>41</th>\n",
       "      <td>-5S70zOSw30</td>\n",
       "      <td>30.0</td>\n",
       "      <td>40.0</td>\n",
       "      <td>\"/m/030rvx,/m/07pzfmf,/m/09x0r\"</td>\n",
       "      <td>0</td>\n",
       "      <td>0</td>\n",
       "      <td>0</td>\n",
       "      <td>0</td>\n",
       "      <td>0</td>\n",
       "      <td>0</td>\n",
       "      <td>...</td>\n",
       "      <td>0</td>\n",
       "      <td>0</td>\n",
       "      <td>0</td>\n",
       "      <td>0</td>\n",
       "      <td>0</td>\n",
       "      <td>0</td>\n",
       "      <td>0</td>\n",
       "      <td>0</td>\n",
       "      <td>0</td>\n",
       "      <td>0</td>\n",
       "    </tr>\n",
       "    <tr>\n",
       "      <th>42</th>\n",
       "      <td>-5f6hjZf9Yw</td>\n",
       "      <td>30.0</td>\n",
       "      <td>40.0</td>\n",
       "      <td>\"/m/02w4v,/m/04rlf\"</td>\n",
       "      <td>0</td>\n",
       "      <td>0</td>\n",
       "      <td>0</td>\n",
       "      <td>0</td>\n",
       "      <td>0</td>\n",
       "      <td>0</td>\n",
       "      <td>...</td>\n",
       "      <td>0</td>\n",
       "      <td>0</td>\n",
       "      <td>0</td>\n",
       "      <td>0</td>\n",
       "      <td>0</td>\n",
       "      <td>0</td>\n",
       "      <td>0</td>\n",
       "      <td>0</td>\n",
       "      <td>0</td>\n",
       "      <td>0</td>\n",
       "    </tr>\n",
       "    <tr>\n",
       "      <th>43</th>\n",
       "      <td>-5xOcMJpTUk</td>\n",
       "      <td>70.0</td>\n",
       "      <td>80.0</td>\n",
       "      <td>\"/m/018vs,/m/0342h,/m/042v_gx,/m/04rlf,/m/04sz...</td>\n",
       "      <td>0</td>\n",
       "      <td>0</td>\n",
       "      <td>0</td>\n",
       "      <td>0</td>\n",
       "      <td>0</td>\n",
       "      <td>0</td>\n",
       "      <td>...</td>\n",
       "      <td>0</td>\n",
       "      <td>0</td>\n",
       "      <td>0</td>\n",
       "      <td>0</td>\n",
       "      <td>0</td>\n",
       "      <td>0</td>\n",
       "      <td>0</td>\n",
       "      <td>0</td>\n",
       "      <td>0</td>\n",
       "      <td>0</td>\n",
       "    </tr>\n",
       "    <tr>\n",
       "      <th>44</th>\n",
       "      <td>-60XojQWWoc</td>\n",
       "      <td>30.0</td>\n",
       "      <td>40.0</td>\n",
       "      <td>\"/m/02rhddq,/m/07r04,/m/07yv9\"</td>\n",
       "      <td>0</td>\n",
       "      <td>0</td>\n",
       "      <td>0</td>\n",
       "      <td>0</td>\n",
       "      <td>0</td>\n",
       "      <td>0</td>\n",
       "      <td>...</td>\n",
       "      <td>0</td>\n",
       "      <td>0</td>\n",
       "      <td>0</td>\n",
       "      <td>0</td>\n",
       "      <td>0</td>\n",
       "      <td>0</td>\n",
       "      <td>0</td>\n",
       "      <td>0</td>\n",
       "      <td>0</td>\n",
       "      <td>0</td>\n",
       "    </tr>\n",
       "    <tr>\n",
       "      <th>45</th>\n",
       "      <td>-64xnyOswXA</td>\n",
       "      <td>120.0</td>\n",
       "      <td>130.0</td>\n",
       "      <td>\"/m/0cdnk\"</td>\n",
       "      <td>0</td>\n",
       "      <td>0</td>\n",
       "      <td>0</td>\n",
       "      <td>0</td>\n",
       "      <td>0</td>\n",
       "      <td>0</td>\n",
       "      <td>...</td>\n",
       "      <td>0</td>\n",
       "      <td>0</td>\n",
       "      <td>0</td>\n",
       "      <td>0</td>\n",
       "      <td>0</td>\n",
       "      <td>0</td>\n",
       "      <td>0</td>\n",
       "      <td>0</td>\n",
       "      <td>0</td>\n",
       "      <td>0</td>\n",
       "    </tr>\n",
       "    <tr>\n",
       "      <th>46</th>\n",
       "      <td>-693sNKI3iM</td>\n",
       "      <td>30.0</td>\n",
       "      <td>40.0</td>\n",
       "      <td>\"/m/015lz1,/m/01swy6,/m/04rlf\"</td>\n",
       "      <td>0</td>\n",
       "      <td>0</td>\n",
       "      <td>0</td>\n",
       "      <td>0</td>\n",
       "      <td>0</td>\n",
       "      <td>0</td>\n",
       "      <td>...</td>\n",
       "      <td>0</td>\n",
       "      <td>0</td>\n",
       "      <td>0</td>\n",
       "      <td>0</td>\n",
       "      <td>0</td>\n",
       "      <td>0</td>\n",
       "      <td>0</td>\n",
       "      <td>0</td>\n",
       "      <td>0</td>\n",
       "      <td>0</td>\n",
       "    </tr>\n",
       "    <tr>\n",
       "      <th>47</th>\n",
       "      <td>-6QGvxvaTkI</td>\n",
       "      <td>280.0</td>\n",
       "      <td>290.0</td>\n",
       "      <td>\"/m/01p970,/m/026t6,/m/0l14md\"</td>\n",
       "      <td>0</td>\n",
       "      <td>0</td>\n",
       "      <td>0</td>\n",
       "      <td>0</td>\n",
       "      <td>0</td>\n",
       "      <td>0</td>\n",
       "      <td>...</td>\n",
       "      <td>0</td>\n",
       "      <td>0</td>\n",
       "      <td>0</td>\n",
       "      <td>0</td>\n",
       "      <td>0</td>\n",
       "      <td>0</td>\n",
       "      <td>0</td>\n",
       "      <td>0</td>\n",
       "      <td>0</td>\n",
       "      <td>0</td>\n",
       "    </tr>\n",
       "    <tr>\n",
       "      <th>48</th>\n",
       "      <td>-6RN8skIHU4</td>\n",
       "      <td>20.0</td>\n",
       "      <td>30.0</td>\n",
       "      <td>\"/m/09x0r,/m/0dv5r,/t/dd00125\"</td>\n",
       "      <td>0</td>\n",
       "      <td>0</td>\n",
       "      <td>0</td>\n",
       "      <td>0</td>\n",
       "      <td>0</td>\n",
       "      <td>0</td>\n",
       "      <td>...</td>\n",
       "      <td>0</td>\n",
       "      <td>0</td>\n",
       "      <td>0</td>\n",
       "      <td>0</td>\n",
       "      <td>0</td>\n",
       "      <td>0</td>\n",
       "      <td>1</td>\n",
       "      <td>0</td>\n",
       "      <td>0</td>\n",
       "      <td>0</td>\n",
       "    </tr>\n",
       "    <tr>\n",
       "      <th>50</th>\n",
       "      <td>-6gC_nlUBfA</td>\n",
       "      <td>60.0</td>\n",
       "      <td>70.0</td>\n",
       "      <td>\"/m/02y_763,/m/09x0r\"</td>\n",
       "      <td>0</td>\n",
       "      <td>0</td>\n",
       "      <td>0</td>\n",
       "      <td>0</td>\n",
       "      <td>0</td>\n",
       "      <td>0</td>\n",
       "      <td>...</td>\n",
       "      <td>0</td>\n",
       "      <td>0</td>\n",
       "      <td>0</td>\n",
       "      <td>0</td>\n",
       "      <td>0</td>\n",
       "      <td>0</td>\n",
       "      <td>0</td>\n",
       "      <td>0</td>\n",
       "      <td>0</td>\n",
       "      <td>0</td>\n",
       "    </tr>\n",
       "    <tr>\n",
       "      <th>51</th>\n",
       "      <td>-6krAYK2LLo</td>\n",
       "      <td>30.0</td>\n",
       "      <td>40.0</td>\n",
       "      <td>\"/m/04rlf,/m/06j64v,/m/0l14gg\"</td>\n",
       "      <td>0</td>\n",
       "      <td>0</td>\n",
       "      <td>0</td>\n",
       "      <td>0</td>\n",
       "      <td>0</td>\n",
       "      <td>0</td>\n",
       "      <td>...</td>\n",
       "      <td>0</td>\n",
       "      <td>0</td>\n",
       "      <td>0</td>\n",
       "      <td>0</td>\n",
       "      <td>0</td>\n",
       "      <td>0</td>\n",
       "      <td>0</td>\n",
       "      <td>0</td>\n",
       "      <td>0</td>\n",
       "      <td>0</td>\n",
       "    </tr>\n",
       "    <tr>\n",
       "      <th>52</th>\n",
       "      <td>-6pcgdLfb_A</td>\n",
       "      <td>110.0</td>\n",
       "      <td>120.0</td>\n",
       "      <td>\"/m/04rlf,/t/dd00035\"</td>\n",
       "      <td>0</td>\n",
       "      <td>0</td>\n",
       "      <td>0</td>\n",
       "      <td>0</td>\n",
       "      <td>0</td>\n",
       "      <td>0</td>\n",
       "      <td>...</td>\n",
       "      <td>0</td>\n",
       "      <td>0</td>\n",
       "      <td>0</td>\n",
       "      <td>0</td>\n",
       "      <td>0</td>\n",
       "      <td>0</td>\n",
       "      <td>0</td>\n",
       "      <td>0</td>\n",
       "      <td>0</td>\n",
       "      <td>0</td>\n",
       "    </tr>\n",
       "    <tr>\n",
       "      <th>53</th>\n",
       "      <td>-6sgMgtW91g</td>\n",
       "      <td>20.0</td>\n",
       "      <td>30.0</td>\n",
       "      <td>\"/m/04rlf,/m/05rj2,/m/09x0r\"</td>\n",
       "      <td>0</td>\n",
       "      <td>0</td>\n",
       "      <td>0</td>\n",
       "      <td>0</td>\n",
       "      <td>0</td>\n",
       "      <td>0</td>\n",
       "      <td>...</td>\n",
       "      <td>0</td>\n",
       "      <td>0</td>\n",
       "      <td>0</td>\n",
       "      <td>0</td>\n",
       "      <td>0</td>\n",
       "      <td>0</td>\n",
       "      <td>0</td>\n",
       "      <td>0</td>\n",
       "      <td>0</td>\n",
       "      <td>0</td>\n",
       "    </tr>\n",
       "    <tr>\n",
       "      <th>54</th>\n",
       "      <td>-6x2PtSRfJU</td>\n",
       "      <td>30.0</td>\n",
       "      <td>40.0</td>\n",
       "      <td>\"/m/01yrx,/m/068hy,/m/07qrkrw,/m/09x0r\"</td>\n",
       "      <td>0</td>\n",
       "      <td>0</td>\n",
       "      <td>0</td>\n",
       "      <td>0</td>\n",
       "      <td>0</td>\n",
       "      <td>0</td>\n",
       "      <td>...</td>\n",
       "      <td>0</td>\n",
       "      <td>0</td>\n",
       "      <td>0</td>\n",
       "      <td>0</td>\n",
       "      <td>0</td>\n",
       "      <td>0</td>\n",
       "      <td>0</td>\n",
       "      <td>0</td>\n",
       "      <td>0</td>\n",
       "      <td>0</td>\n",
       "    </tr>\n",
       "    <tr>\n",
       "      <th>55</th>\n",
       "      <td>-70MzkgSsHQ</td>\n",
       "      <td>30.0</td>\n",
       "      <td>40.0</td>\n",
       "      <td>\"/m/04rlf,/m/04rzd\"</td>\n",
       "      <td>0</td>\n",
       "      <td>0</td>\n",
       "      <td>0</td>\n",
       "      <td>0</td>\n",
       "      <td>0</td>\n",
       "      <td>0</td>\n",
       "      <td>...</td>\n",
       "      <td>0</td>\n",
       "      <td>0</td>\n",
       "      <td>0</td>\n",
       "      <td>0</td>\n",
       "      <td>0</td>\n",
       "      <td>0</td>\n",
       "      <td>0</td>\n",
       "      <td>0</td>\n",
       "      <td>0</td>\n",
       "      <td>0</td>\n",
       "    </tr>\n",
       "    <tr>\n",
       "      <th>57</th>\n",
       "      <td>-75IwDlkzDQ</td>\n",
       "      <td>30.0</td>\n",
       "      <td>40.0</td>\n",
       "      <td>\"/m/01h82_,/m/02mk9\"</td>\n",
       "      <td>0</td>\n",
       "      <td>0</td>\n",
       "      <td>0</td>\n",
       "      <td>0</td>\n",
       "      <td>0</td>\n",
       "      <td>0</td>\n",
       "      <td>...</td>\n",
       "      <td>0</td>\n",
       "      <td>0</td>\n",
       "      <td>0</td>\n",
       "      <td>0</td>\n",
       "      <td>0</td>\n",
       "      <td>0</td>\n",
       "      <td>0</td>\n",
       "      <td>0</td>\n",
       "      <td>0</td>\n",
       "      <td>0</td>\n",
       "    </tr>\n",
       "    <tr>\n",
       "      <th>59</th>\n",
       "      <td>-7J4109yM7w</td>\n",
       "      <td>30.0</td>\n",
       "      <td>40.0</td>\n",
       "      <td>\"/m/02mk9,/m/07yv9,/t/dd00130\"</td>\n",
       "      <td>0</td>\n",
       "      <td>0</td>\n",
       "      <td>0</td>\n",
       "      <td>0</td>\n",
       "      <td>0</td>\n",
       "      <td>0</td>\n",
       "      <td>...</td>\n",
       "      <td>0</td>\n",
       "      <td>0</td>\n",
       "      <td>0</td>\n",
       "      <td>0</td>\n",
       "      <td>0</td>\n",
       "      <td>0</td>\n",
       "      <td>0</td>\n",
       "      <td>0</td>\n",
       "      <td>0</td>\n",
       "      <td>0</td>\n",
       "    </tr>\n",
       "  </tbody>\n",
       "</table>\n",
       "<p>50 rows × 295 columns</p>\n",
       "</div>"
      ],
      "text/plain": [
       "           YTID  start_seconds  end_seconds  \\\n",
       "0   --PJHxphWEs           30.0         40.0   \n",
       "2   --aE2O5G5WE            0.0         10.0   \n",
       "3   --aO5cdqSAg           30.0         40.0   \n",
       "4   --aaILOrkII          200.0        210.0   \n",
       "6   --ekDLDTUXA           30.0         40.0   \n",
       "7   -0DLPzsiXXE           30.0         40.0   \n",
       "8   -0DdlOuIFUI           50.0         60.0   \n",
       "9   -0FHUc78Gqo           30.0         40.0   \n",
       "10  -0O3e95y4gE          100.0        110.0   \n",
       "11  -0SdAVK79lg           30.0         40.0   \n",
       "12  -0Vl4HyWRk8          410.0        420.0   \n",
       "13  -0mG4W5Hlq8          270.0        280.0   \n",
       "15  -11LhdJgBb8           30.0         40.0   \n",
       "16  -1LrH01Ei1w           30.0         40.0   \n",
       "17  -1TLtjPtnms           10.0         20.0   \n",
       "18  -1iKLvsRBbE           80.0         90.0   \n",
       "19  -24dqQM_rDk           30.0         40.0   \n",
       "20  -275_wTLm-4            7.0         17.0   \n",
       "22  -2PDE7hUArE           30.0         40.0   \n",
       "23  -2X03mO3T_U           30.0         40.0   \n",
       "24  -2hQKCE-oTI           30.0         40.0   \n",
       "25  -30H9V1IKps            6.0         16.0   \n",
       "26  -38Qgsbh7NQ          100.0        110.0   \n",
       "27  -3HYdaJyF4U           30.0         40.0   \n",
       "28  -3IGxVTJvgI           30.0         40.0   \n",
       "29  -3IYpJfLVJk           30.0         40.0   \n",
       "30  -3hKkjKmIGE           30.0         40.0   \n",
       "31  -3pPrlCm6gg           30.0         40.0   \n",
       "32  -4NLarMj4xU           30.0         40.0   \n",
       "33  -4RWqM0UCCY            0.0         10.0   \n",
       "34  -4hZyOdm7EI          200.0        210.0   \n",
       "36  -5-vmt2iKT0           30.0         40.0   \n",
       "38  -5GhUbDLYkQ           16.0         26.0   \n",
       "39  -5Jlimvsuwo           90.0        100.0   \n",
       "41  -5S70zOSw30           30.0         40.0   \n",
       "42  -5f6hjZf9Yw           30.0         40.0   \n",
       "43  -5xOcMJpTUk           70.0         80.0   \n",
       "44  -60XojQWWoc           30.0         40.0   \n",
       "45  -64xnyOswXA          120.0        130.0   \n",
       "46  -693sNKI3iM           30.0         40.0   \n",
       "47  -6QGvxvaTkI          280.0        290.0   \n",
       "48  -6RN8skIHU4           20.0         30.0   \n",
       "50  -6gC_nlUBfA           60.0         70.0   \n",
       "51  -6krAYK2LLo           30.0         40.0   \n",
       "52  -6pcgdLfb_A          110.0        120.0   \n",
       "53  -6sgMgtW91g           20.0         30.0   \n",
       "54  -6x2PtSRfJU           30.0         40.0   \n",
       "55  -70MzkgSsHQ           30.0         40.0   \n",
       "57  -75IwDlkzDQ           30.0         40.0   \n",
       "59  -7J4109yM7w           30.0         40.0   \n",
       "\n",
       "                                      positive_labels  /m/01280g  /m/012f08  \\\n",
       "0                               \"/m/09x0r,/t/dd00088\"          0          0   \n",
       "2                        \"/m/03fwl,/m/04rlf,/m/09x0r\"          0          0   \n",
       "3                             \"/t/dd00003,/t/dd00005\"          0          0   \n",
       "4                               \"/m/032s66,/m/073cg4\"          0          0   \n",
       "6                              \"/m/015lz1,/m/07pws3f\"          0          0   \n",
       "7                               \"/m/04rlf,/m/07qwdck\"          0          0   \n",
       "8                      \"/m/0130jx,/m/02jz0l,/m/0838f\"          0          0   \n",
       "9                                 \"/m/02w4v,/m/04rlf\"          0          0   \n",
       "10                            \"/m/07r4wb8,/t/dd00125\"          0          0   \n",
       "11  \"/m/0155w,/m/01lyv,/m/0342h,/m/042v_gx,/m/04rl...          0          0   \n",
       "12                               \"/m/085jw,/m/0l14l2\"          0          0   \n",
       "13  \"/m/04rlf,/m/05fw6t,/m/07r4k75,/m/09x0r,/m/0ytgt\"          0          0   \n",
       "15                              \"/m/04rlf,/m/07qn4z3\"          0          0   \n",
       "16                              \"/m/02p0sh1,/m/04rlf\"          0          0   \n",
       "17                     \"/m/03lty,/m/04rlf,/m/07szfh9\"          0          0   \n",
       "18                             \"/m/015lz1,/m/07pws3f\"          0          0   \n",
       "19                              \"/m/04rlf,/t/dd00003\"          0          0   \n",
       "20                                       \"/m/07q6cd_\"          0          0   \n",
       "22                   \"/m/02mk9,/m/07pb8fc,/t/dd00066\"          0          0   \n",
       "23                                \"/m/04k94,/m/0dv3j\"          0          0   \n",
       "24                                       \"/m/07pbtc8\"          0          0   \n",
       "25                      \"/m/07yv9,/m/09x0r,/m/0gvgw0\"          0          0   \n",
       "26                              \"/m/013y1f,/m/03xq_f\"          0          0   \n",
       "27                                \"/m/04rlf,/m/06rqw\"          0          0   \n",
       "28                                \"/m/06bz3,/m/09x0r\"          0          0   \n",
       "29                      \"/m/03k3r,/m/07q5rw0,/m/0jbk\"          0          0   \n",
       "30                                \"/m/019jd,/m/06q74\"          0          0   \n",
       "31                                         \"/m/01wy6\"          0          0   \n",
       "32                              \"/m/04rlf,/t/dd00034\"          0          0   \n",
       "33          \"/m/012n7d,/m/02mfyn,/m/03j1ly,/m/03kmc9\"          0          0   \n",
       "34                              \"/m/015lz1,/m/015vgc\"          0          0   \n",
       "36                                \"/m/02zsn,/m/09x0r\"          0          0   \n",
       "38                     \"/m/0130jx,/m/02jz0l,/m/0838f\"          0          0   \n",
       "39                               \"/m/011k_j,/m/04rlf\"          0          0   \n",
       "41                    \"/m/030rvx,/m/07pzfmf,/m/09x0r\"          0          0   \n",
       "42                                \"/m/02w4v,/m/04rlf\"          0          0   \n",
       "43  \"/m/018vs,/m/0342h,/m/042v_gx,/m/04rlf,/m/04sz...          0          0   \n",
       "44                     \"/m/02rhddq,/m/07r04,/m/07yv9\"          0          0   \n",
       "45                                         \"/m/0cdnk\"          0          0   \n",
       "46                     \"/m/015lz1,/m/01swy6,/m/04rlf\"          0          0   \n",
       "47                     \"/m/01p970,/m/026t6,/m/0l14md\"          0          0   \n",
       "48                     \"/m/09x0r,/m/0dv5r,/t/dd00125\"          0          0   \n",
       "50                              \"/m/02y_763,/m/09x0r\"          0          0   \n",
       "51                     \"/m/04rlf,/m/06j64v,/m/0l14gg\"          0          0   \n",
       "52                              \"/m/04rlf,/t/dd00035\"          0          0   \n",
       "53                       \"/m/04rlf,/m/05rj2,/m/09x0r\"          0          0   \n",
       "54            \"/m/01yrx,/m/068hy,/m/07qrkrw,/m/09x0r\"          0          0   \n",
       "55                                \"/m/04rlf,/m/04rzd\"          0          0   \n",
       "57                               \"/m/01h82_,/m/02mk9\"          0          0   \n",
       "59                     \"/m/02mk9,/m/07yv9,/t/dd00130\"          0          0   \n",
       "\n",
       "    /m/012ndj  /m/0130jx  /m/0140xf  /m/0145m  ...  /t/dd00037  /t/dd00065  \\\n",
       "0           0          0          0         0  ...           0           0   \n",
       "2           0          0          0         0  ...           0           0   \n",
       "3           0          0          0         0  ...           0           0   \n",
       "4           0          0          0         0  ...           0           0   \n",
       "6           0          0          0         0  ...           0           0   \n",
       "7           0          0          0         0  ...           0           0   \n",
       "8           0          1          0         0  ...           0           0   \n",
       "9           0          0          0         0  ...           0           0   \n",
       "10          0          0          0         0  ...           0           0   \n",
       "11          0          0          0         0  ...           0           0   \n",
       "12          0          0          0         0  ...           0           0   \n",
       "13          0          0          0         0  ...           0           0   \n",
       "15          0          0          0         0  ...           0           0   \n",
       "16          0          0          0         0  ...           0           0   \n",
       "17          0          0          0         0  ...           0           0   \n",
       "18          0          0          0         0  ...           0           0   \n",
       "19          0          0          0         0  ...           0           0   \n",
       "20          0          0          0         0  ...           0           0   \n",
       "22          0          0          0         0  ...           0           0   \n",
       "23          0          0          0         0  ...           0           0   \n",
       "24          0          0          0         0  ...           0           0   \n",
       "25          0          0          0         0  ...           0           0   \n",
       "26          0          0          0         0  ...           0           0   \n",
       "27          0          0          0         0  ...           0           0   \n",
       "28          0          0          0         0  ...           0           0   \n",
       "29          0          0          0         0  ...           0           0   \n",
       "30          0          0          0         0  ...           0           0   \n",
       "31          0          0          0         0  ...           0           0   \n",
       "32          0          0          0         0  ...           0           0   \n",
       "33          0          0          0         0  ...           0           0   \n",
       "34          0          0          0         0  ...           0           0   \n",
       "36          0          0          0         0  ...           0           0   \n",
       "38          0          1          0         0  ...           0           0   \n",
       "39          0          0          0         0  ...           0           0   \n",
       "41          0          0          0         0  ...           0           0   \n",
       "42          0          0          0         0  ...           0           0   \n",
       "43          0          0          0         0  ...           0           0   \n",
       "44          0          0          0         0  ...           0           0   \n",
       "45          0          0          0         0  ...           0           0   \n",
       "46          0          0          0         0  ...           0           0   \n",
       "47          0          0          0         0  ...           0           0   \n",
       "48          0          0          0         0  ...           0           0   \n",
       "50          0          0          0         0  ...           0           0   \n",
       "51          0          0          0         0  ...           0           0   \n",
       "52          0          0          0         0  ...           0           0   \n",
       "53          0          0          0         0  ...           0           0   \n",
       "54          0          0          0         0  ...           0           0   \n",
       "55          0          0          0         0  ...           0           0   \n",
       "57          0          0          0         0  ...           0           0   \n",
       "59          0          0          0         0  ...           0           0   \n",
       "\n",
       "    /t/dd00066  /t/dd00077  /t/dd00092  /t/dd00121  /t/dd00125  /t/dd00128  \\\n",
       "0            0           0           0           0           0           0   \n",
       "2            0           0           0           0           0           0   \n",
       "3            0           0           0           0           0           0   \n",
       "4            0           0           0           0           0           0   \n",
       "6            0           0           0           0           0           0   \n",
       "7            0           0           0           0           0           0   \n",
       "8            0           0           0           0           0           0   \n",
       "9            0           0           0           0           0           0   \n",
       "10           0           0           0           0           1           0   \n",
       "11           0           0           0           0           0           0   \n",
       "12           0           0           0           0           0           0   \n",
       "13           0           0           0           0           0           0   \n",
       "15           0           0           0           0           0           0   \n",
       "16           0           0           0           0           0           0   \n",
       "17           0           0           0           0           0           0   \n",
       "18           0           0           0           0           0           0   \n",
       "19           0           0           0           0           0           0   \n",
       "20           0           0           0           0           0           0   \n",
       "22           1           0           0           0           0           0   \n",
       "23           0           0           0           0           0           0   \n",
       "24           0           0           0           0           0           0   \n",
       "25           0           0           0           0           0           0   \n",
       "26           0           0           0           0           0           0   \n",
       "27           0           0           0           0           0           0   \n",
       "28           0           0           0           0           0           0   \n",
       "29           0           0           0           0           0           0   \n",
       "30           0           0           0           0           0           0   \n",
       "31           0           0           0           0           0           0   \n",
       "32           0           0           0           0           0           0   \n",
       "33           0           0           0           0           0           0   \n",
       "34           0           0           0           0           0           0   \n",
       "36           0           0           0           0           0           0   \n",
       "38           0           0           0           0           0           0   \n",
       "39           0           0           0           0           0           0   \n",
       "41           0           0           0           0           0           0   \n",
       "42           0           0           0           0           0           0   \n",
       "43           0           0           0           0           0           0   \n",
       "44           0           0           0           0           0           0   \n",
       "45           0           0           0           0           0           0   \n",
       "46           0           0           0           0           0           0   \n",
       "47           0           0           0           0           0           0   \n",
       "48           0           0           0           0           1           0   \n",
       "50           0           0           0           0           0           0   \n",
       "51           0           0           0           0           0           0   \n",
       "52           0           0           0           0           0           0   \n",
       "53           0           0           0           0           0           0   \n",
       "54           0           0           0           0           0           0   \n",
       "55           0           0           0           0           0           0   \n",
       "57           0           0           0           0           0           0   \n",
       "59           0           0           0           0           0           0   \n",
       "\n",
       "    /t/dd00129  /t/dd00135  \n",
       "0            0           0  \n",
       "2            0           0  \n",
       "3            0           0  \n",
       "4            0           0  \n",
       "6            0           0  \n",
       "7            0           0  \n",
       "8            0           0  \n",
       "9            0           0  \n",
       "10           0           0  \n",
       "11           0           0  \n",
       "12           0           0  \n",
       "13           0           0  \n",
       "15           0           0  \n",
       "16           0           0  \n",
       "17           0           0  \n",
       "18           0           0  \n",
       "19           0           0  \n",
       "20           0           0  \n",
       "22           0           0  \n",
       "23           0           0  \n",
       "24           0           0  \n",
       "25           0           0  \n",
       "26           0           0  \n",
       "27           0           0  \n",
       "28           0           0  \n",
       "29           0           0  \n",
       "30           0           0  \n",
       "31           0           0  \n",
       "32           0           0  \n",
       "33           0           0  \n",
       "34           0           0  \n",
       "36           0           0  \n",
       "38           0           0  \n",
       "39           0           0  \n",
       "41           0           0  \n",
       "42           0           0  \n",
       "43           0           0  \n",
       "44           0           0  \n",
       "45           0           0  \n",
       "46           0           0  \n",
       "47           0           0  \n",
       "48           0           0  \n",
       "50           0           0  \n",
       "51           0           0  \n",
       "52           0           0  \n",
       "53           0           0  \n",
       "54           0           0  \n",
       "55           0           0  \n",
       "57           0           0  \n",
       "59           0           0  \n",
       "\n",
       "[50 rows x 295 columns]"
      ]
     },
     "execution_count": 216,
     "metadata": {},
     "output_type": "execute_result"
    }
   ],
   "source": [
    "b_df.head(50)"
   ]
  },
  {
   "cell_type": "code",
   "execution_count": 54,
   "metadata": {},
   "outputs": [
    {
     "data": {
      "text/html": [
       "<div>\n",
       "<style scoped>\n",
       "    .dataframe tbody tr th:only-of-type {\n",
       "        vertical-align: middle;\n",
       "    }\n",
       "\n",
       "    .dataframe tbody tr th {\n",
       "        vertical-align: top;\n",
       "    }\n",
       "\n",
       "    .dataframe thead th {\n",
       "        text-align: right;\n",
       "    }\n",
       "</style>\n",
       "<table border=\"1\" class=\"dataframe\">\n",
       "  <thead>\n",
       "    <tr style=\"text-align: right;\">\n",
       "      <th></th>\n",
       "      <th>index</th>\n",
       "      <th>mid</th>\n",
       "      <th>display_name</th>\n",
       "    </tr>\n",
       "  </thead>\n",
       "  <tbody>\n",
       "    <tr>\n",
       "      <th>0</th>\n",
       "      <td>0</td>\n",
       "      <td>/m/09x0r</td>\n",
       "      <td>Speech</td>\n",
       "    </tr>\n",
       "    <tr>\n",
       "      <th>1</th>\n",
       "      <td>1</td>\n",
       "      <td>/m/05zppz</td>\n",
       "      <td>Male speech, man speaking</td>\n",
       "    </tr>\n",
       "    <tr>\n",
       "      <th>2</th>\n",
       "      <td>2</td>\n",
       "      <td>/m/02zsn</td>\n",
       "      <td>Female speech, woman speaking</td>\n",
       "    </tr>\n",
       "    <tr>\n",
       "      <th>3</th>\n",
       "      <td>3</td>\n",
       "      <td>/m/0ytgt</td>\n",
       "      <td>Child speech, kid speaking</td>\n",
       "    </tr>\n",
       "    <tr>\n",
       "      <th>4</th>\n",
       "      <td>4</td>\n",
       "      <td>/m/01h8n0</td>\n",
       "      <td>Conversation</td>\n",
       "    </tr>\n",
       "  </tbody>\n",
       "</table>\n",
       "</div>"
      ],
      "text/plain": [
       "   index        mid                   display_name\n",
       "0      0   /m/09x0r                         Speech\n",
       "1      1  /m/05zppz      Male speech, man speaking\n",
       "2      2   /m/02zsn  Female speech, woman speaking\n",
       "3      3   /m/0ytgt     Child speech, kid speaking\n",
       "4      4  /m/01h8n0                   Conversation"
      ]
     },
     "execution_count": 54,
     "metadata": {},
     "output_type": "execute_result"
    }
   ],
   "source": [
    "# class_labels = pd.read_csv('data/class_labels_indices.csv')\n",
    "# class_labels.head()"
   ]
  },
  {
   "cell_type": "code",
   "execution_count": 55,
   "metadata": {},
   "outputs": [
    {
     "data": {
      "text/html": [
       "<div>\n",
       "<style scoped>\n",
       "    .dataframe tbody tr th:only-of-type {\n",
       "        vertical-align: middle;\n",
       "    }\n",
       "\n",
       "    .dataframe tbody tr th {\n",
       "        vertical-align: top;\n",
       "    }\n",
       "\n",
       "    .dataframe thead th {\n",
       "        text-align: right;\n",
       "    }\n",
       "</style>\n",
       "<table border=\"1\" class=\"dataframe\">\n",
       "  <thead>\n",
       "    <tr style=\"text-align: right;\">\n",
       "      <th></th>\n",
       "      <th>label_id</th>\n",
       "      <th>num_rated</th>\n",
       "      <th>num_true</th>\n",
       "      <th>sound</th>\n",
       "      <th>ratio</th>\n",
       "    </tr>\n",
       "  </thead>\n",
       "  <tbody>\n",
       "    <tr>\n",
       "      <th>0</th>\n",
       "      <td>/m/09x0r</td>\n",
       "      <td>10</td>\n",
       "      <td>10</td>\n",
       "      <td>Speech</td>\n",
       "      <td>1.0</td>\n",
       "    </tr>\n",
       "    <tr>\n",
       "      <th>432</th>\n",
       "      <td>/m/0g6b5</td>\n",
       "      <td>10</td>\n",
       "      <td>10</td>\n",
       "      <td>Fireworks</td>\n",
       "      <td>1.0</td>\n",
       "    </tr>\n",
       "    <tr>\n",
       "      <th>191</th>\n",
       "      <td>/m/07y_7</td>\n",
       "      <td>10</td>\n",
       "      <td>10</td>\n",
       "      <td>Violin, fiddle</td>\n",
       "      <td>1.0</td>\n",
       "    </tr>\n",
       "    <tr>\n",
       "      <th>426</th>\n",
       "      <td>/m/014zdl</td>\n",
       "      <td>10</td>\n",
       "      <td>10</td>\n",
       "      <td>Explosion</td>\n",
       "      <td>1.0</td>\n",
       "    </tr>\n",
       "    <tr>\n",
       "      <th>427</th>\n",
       "      <td>/m/032s66</td>\n",
       "      <td>10</td>\n",
       "      <td>10</td>\n",
       "      <td>Gunshot, gunfire</td>\n",
       "      <td>1.0</td>\n",
       "    </tr>\n",
       "    <tr>\n",
       "      <th>...</th>\n",
       "      <td>...</td>\n",
       "      <td>...</td>\n",
       "      <td>...</td>\n",
       "      <td>...</td>\n",
       "      <td>...</td>\n",
       "    </tr>\n",
       "    <tr>\n",
       "      <th>430</th>\n",
       "      <td>/m/0_1c</td>\n",
       "      <td>10</td>\n",
       "      <td>8</td>\n",
       "      <td>Artillery fire</td>\n",
       "      <td>0.8</td>\n",
       "    </tr>\n",
       "    <tr>\n",
       "      <th>203</th>\n",
       "      <td>/m/0gy1t2s</td>\n",
       "      <td>10</td>\n",
       "      <td>8</td>\n",
       "      <td>Bicycle bell</td>\n",
       "      <td>0.8</td>\n",
       "    </tr>\n",
       "    <tr>\n",
       "      <th>126</th>\n",
       "      <td>/m/03vt0</td>\n",
       "      <td>10</td>\n",
       "      <td>8</td>\n",
       "      <td>Insect</td>\n",
       "      <td>0.8</td>\n",
       "    </tr>\n",
       "    <tr>\n",
       "      <th>199</th>\n",
       "      <td>/m/03m5k</td>\n",
       "      <td>10</td>\n",
       "      <td>8</td>\n",
       "      <td>Harp</td>\n",
       "      <td>0.8</td>\n",
       "    </tr>\n",
       "    <tr>\n",
       "      <th>382</th>\n",
       "      <td>/m/02g901</td>\n",
       "      <td>10</td>\n",
       "      <td>8</td>\n",
       "      <td>Electric shaver, electric razor</td>\n",
       "      <td>0.8</td>\n",
       "    </tr>\n",
       "  </tbody>\n",
       "</table>\n",
       "<p>200 rows × 5 columns</p>\n",
       "</div>"
      ],
      "text/plain": [
       "       label_id  num_rated  num_true                            sound  ratio\n",
       "0      /m/09x0r         10        10                           Speech    1.0\n",
       "432    /m/0g6b5         10        10                        Fireworks    1.0\n",
       "191    /m/07y_7         10        10                   Violin, fiddle    1.0\n",
       "426   /m/014zdl         10        10                        Explosion    1.0\n",
       "427   /m/032s66         10        10                 Gunshot, gunfire    1.0\n",
       "..          ...        ...       ...                              ...    ...\n",
       "430     /m/0_1c         10         8                   Artillery fire    0.8\n",
       "203  /m/0gy1t2s         10         8                     Bicycle bell    0.8\n",
       "126    /m/03vt0         10         8                           Insect    0.8\n",
       "199    /m/03m5k         10         8                             Harp    0.8\n",
       "382   /m/02g901         10         8  Electric shaver, electric razor    0.8\n",
       "\n",
       "[200 rows x 5 columns]"
      ]
     },
     "execution_count": 55,
     "metadata": {},
     "output_type": "execute_result"
    }
   ],
   "source": [
    "# true_counts = pd.read_csv('data/qa_true_counts.csv')\n",
    "# true_counts['sound'] = class_labels['display_name']\n",
    "\n",
    "# true_counts['ratio'] = true_counts['num_true'] / true_counts['num_rated']\n",
    "true_counts.sort_values('ratio', ascending=False).head(200)"
   ]
  },
  {
   "cell_type": "markdown",
   "metadata": {},
   "source": [
    "### I only want to keep the samples with a 80% notated accuracy"
   ]
  },
  {
   "cell_type": "code",
   "execution_count": 56,
   "metadata": {},
   "outputs": [
    {
     "name": "stdout",
     "output_type": "stream",
     "text": [
      "label_id     221\n",
      "num_rated    221\n",
      "num_true     221\n",
      "sound        221\n",
      "ratio        221\n",
      "dtype: int64\n"
     ]
    },
    {
     "data": {
      "text/html": [
       "<div>\n",
       "<style scoped>\n",
       "    .dataframe tbody tr th:only-of-type {\n",
       "        vertical-align: middle;\n",
       "    }\n",
       "\n",
       "    .dataframe tbody tr th {\n",
       "        vertical-align: top;\n",
       "    }\n",
       "\n",
       "    .dataframe thead th {\n",
       "        text-align: right;\n",
       "    }\n",
       "</style>\n",
       "<table border=\"1\" class=\"dataframe\">\n",
       "  <thead>\n",
       "    <tr style=\"text-align: right;\">\n",
       "      <th></th>\n",
       "      <th>label_id</th>\n",
       "      <th>num_rated</th>\n",
       "      <th>num_true</th>\n",
       "      <th>sound</th>\n",
       "      <th>ratio</th>\n",
       "    </tr>\n",
       "  </thead>\n",
       "  <tbody>\n",
       "    <tr>\n",
       "      <th>0</th>\n",
       "      <td>/m/09x0r</td>\n",
       "      <td>10</td>\n",
       "      <td>10</td>\n",
       "      <td>Speech</td>\n",
       "      <td>1.0</td>\n",
       "    </tr>\n",
       "    <tr>\n",
       "      <th>1</th>\n",
       "      <td>/m/05zppz</td>\n",
       "      <td>10</td>\n",
       "      <td>9</td>\n",
       "      <td>Male speech, man speaking</td>\n",
       "      <td>0.9</td>\n",
       "    </tr>\n",
       "    <tr>\n",
       "      <th>2</th>\n",
       "      <td>/m/02zsn</td>\n",
       "      <td>10</td>\n",
       "      <td>10</td>\n",
       "      <td>Female speech, woman speaking</td>\n",
       "      <td>1.0</td>\n",
       "    </tr>\n",
       "    <tr>\n",
       "      <th>3</th>\n",
       "      <td>/m/0ytgt</td>\n",
       "      <td>9</td>\n",
       "      <td>9</td>\n",
       "      <td>Child speech, kid speaking</td>\n",
       "      <td>1.0</td>\n",
       "    </tr>\n",
       "    <tr>\n",
       "      <th>4</th>\n",
       "      <td>/m/01h8n0</td>\n",
       "      <td>10</td>\n",
       "      <td>8</td>\n",
       "      <td>Conversation</td>\n",
       "      <td>0.8</td>\n",
       "    </tr>\n",
       "  </tbody>\n",
       "</table>\n",
       "</div>"
      ],
      "text/plain": [
       "    label_id  num_rated  num_true                          sound  ratio\n",
       "0   /m/09x0r         10        10                         Speech    1.0\n",
       "1  /m/05zppz         10         9      Male speech, man speaking    0.9\n",
       "2   /m/02zsn         10        10  Female speech, woman speaking    1.0\n",
       "3   /m/0ytgt          9         9     Child speech, kid speaking    1.0\n",
       "4  /m/01h8n0         10         8                   Conversation    0.8"
      ]
     },
     "execution_count": 56,
     "metadata": {},
     "output_type": "execute_result"
    }
   ],
   "source": [
    "true_counts = true_counts[true_counts['ratio'] >= 0.8]\n",
    "print(true_counts.count())\n",
    "true_counts.head()"
   ]
  },
  {
   "cell_type": "markdown",
   "metadata": {},
   "source": [
    "### Now we want an array of all the most accurate notations"
   ]
  },
  {
   "cell_type": "code",
   "execution_count": 106,
   "metadata": {},
   "outputs": [
    {
     "data": {
      "text/plain": [
       "array(['/m/09x0r', '/m/05zppz', '/m/02zsn', '/m/0ytgt', '/m/01h8n0',\n",
       "       '/m/02qldy', '/m/0261r1', '/m/07rwj3x', '/m/04gy_2', '/t/dd00135',\n",
       "       '/m/03qc9zr', '/m/02rtxlg', '/m/01j3sz', '/t/dd00001',\n",
       "       '/m/07r660_', '/m/07rgt08', '/m/0463cq4', '/t/dd00002',\n",
       "       '/m/07qz6j3', '/m/015lz1', '/m/0l14jd', '/t/dd00004', '/t/dd00005',\n",
       "       '/m/06bxc', '/m/01w250', '/m/0lyf6', '/m/01d3sd', '/m/07pyy8b',\n",
       "       '/m/01b_21', '/m/01hsr_', '/m/07pbtc8', '/m/03cczk', '/m/0939n_',\n",
       "       '/m/03q5_w', '/m/02p3nc', '/m/02_nn', '/m/0k65p', '/m/025_jnm',\n",
       "       '/m/0l15bq', '/m/053hz1', '/m/028ght', '/m/07rkbfh', '/m/07qfr4h',\n",
       "       '/m/0jbk', '/m/0bt9lr', '/m/05tny_', '/m/07qf0zm', '/m/0ghcn6',\n",
       "       '/m/01yrx', '/m/02yds9', '/m/07qrkrw', '/m/0ch8v', '/m/01xq0k1',\n",
       "       '/m/07rpkh9', '/m/068zj', '/t/dd00018', '/m/03fwl', '/m/07q0h5t',\n",
       "       '/m/025rv6n', '/m/09b5t', '/m/07st89h', '/m/07qn5dc', '/m/09ddx',\n",
       "       '/m/07qwf61', '/m/01280g', '/m/0cdnk', '/m/015p6', '/m/020bb7',\n",
       "       '/m/07pggtn', '/m/0h0rv', '/m/07r_25d', '/m/04s8yn', '/m/01z5f',\n",
       "       '/m/03vt0', '/m/09xqv', '/m/01h3n', '/m/07st88b', '/m/04rlf',\n",
       "       '/m/04szw', '/m/0fx80y', '/m/0342h', '/m/02sgy', '/m/042v_gx',\n",
       "       '/m/07s0s5r', '/m/018j2', '/m/04rzd', '/m/07xzm', '/m/05148p4',\n",
       "       '/m/03xq_f', '/m/03gvt', '/m/0l14qv', '/m/01v1d8', '/m/0l14md',\n",
       "       '/m/02hnl', '/m/0cfdd', '/m/026t6', '/m/06rvn', '/m/0bm02',\n",
       "       '/m/01p970', '/m/01qbl', '/m/03qtq', '/m/07brj', '/m/0dwsp',\n",
       "       '/m/0dwtp', '/m/0l156b', '/m/05pd6', '/m/01kcd', '/m/07c6l',\n",
       "       '/m/0l14_3', '/m/07y_7', '/m/01xqw', '/m/02fsn', '/m/085jw',\n",
       "       '/m/0l14j_', '/m/01wy6', '/m/03m5k', '/m/0395lw', '/m/03w41f',\n",
       "       '/m/0gy1t2s', '/m/0f8s22', '/m/0150b9', '/m/0mkg', '/m/0192l',\n",
       "       '/m/02bxd', '/m/01hgjl', '/m/03m9d0z', '/t/dd00092', '/m/0jb2l',\n",
       "       '/m/0ngt1', '/m/0838f', '/m/06mb1', '/m/0j6m2', '/m/034srq',\n",
       "       '/m/07yv9', '/m/019jd', '/m/02rlv9', '/m/012f08', '/m/0k4j',\n",
       "       '/m/07qv_d5', '/m/07rknqz', '/m/0ltv', '/m/07r04', '/m/05x_td',\n",
       "       '/m/03j1ly', '/m/04qvtq', '/m/012ndj', '/m/04_sv', '/m/0btp2',\n",
       "       '/m/06d_3', '/m/0284vy3', '/m/01g50p', '/m/0195fx', '/m/0k5j',\n",
       "       '/m/014yck', '/m/09ct_', '/m/0cmf2', '/m/06_fw', '/m/02mk9',\n",
       "       '/t/dd00065', '/m/01j4z9', '/t/dd00066', '/m/07pb8fc',\n",
       "       '/m/07q2z82', '/m/07q6cd_', '/m/0dxrf', '/m/0fx9l', '/m/02pjr4',\n",
       "       '/m/02jz0l', '/m/0130jx', '/m/01jt3m', '/m/0d31p', '/m/02g901',\n",
       "       '/m/0316dw', '/m/01m2v', '/m/07pp_mv', '/m/07cx4', '/m/07pp8cl',\n",
       "       '/m/01hnzm', '/m/03kmc9', '/m/0dgbq', '/m/030rvx', '/m/0c3f7m',\n",
       "       '/t/dd00077', '/m/01x3z', '/m/07qjznt', '/m/0llzx', '/m/024dl',\n",
       "       '/m/01m4t', '/m/0dv5r', '/m/07k1x', '/m/01b82r', '/m/0_ksk',\n",
       "       '/m/014zdl', '/m/032s66', '/m/0_1c', '/m/0g6b5', '/m/07qqyl4',\n",
       "       '/m/039jq', '/m/07q7njn', '/m/04k94', '/m/07rrlb6', '/m/07prgkl',\n",
       "       '/m/07p7b8y', '/m/07qlf79', '/m/07ptzwd', '/m/0dl83', '/m/07qnq_y',\n",
       "       '/m/02rr_', '/m/07ryjzk', '/m/07rdhzs', '/m/07pc8lb', '/m/07pdjhy',\n",
       "       '/m/02fs_r', '/m/07phxs1', '/m/07phhsh', '/t/dd00121', '/m/028v0c',\n",
       "       '/t/dd00125', '/t/dd00128', '/t/dd00129', '/m/06bz3'], dtype=object)"
      ]
     },
     "execution_count": 106,
     "metadata": {},
     "output_type": "execute_result"
    }
   ],
   "source": [
    "sounds_used = np.array(true_counts['label_id'])\n",
    "sounds_used"
   ]
  },
  {
   "cell_type": "markdown",
   "metadata": {},
   "source": [
    "## One hot encoder the labels, find out which ones occur the most and which ones we want to focus our training on"
   ]
  },
  {
   "cell_type": "code",
   "execution_count": null,
   "metadata": {},
   "outputs": [],
   "source": []
  },
  {
   "cell_type": "markdown",
   "metadata": {},
   "source": [
    "## We need to figure out the pipeline\n",
    "What I'm thinking:\n",
    "- iterate through dataset\n",
    "- download audio file for each video, to mp3, extract meaningful features, append to new dataframe\n",
    "- if error, remove row from dataset\n",
    "- clean up after each iteration"
   ]
  },
  {
   "cell_type": "code",
   "execution_count": 10,
   "metadata": {},
   "outputs": [
    {
     "name": "stderr",
     "output_type": "stream",
     "text": [
      "chunk:   4%|▍         | 94/2262 [00:00<00:02, 915.60it/s, now=None]"
     ]
    },
    {
     "name": "stdout",
     "output_type": "stream",
     "text": [
      "MoviePy - Writing audio in /Users/joshbernd/Desktop/gal_notes/Capstone/CNN-Instrument-Classification/mp3/--PJHxphWEs.mp3\n"
     ]
    },
    {
     "name": "stderr",
     "output_type": "stream",
     "text": [
      "                                                                      \r"
     ]
    },
    {
     "name": "stdout",
     "output_type": "stream",
     "text": [
      "MoviePy - Done.\n"
     ]
    },
    {
     "name": "stderr",
     "output_type": "stream",
     "text": [
      "chunk:  39%|███▊      | 86/222 [00:00<00:00, 833.17it/s, now=None]"
     ]
    },
    {
     "name": "stdout",
     "output_type": "stream",
     "text": [
      "MoviePy - Writing audio in /Users/joshbernd/Desktop/gal_notes/Capstone/CNN-Instrument-Classification/mp3/--aE2O5G5WE.mp3\n"
     ]
    },
    {
     "name": "stderr",
     "output_type": "stream",
     "text": [
      "                                                                   \r"
     ]
    },
    {
     "name": "stdout",
     "output_type": "stream",
     "text": [
      "MoviePy - Done.\n"
     ]
    },
    {
     "name": "stderr",
     "output_type": "stream",
     "text": [
      "chunk:   2%|▏         | 111/4603 [00:00<00:04, 1108.48it/s, now=None]"
     ]
    },
    {
     "name": "stdout",
     "output_type": "stream",
     "text": [
      "MoviePy - Writing audio in /Users/joshbernd/Desktop/gal_notes/Capstone/CNN-Instrument-Classification/mp3/--aaILOrkII.mp3\n"
     ]
    },
    {
     "name": "stderr",
     "output_type": "stream",
     "text": [
      "                                                                      \r"
     ]
    },
    {
     "name": "stdout",
     "output_type": "stream",
     "text": [
      "MoviePy - Done.\n"
     ]
    },
    {
     "name": "stderr",
     "output_type": "stream",
     "text": [
      "chunk:  11%|█         | 126/1192 [00:00<00:00, 1251.44it/s, now=None]"
     ]
    },
    {
     "name": "stdout",
     "output_type": "stream",
     "text": [
      "MoviePy - Writing audio in /Users/joshbernd/Desktop/gal_notes/Capstone/CNN-Instrument-Classification/mp3/--cB2ZVjpnA.mp3\n"
     ]
    },
    {
     "name": "stderr",
     "output_type": "stream",
     "text": [
      "                                                                      \r"
     ]
    },
    {
     "name": "stdout",
     "output_type": "stream",
     "text": [
      "MoviePy - Done.\n"
     ]
    },
    {
     "name": "stderr",
     "output_type": "stream",
     "text": [
      "chunk:   2%|▏         | 88/4836 [00:00<00:05, 877.12it/s, now=None]"
     ]
    },
    {
     "name": "stdout",
     "output_type": "stream",
     "text": [
      "MoviePy - Writing audio in /Users/joshbernd/Desktop/gal_notes/Capstone/CNN-Instrument-Classification/mp3/--ekDLDTUXA.mp3\n"
     ]
    },
    {
     "name": "stderr",
     "output_type": "stream",
     "text": [
      "                                                                      \r"
     ]
    },
    {
     "name": "stdout",
     "output_type": "stream",
     "text": [
      "MoviePy - Done.\n"
     ]
    },
    {
     "name": "stderr",
     "output_type": "stream",
     "text": [
      "chunk:   4%|▎         | 74/1986 [00:00<00:02, 711.24it/s, now=None]"
     ]
    },
    {
     "name": "stdout",
     "output_type": "stream",
     "text": [
      "MoviePy - Writing audio in /Users/joshbernd/Desktop/gal_notes/Capstone/CNN-Instrument-Classification/mp3/-0DLPzsiXXE.mp3\n"
     ]
    },
    {
     "name": "stderr",
     "output_type": "stream",
     "text": [
      "                                                                      \r"
     ]
    },
    {
     "name": "stdout",
     "output_type": "stream",
     "text": [
      "MoviePy - Done.\n"
     ]
    },
    {
     "name": "stderr",
     "output_type": "stream",
     "text": [
      "chunk:   6%|▌         | 205/3669 [00:00<00:01, 1982.74it/s, now=None]"
     ]
    },
    {
     "name": "stdout",
     "output_type": "stream",
     "text": [
      "MoviePy - Writing audio in /Users/joshbernd/Desktop/gal_notes/Capstone/CNN-Instrument-Classification/mp3/-0DdlOuIFUI.mp3\n"
     ]
    },
    {
     "name": "stderr",
     "output_type": "stream",
     "text": [
      "                                                                      \r"
     ]
    },
    {
     "name": "stdout",
     "output_type": "stream",
     "text": [
      "MoviePy - Done.\n"
     ]
    },
    {
     "name": "stderr",
     "output_type": "stream",
     "text": [
      "chunk:   3%|▎         | 120/4102 [00:00<00:03, 1183.15it/s, now=None]"
     ]
    },
    {
     "name": "stdout",
     "output_type": "stream",
     "text": [
      "MoviePy - Writing audio in /Users/joshbernd/Desktop/gal_notes/Capstone/CNN-Instrument-Classification/mp3/-0O3e95y4gE.mp3\n"
     ]
    },
    {
     "name": "stderr",
     "output_type": "stream",
     "text": [
      "                                                                      \r"
     ]
    },
    {
     "name": "stdout",
     "output_type": "stream",
     "text": [
      "MoviePy - Done.\n"
     ]
    },
    {
     "name": "stderr",
     "output_type": "stream",
     "text": [
      "chunk:   0%|          | 78/23107 [00:00<00:29, 778.73it/s, now=None]"
     ]
    },
    {
     "name": "stdout",
     "output_type": "stream",
     "text": [
      "MoviePy - Writing audio in /Users/joshbernd/Desktop/gal_notes/Capstone/CNN-Instrument-Classification/mp3/-0SdAVK79lg.mp3\n"
     ]
    },
    {
     "name": "stderr",
     "output_type": "stream",
     "text": [
      "                                                                        \r"
     ]
    },
    {
     "name": "stdout",
     "output_type": "stream",
     "text": [
      "MoviePy - Done.\n"
     ]
    },
    {
     "name": "stderr",
     "output_type": "stream",
     "text": [
      "chunk:   0%|          | 94/20287 [00:00<00:21, 934.60it/s, now=None]"
     ]
    },
    {
     "name": "stdout",
     "output_type": "stream",
     "text": [
      "MoviePy - Writing audio in /Users/joshbernd/Desktop/gal_notes/Capstone/CNN-Instrument-Classification/mp3/-0mjrMposBM.mp3\n"
     ]
    },
    {
     "name": "stderr",
     "output_type": "stream",
     "text": [
      "                                                                        \r"
     ]
    },
    {
     "name": "stdout",
     "output_type": "stream",
     "text": [
      "MoviePy - Done.\n"
     ]
    },
    {
     "name": "stderr",
     "output_type": "stream",
     "text": [
      "chunk:   3%|▎         | 83/2968 [00:00<00:03, 828.84it/s, now=None]"
     ]
    },
    {
     "name": "stdout",
     "output_type": "stream",
     "text": [
      "MoviePy - Writing audio in /Users/joshbernd/Desktop/gal_notes/Capstone/CNN-Instrument-Classification/mp3/-11LhdJgBb8.mp3\n"
     ]
    },
    {
     "name": "stderr",
     "output_type": "stream",
     "text": [
      "                                                                      \r"
     ]
    },
    {
     "name": "stdout",
     "output_type": "stream",
     "text": [
      "MoviePy - Done.\n"
     ]
    },
    {
     "name": "stderr",
     "output_type": "stream",
     "text": [
      "chunk:   3%|▎         | 180/6277 [00:00<00:03, 1784.53it/s, now=None]"
     ]
    },
    {
     "name": "stdout",
     "output_type": "stream",
     "text": [
      "MoviePy - Writing audio in /Users/joshbernd/Desktop/gal_notes/Capstone/CNN-Instrument-Classification/mp3/-1LrH01Ei1w.mp3\n"
     ]
    },
    {
     "name": "stderr",
     "output_type": "stream",
     "text": [
      "                                                                      \r"
     ]
    },
    {
     "name": "stdout",
     "output_type": "stream",
     "text": [
      "MoviePy - Done.\n"
     ]
    },
    {
     "name": "stderr",
     "output_type": "stream",
     "text": [
      "chunk:   3%|▎         | 103/4011 [00:00<00:03, 1008.66it/s, now=None]"
     ]
    },
    {
     "name": "stdout",
     "output_type": "stream",
     "text": [
      "MoviePy - Writing audio in /Users/joshbernd/Desktop/gal_notes/Capstone/CNN-Instrument-Classification/mp3/-1TLtjPtnms.mp3\n"
     ]
    },
    {
     "name": "stderr",
     "output_type": "stream",
     "text": [
      "                                                                      \r"
     ]
    },
    {
     "name": "stdout",
     "output_type": "stream",
     "text": [
      "MoviePy - Done.\n"
     ]
    },
    {
     "name": "stderr",
     "output_type": "stream",
     "text": [
      "chunk:   2%|▏         | 98/5619 [00:00<00:05, 967.08it/s, now=None]"
     ]
    },
    {
     "name": "stdout",
     "output_type": "stream",
     "text": [
      "MoviePy - Writing audio in /Users/joshbernd/Desktop/gal_notes/Capstone/CNN-Instrument-Classification/mp3/-1iKLvsRBbE.mp3\n"
     ]
    },
    {
     "name": "stderr",
     "output_type": "stream",
     "text": [
      "                                                                      \r"
     ]
    },
    {
     "name": "stdout",
     "output_type": "stream",
     "text": [
      "MoviePy - Done.\n"
     ]
    },
    {
     "name": "stderr",
     "output_type": "stream",
     "text": [
      "                                                        "
     ]
    },
    {
     "name": "stdout",
     "output_type": "stream",
     "text": [
      "MoviePy - Writing audio in /Users/joshbernd/Desktop/gal_notes/Capstone/CNN-Instrument-Classification/mp3/-275_wTLm-4.mp3\n",
      "MoviePy - Done.\n"
     ]
    },
    {
     "name": "stderr",
     "output_type": "stream",
     "text": [
      "chunk:   2%|▏         | 154/7735 [00:00<00:04, 1533.15it/s, now=None]"
     ]
    },
    {
     "name": "stdout",
     "output_type": "stream",
     "text": [
      "MoviePy - Writing audio in /Users/joshbernd/Desktop/gal_notes/Capstone/CNN-Instrument-Classification/mp3/-28U1_qW0sU.mp3\n"
     ]
    },
    {
     "name": "stderr",
     "output_type": "stream",
     "text": [
      "                                                                      \r"
     ]
    },
    {
     "name": "stdout",
     "output_type": "stream",
     "text": [
      "MoviePy - Done.\n"
     ]
    },
    {
     "name": "stderr",
     "output_type": "stream",
     "text": [
      "chunk:  23%|██▎       | 159/678 [00:00<00:00, 1588.82it/s, now=None]"
     ]
    },
    {
     "name": "stdout",
     "output_type": "stream",
     "text": [
      "MoviePy - Writing audio in /Users/joshbernd/Desktop/gal_notes/Capstone/CNN-Instrument-Classification/mp3/-2PDE7hUArE.mp3\n"
     ]
    },
    {
     "name": "stderr",
     "output_type": "stream",
     "text": [
      "                                                                    \r"
     ]
    },
    {
     "name": "stdout",
     "output_type": "stream",
     "text": [
      "MoviePy - Done.\n"
     ]
    },
    {
     "name": "stderr",
     "output_type": "stream",
     "text": [
      "chunk:  12%|█▏        | 127/1036 [00:00<00:00, 1267.20it/s, now=None]"
     ]
    },
    {
     "name": "stdout",
     "output_type": "stream",
     "text": [
      "MoviePy - Writing audio in /Users/joshbernd/Desktop/gal_notes/Capstone/CNN-Instrument-Classification/mp3/-2X03mO3T_U.mp3\n"
     ]
    },
    {
     "name": "stderr",
     "output_type": "stream",
     "text": [
      "                                                                     \r"
     ]
    },
    {
     "name": "stdout",
     "output_type": "stream",
     "text": [
      "MoviePy - Done.\n"
     ]
    },
    {
     "name": "stderr",
     "output_type": "stream",
     "text": [
      "chunk:   6%|▋         | 144/2285 [00:00<00:01, 1433.67it/s, now=None]"
     ]
    },
    {
     "name": "stdout",
     "output_type": "stream",
     "text": [
      "MoviePy - Writing audio in /Users/joshbernd/Desktop/gal_notes/Capstone/CNN-Instrument-Classification/mp3/-2hQKCE-oTI.mp3\n"
     ]
    },
    {
     "name": "stderr",
     "output_type": "stream",
     "text": [
      "                                                                      \r"
     ]
    },
    {
     "name": "stdout",
     "output_type": "stream",
     "text": [
      "MoviePy - Done.\n"
     ]
    },
    {
     "name": "stderr",
     "output_type": "stream",
     "text": [
      "                                                                    "
     ]
    },
    {
     "name": "stdout",
     "output_type": "stream",
     "text": [
      "MoviePy - Writing audio in /Users/joshbernd/Desktop/gal_notes/Capstone/CNN-Instrument-Classification/mp3/-30H9V1IKps.mp3\n",
      "MoviePy - Done.\n"
     ]
    },
    {
     "name": "stderr",
     "output_type": "stream",
     "text": [
      "chunk:   4%|▍         | 98/2275 [00:00<00:02, 971.37it/s, now=None]"
     ]
    },
    {
     "name": "stdout",
     "output_type": "stream",
     "text": [
      "MoviePy - Writing audio in /Users/joshbernd/Desktop/gal_notes/Capstone/CNN-Instrument-Classification/mp3/-38Qgsbh7NQ.mp3\n"
     ]
    },
    {
     "name": "stderr",
     "output_type": "stream",
     "text": [
      "                                                                      \r"
     ]
    },
    {
     "name": "stdout",
     "output_type": "stream",
     "text": [
      "MoviePy - Done.\n"
     ]
    },
    {
     "name": "stderr",
     "output_type": "stream",
     "text": [
      "chunk:   1%|          | 131/20229 [00:00<00:15, 1308.61it/s, now=None]"
     ]
    },
    {
     "name": "stdout",
     "output_type": "stream",
     "text": [
      "MoviePy - Writing audio in /Users/joshbernd/Desktop/gal_notes/Capstone/CNN-Instrument-Classification/mp3/-3HYdaJyF4U.mp3\n"
     ]
    },
    {
     "name": "stderr",
     "output_type": "stream",
     "text": [
      "                                                                        \r"
     ]
    },
    {
     "name": "stdout",
     "output_type": "stream",
     "text": [
      "MoviePy - Done.\n"
     ]
    },
    {
     "name": "stderr",
     "output_type": "stream",
     "text": [
      "chunk:   3%|▎         | 93/3686 [00:00<00:03, 927.99it/s, now=None]"
     ]
    },
    {
     "name": "stdout",
     "output_type": "stream",
     "text": [
      "MoviePy - Writing audio in /Users/joshbernd/Desktop/gal_notes/Capstone/CNN-Instrument-Classification/mp3/-3IGxVTJvgI.mp3\n"
     ]
    },
    {
     "name": "stderr",
     "output_type": "stream",
     "text": [
      "                                                                      \r"
     ]
    },
    {
     "name": "stdout",
     "output_type": "stream",
     "text": [
      "MoviePy - Done.\n"
     ]
    },
    {
     "name": "stderr",
     "output_type": "stream",
     "text": [
      "chunk:  11%|█         | 187/1726 [00:00<00:00, 1865.25it/s, now=None]"
     ]
    },
    {
     "name": "stdout",
     "output_type": "stream",
     "text": [
      "MoviePy - Writing audio in /Users/joshbernd/Desktop/gal_notes/Capstone/CNN-Instrument-Classification/mp3/-3hKkjKmIGE.mp3\n"
     ]
    },
    {
     "name": "stderr",
     "output_type": "stream",
     "text": [
      "                                                                      \r"
     ]
    },
    {
     "name": "stdout",
     "output_type": "stream",
     "text": [
      "MoviePy - Done.\n"
     ]
    },
    {
     "name": "stderr",
     "output_type": "stream",
     "text": [
      "chunk:   1%|▏         | 122/8228 [00:00<00:06, 1195.75it/s, now=None]"
     ]
    },
    {
     "name": "stdout",
     "output_type": "stream",
     "text": [
      "MoviePy - Writing audio in /Users/joshbernd/Desktop/gal_notes/Capstone/CNN-Instrument-Classification/mp3/-3pPrlCm6gg.mp3\n"
     ]
    },
    {
     "name": "stderr",
     "output_type": "stream",
     "text": [
      "                                                                      \r"
     ]
    },
    {
     "name": "stdout",
     "output_type": "stream",
     "text": [
      "MoviePy - Done.\n"
     ]
    },
    {
     "name": "stderr",
     "output_type": "stream",
     "text": [
      "chunk:   3%|▎         | 110/4312 [00:00<00:03, 1072.42it/s, now=None]"
     ]
    },
    {
     "name": "stdout",
     "output_type": "stream",
     "text": [
      "MoviePy - Writing audio in /Users/joshbernd/Desktop/gal_notes/Capstone/CNN-Instrument-Classification/mp3/-4NLarMj4xU.mp3\n"
     ]
    },
    {
     "name": "stderr",
     "output_type": "stream",
     "text": [
      "                                                                      \r"
     ]
    },
    {
     "name": "stdout",
     "output_type": "stream",
     "text": [
      "MoviePy - Done.\n"
     ]
    },
    {
     "name": "stderr",
     "output_type": "stream",
     "text": [
      "                                                        "
     ]
    },
    {
     "name": "stdout",
     "output_type": "stream",
     "text": [
      "MoviePy - Writing audio in /Users/joshbernd/Desktop/gal_notes/Capstone/CNN-Instrument-Classification/mp3/-4RWqM0UCCY.mp3\n",
      "MoviePy - Done.\n"
     ]
    },
    {
     "name": "stderr",
     "output_type": "stream",
     "text": [
      "chunk:   1%|▏         | 130/9026 [00:00<00:06, 1281.11it/s, now=None]"
     ]
    },
    {
     "name": "stdout",
     "output_type": "stream",
     "text": [
      "MoviePy - Writing audio in /Users/joshbernd/Desktop/gal_notes/Capstone/CNN-Instrument-Classification/mp3/-4hZyOdm7EI.mp3\n"
     ]
    },
    {
     "name": "stderr",
     "output_type": "stream",
     "text": [
      "                                                                      \r"
     ]
    },
    {
     "name": "stdout",
     "output_type": "stream",
     "text": [
      "MoviePy - Done.\n"
     ]
    },
    {
     "name": "stderr",
     "output_type": "stream",
     "text": [
      "chunk:   5%|▌         | 77/1540 [00:00<00:01, 769.12it/s, now=None]"
     ]
    },
    {
     "name": "stdout",
     "output_type": "stream",
     "text": [
      "MoviePy - Writing audio in /Users/joshbernd/Desktop/gal_notes/Capstone/CNN-Instrument-Classification/mp3/-4xJv59_zcA.mp3\n"
     ]
    },
    {
     "name": "stderr",
     "output_type": "stream",
     "text": [
      "                                                                      \r"
     ]
    },
    {
     "name": "stdout",
     "output_type": "stream",
     "text": [
      "MoviePy - Done.\n"
     ]
    },
    {
     "name": "stderr",
     "output_type": "stream",
     "text": [
      "chunk:   1%|▏         | 94/7254 [00:00<00:07, 932.21it/s, now=None]"
     ]
    },
    {
     "name": "stdout",
     "output_type": "stream",
     "text": [
      "MoviePy - Writing audio in /Users/joshbernd/Desktop/gal_notes/Capstone/CNN-Instrument-Classification/mp3/-5-vmt2iKT0.mp3\n"
     ]
    },
    {
     "name": "stderr",
     "output_type": "stream",
     "text": [
      "                                                                      \r"
     ]
    },
    {
     "name": "stdout",
     "output_type": "stream",
     "text": [
      "MoviePy - Done.\n"
     ]
    },
    {
     "name": "stderr",
     "output_type": "stream",
     "text": [
      "chunk:   1%|          | 116/11999 [00:00<00:10, 1139.30it/s, now=None]"
     ]
    },
    {
     "name": "stdout",
     "output_type": "stream",
     "text": [
      "MoviePy - Writing audio in /Users/joshbernd/Desktop/gal_notes/Capstone/CNN-Instrument-Classification/mp3/-5DdYkYOjy0.mp3\n"
     ]
    },
    {
     "name": "stderr",
     "output_type": "stream",
     "text": [
      "                                                                        \r"
     ]
    },
    {
     "name": "stdout",
     "output_type": "stream",
     "text": [
      "MoviePy - Done.\n"
     ]
    },
    {
     "name": "stderr",
     "output_type": "stream",
     "text": [
      "chunk:  37%|███▋      | 126/343 [00:00<00:00, 1242.59it/s, now=None]"
     ]
    },
    {
     "name": "stdout",
     "output_type": "stream",
     "text": [
      "MoviePy - Writing audio in /Users/joshbernd/Desktop/gal_notes/Capstone/CNN-Instrument-Classification/mp3/-5GhUbDLYkQ.mp3\n"
     ]
    },
    {
     "name": "stderr",
     "output_type": "stream",
     "text": [
      "                                                                    \r"
     ]
    },
    {
     "name": "stdout",
     "output_type": "stream",
     "text": [
      "MoviePy - Done.\n"
     ]
    },
    {
     "name": "stderr",
     "output_type": "stream",
     "text": [
      "chunk:   4%|▎         | 82/2310 [00:00<00:02, 799.80it/s, now=None]"
     ]
    },
    {
     "name": "stdout",
     "output_type": "stream",
     "text": [
      "MoviePy - Writing audio in /Users/joshbernd/Desktop/gal_notes/Capstone/CNN-Instrument-Classification/mp3/-5Jlimvsuwo.mp3\n"
     ]
    },
    {
     "name": "stderr",
     "output_type": "stream",
     "text": [
      "                                                                      \r"
     ]
    },
    {
     "name": "stdout",
     "output_type": "stream",
     "text": [
      "MoviePy - Done.\n"
     ]
    },
    {
     "name": "stderr",
     "output_type": "stream",
     "text": [
      "chunk:  11%|█▏        | 52/459 [00:00<00:00, 438.64it/s, now=None]"
     ]
    },
    {
     "name": "stdout",
     "output_type": "stream",
     "text": [
      "MoviePy - Writing audio in /Users/joshbernd/Desktop/gal_notes/Capstone/CNN-Instrument-Classification/mp3/-5Kk-m7BmiE.mp3\n"
     ]
    },
    {
     "name": "stderr",
     "output_type": "stream",
     "text": [
      "                                                                   \r"
     ]
    },
    {
     "name": "stdout",
     "output_type": "stream",
     "text": [
      "MoviePy - Done.\n"
     ]
    },
    {
     "name": "stderr",
     "output_type": "stream",
     "text": [
      "chunk:   1%|          | 148/18134 [00:00<00:12, 1475.03it/s, now=None]"
     ]
    },
    {
     "name": "stdout",
     "output_type": "stream",
     "text": [
      "MoviePy - Writing audio in /Users/joshbernd/Desktop/gal_notes/Capstone/CNN-Instrument-Classification/mp3/-5S70zOSw30.mp3\n"
     ]
    },
    {
     "name": "stderr",
     "output_type": "stream",
     "text": [
      "                                                                        \r"
     ]
    },
    {
     "name": "stdout",
     "output_type": "stream",
     "text": [
      "MoviePy - Done.\n"
     ]
    },
    {
     "name": "stderr",
     "output_type": "stream",
     "text": [
      "chunk:   1%|          | 55/5285 [00:00<00:09, 548.40it/s, now=None]"
     ]
    },
    {
     "name": "stdout",
     "output_type": "stream",
     "text": [
      "MoviePy - Writing audio in /Users/joshbernd/Desktop/gal_notes/Capstone/CNN-Instrument-Classification/mp3/-5f6hjZf9Yw.mp3\n"
     ]
    },
    {
     "name": "stderr",
     "output_type": "stream",
     "text": [
      "                                                                      \r"
     ]
    },
    {
     "name": "stdout",
     "output_type": "stream",
     "text": [
      "MoviePy - Done.\n"
     ]
    },
    {
     "name": "stderr",
     "output_type": "stream",
     "text": [
      "chunk:   1%|          | 66/6522 [00:00<00:09, 658.71it/s, now=None]"
     ]
    },
    {
     "name": "stdout",
     "output_type": "stream",
     "text": [
      "MoviePy - Writing audio in /Users/joshbernd/Desktop/gal_notes/Capstone/CNN-Instrument-Classification/mp3/-5xOcMJpTUk.mp3\n"
     ]
    },
    {
     "name": "stderr",
     "output_type": "stream",
     "text": [
      "                                                                      \r"
     ]
    },
    {
     "name": "stdout",
     "output_type": "stream",
     "text": [
      "MoviePy - Done.\n"
     ]
    },
    {
     "name": "stderr",
     "output_type": "stream",
     "text": [
      "chunk:   1%|▏         | 154/11100 [00:00<00:07, 1513.93it/s, now=None]"
     ]
    },
    {
     "name": "stdout",
     "output_type": "stream",
     "text": [
      "MoviePy - Writing audio in /Users/joshbernd/Desktop/gal_notes/Capstone/CNN-Instrument-Classification/mp3/-60XojQWWoc.mp3\n"
     ]
    },
    {
     "name": "stderr",
     "output_type": "stream",
     "text": [
      "                                                                        \r"
     ]
    },
    {
     "name": "stdout",
     "output_type": "stream",
     "text": [
      "MoviePy - Done.\n"
     ]
    },
    {
     "name": "stderr",
     "output_type": "stream",
     "text": [
      "chunk:   1%|          | 57/5067 [00:00<00:08, 569.06it/s, now=None]"
     ]
    },
    {
     "name": "stdout",
     "output_type": "stream",
     "text": [
      "MoviePy - Writing audio in /Users/joshbernd/Desktop/gal_notes/Capstone/CNN-Instrument-Classification/mp3/-64xnyOswXA.mp3\n"
     ]
    },
    {
     "name": "stderr",
     "output_type": "stream",
     "text": [
      "                                                                      \r"
     ]
    },
    {
     "name": "stdout",
     "output_type": "stream",
     "text": [
      "MoviePy - Done.\n"
     ]
    },
    {
     "name": "stderr",
     "output_type": "stream",
     "text": [
      "chunk:   3%|▎         | 139/4862 [00:00<00:03, 1388.11it/s, now=None]"
     ]
    },
    {
     "name": "stdout",
     "output_type": "stream",
     "text": [
      "MoviePy - Writing audio in /Users/joshbernd/Desktop/gal_notes/Capstone/CNN-Instrument-Classification/mp3/-693sNKI3iM.mp3\n"
     ]
    },
    {
     "name": "stderr",
     "output_type": "stream",
     "text": [
      "                                                                      \r"
     ]
    },
    {
     "name": "stdout",
     "output_type": "stream",
     "text": [
      "MoviePy - Done.\n"
     ]
    },
    {
     "name": "stderr",
     "output_type": "stream",
     "text": [
      "chunk:   0%|          | 46/54187 [00:00<02:00, 447.54it/s, now=None]"
     ]
    },
    {
     "name": "stdout",
     "output_type": "stream",
     "text": [
      "MoviePy - Writing audio in /Users/joshbernd/Desktop/gal_notes/Capstone/CNN-Instrument-Classification/mp3/-6QGvxvaTkI.mp3\n"
     ]
    },
    {
     "name": "stderr",
     "output_type": "stream",
     "text": [
      "                                                                        \r"
     ]
    },
    {
     "name": "stdout",
     "output_type": "stream",
     "text": [
      "MoviePy - Done.\n"
     ]
    },
    {
     "name": "stderr",
     "output_type": "stream",
     "text": [
      "chunk:   1%|▏         | 168/13236 [00:00<00:07, 1678.22it/s, now=None]"
     ]
    },
    {
     "name": "stdout",
     "output_type": "stream",
     "text": [
      "MoviePy - Writing audio in /Users/joshbernd/Desktop/gal_notes/Capstone/CNN-Instrument-Classification/mp3/-6RN8skIHU4.mp3\n"
     ]
    },
    {
     "name": "stderr",
     "output_type": "stream",
     "text": [
      "                                                                        \r"
     ]
    },
    {
     "name": "stdout",
     "output_type": "stream",
     "text": [
      "MoviePy - Done.\n"
     ]
    },
    {
     "name": "stderr",
     "output_type": "stream",
     "text": [
      "chunk:   1%|          | 136/13075 [00:00<00:09, 1348.47it/s, now=None]"
     ]
    },
    {
     "name": "stdout",
     "output_type": "stream",
     "text": [
      "MoviePy - Writing audio in /Users/joshbernd/Desktop/gal_notes/Capstone/CNN-Instrument-Classification/mp3/-6gC_nlUBfA.mp3\n"
     ]
    },
    {
     "name": "stderr",
     "output_type": "stream",
     "text": [
      "                                                                        \r"
     ]
    },
    {
     "name": "stdout",
     "output_type": "stream",
     "text": [
      "MoviePy - Done.\n"
     ]
    },
    {
     "name": "stderr",
     "output_type": "stream",
     "text": [
      "chunk:   5%|▌         | 111/2219 [00:00<00:01, 1109.29it/s, now=None]"
     ]
    },
    {
     "name": "stdout",
     "output_type": "stream",
     "text": [
      "MoviePy - Writing audio in /Users/joshbernd/Desktop/gal_notes/Capstone/CNN-Instrument-Classification/mp3/-6krAYK2LLo.mp3\n"
     ]
    },
    {
     "name": "stderr",
     "output_type": "stream",
     "text": [
      "                                                                      \r"
     ]
    },
    {
     "name": "stdout",
     "output_type": "stream",
     "text": [
      "MoviePy - Done.\n"
     ]
    },
    {
     "name": "stderr",
     "output_type": "stream",
     "text": [
      "chunk:   8%|▊         | 265/3387 [00:00<00:01, 2649.23it/s, now=None]"
     ]
    },
    {
     "name": "stdout",
     "output_type": "stream",
     "text": [
      "MoviePy - Writing audio in /Users/joshbernd/Desktop/gal_notes/Capstone/CNN-Instrument-Classification/mp3/-6pcgdLfb_A.mp3\n"
     ]
    },
    {
     "name": "stderr",
     "output_type": "stream",
     "text": [
      "                                                                      \r"
     ]
    },
    {
     "name": "stdout",
     "output_type": "stream",
     "text": [
      "MoviePy - Done.\n"
     ]
    },
    {
     "name": "stderr",
     "output_type": "stream",
     "text": [
      "chunk:  27%|██▋       | 178/664 [00:00<00:00, 1777.42it/s, now=None]"
     ]
    },
    {
     "name": "stdout",
     "output_type": "stream",
     "text": [
      "MoviePy - Writing audio in /Users/joshbernd/Desktop/gal_notes/Capstone/CNN-Instrument-Classification/mp3/-6x2PtSRfJU.mp3\n"
     ]
    },
    {
     "name": "stderr",
     "output_type": "stream",
     "text": [
      "                                                                    \r"
     ]
    },
    {
     "name": "stdout",
     "output_type": "stream",
     "text": [
      "MoviePy - Done.\n"
     ]
    },
    {
     "name": "stderr",
     "output_type": "stream",
     "text": [
      "chunk:   2%|▏         | 101/5267 [00:00<00:05, 1008.80it/s, now=None]"
     ]
    },
    {
     "name": "stdout",
     "output_type": "stream",
     "text": [
      "MoviePy - Writing audio in /Users/joshbernd/Desktop/gal_notes/Capstone/CNN-Instrument-Classification/mp3/-70MzkgSsHQ.mp3\n"
     ]
    },
    {
     "name": "stderr",
     "output_type": "stream",
     "text": [
      "                                                                      \r"
     ]
    },
    {
     "name": "stdout",
     "output_type": "stream",
     "text": [
      "MoviePy - Done.\n"
     ]
    },
    {
     "name": "stderr",
     "output_type": "stream",
     "text": [
      "chunk:   9%|▉         | 184/1969 [00:00<00:00, 1835.94it/s, now=None]"
     ]
    },
    {
     "name": "stdout",
     "output_type": "stream",
     "text": [
      "MoviePy - Writing audio in /Users/joshbernd/Desktop/gal_notes/Capstone/CNN-Instrument-Classification/mp3/-70wVF5u-gg.mp3\n"
     ]
    },
    {
     "name": "stderr",
     "output_type": "stream",
     "text": [
      "                                                                      \r"
     ]
    },
    {
     "name": "stdout",
     "output_type": "stream",
     "text": [
      "MoviePy - Done.\n"
     ]
    },
    {
     "name": "stderr",
     "output_type": "stream",
     "text": [
      "chunk:   4%|▍         | 118/2961 [00:00<00:02, 1166.15it/s, now=None]"
     ]
    },
    {
     "name": "stdout",
     "output_type": "stream",
     "text": [
      "MoviePy - Writing audio in /Users/joshbernd/Desktop/gal_notes/Capstone/CNN-Instrument-Classification/mp3/-75IwDlkzDQ.mp3\n"
     ]
    },
    {
     "name": "stderr",
     "output_type": "stream",
     "text": [
      "                                                                      \r"
     ]
    },
    {
     "name": "stdout",
     "output_type": "stream",
     "text": [
      "MoviePy - Done.\n"
     ]
    },
    {
     "name": "stderr",
     "output_type": "stream",
     "text": [
      "chunk:  40%|████      | 94/233 [00:00<00:00, 927.27it/s, now=None]"
     ]
    },
    {
     "name": "stdout",
     "output_type": "stream",
     "text": [
      "MoviePy - Writing audio in /Users/joshbernd/Desktop/gal_notes/Capstone/CNN-Instrument-Classification/mp3/-76P3VHPuus.mp3\n"
     ]
    },
    {
     "name": "stderr",
     "output_type": "stream",
     "text": [
      "                                                                    \r"
     ]
    },
    {
     "name": "stdout",
     "output_type": "stream",
     "text": [
      "MoviePy - Done.\n"
     ]
    },
    {
     "name": "stderr",
     "output_type": "stream",
     "text": [
      "chunk:   1%|          | 103/9307 [00:00<00:09, 992.95it/s, now=None]"
     ]
    },
    {
     "name": "stdout",
     "output_type": "stream",
     "text": [
      "MoviePy - Writing audio in /Users/joshbernd/Desktop/gal_notes/Capstone/CNN-Instrument-Classification/mp3/-7J4109yM7w.mp3\n"
     ]
    },
    {
     "name": "stderr",
     "output_type": "stream",
     "text": [
      "                                                                      \r"
     ]
    },
    {
     "name": "stdout",
     "output_type": "stream",
     "text": [
      "MoviePy - Done.\n"
     ]
    },
    {
     "name": "stderr",
     "output_type": "stream",
     "text": [
      "chunk:   1%|          | 98/10159 [00:00<00:10, 973.93it/s, now=None]"
     ]
    },
    {
     "name": "stdout",
     "output_type": "stream",
     "text": [
      "MoviePy - Writing audio in /Users/joshbernd/Desktop/gal_notes/Capstone/CNN-Instrument-Classification/mp3/-7QVE8o9uk4.mp3\n"
     ]
    },
    {
     "name": "stderr",
     "output_type": "stream",
     "text": [
      "                                                                        \r"
     ]
    },
    {
     "name": "stdout",
     "output_type": "stream",
     "text": [
      "MoviePy - Done.\n"
     ]
    },
    {
     "name": "stderr",
     "output_type": "stream",
     "text": [
      "chunk:   6%|▌         | 103/1731 [00:00<00:01, 1022.04it/s, now=None]"
     ]
    },
    {
     "name": "stdout",
     "output_type": "stream",
     "text": [
      "MoviePy - Writing audio in /Users/joshbernd/Desktop/gal_notes/Capstone/CNN-Instrument-Classification/mp3/-7wUQP6G5EQ.mp3\n"
     ]
    },
    {
     "name": "stderr",
     "output_type": "stream",
     "text": [
      "                                                                      \r"
     ]
    },
    {
     "name": "stdout",
     "output_type": "stream",
     "text": [
      "MoviePy - Done.\n"
     ]
    },
    {
     "name": "stderr",
     "output_type": "stream",
     "text": [
      "chunk:   0%|          | 98/19669 [00:00<00:20, 957.07it/s, now=None]"
     ]
    },
    {
     "name": "stdout",
     "output_type": "stream",
     "text": [
      "MoviePy - Writing audio in /Users/joshbernd/Desktop/gal_notes/Capstone/CNN-Instrument-Classification/mp3/-7ye24UFRng.mp3\n"
     ]
    },
    {
     "name": "stderr",
     "output_type": "stream",
     "text": [
      "                                                                        \r"
     ]
    },
    {
     "name": "stdout",
     "output_type": "stream",
     "text": [
      "MoviePy - Done.\n"
     ]
    },
    {
     "name": "stderr",
     "output_type": "stream",
     "text": [
      "chunk:   0%|          | 82/31423 [00:00<00:39, 802.78it/s, now=None]"
     ]
    },
    {
     "name": "stdout",
     "output_type": "stream",
     "text": [
      "MoviePy - Writing audio in /Users/joshbernd/Desktop/gal_notes/Capstone/CNN-Instrument-Classification/mp3/-7z662AsuTE.mp3\n"
     ]
    },
    {
     "name": "stderr",
     "output_type": "stream",
     "text": [
      "                                                                        \r"
     ]
    },
    {
     "name": "stdout",
     "output_type": "stream",
     "text": [
      "MoviePy - Done.\n"
     ]
    },
    {
     "name": "stderr",
     "output_type": "stream",
     "text": [
      "chunk:   2%|▏         | 130/6690 [00:00<00:05, 1276.73it/s, now=None]"
     ]
    },
    {
     "name": "stdout",
     "output_type": "stream",
     "text": [
      "MoviePy - Writing audio in /Users/joshbernd/Desktop/gal_notes/Capstone/CNN-Instrument-Classification/mp3/-82vJ9bcar4.mp3\n"
     ]
    },
    {
     "name": "stderr",
     "output_type": "stream",
     "text": [
      "                                                                      \r"
     ]
    },
    {
     "name": "stdout",
     "output_type": "stream",
     "text": [
      "MoviePy - Done.\n"
     ]
    },
    {
     "name": "stderr",
     "output_type": "stream",
     "text": [
      "chunk:  14%|█▎        | 154/1138 [00:00<00:00, 1511.88it/s, now=None]"
     ]
    },
    {
     "name": "stdout",
     "output_type": "stream",
     "text": [
      "MoviePy - Writing audio in /Users/joshbernd/Desktop/gal_notes/Capstone/CNN-Instrument-Classification/mp3/-8CrCItCO24.mp3\n"
     ]
    },
    {
     "name": "stderr",
     "output_type": "stream",
     "text": [
      "                                                                      \r"
     ]
    },
    {
     "name": "stdout",
     "output_type": "stream",
     "text": [
      "MoviePy - Done.\n"
     ]
    },
    {
     "name": "stderr",
     "output_type": "stream",
     "text": [
      "chunk:   2%|▏         | 106/6491 [00:00<00:06, 1058.63it/s, now=None]"
     ]
    },
    {
     "name": "stdout",
     "output_type": "stream",
     "text": [
      "MoviePy - Writing audio in /Users/joshbernd/Desktop/gal_notes/Capstone/CNN-Instrument-Classification/mp3/-8Ezw9946g8.mp3\n"
     ]
    },
    {
     "name": "stderr",
     "output_type": "stream",
     "text": [
      "                                                                      \r"
     ]
    },
    {
     "name": "stdout",
     "output_type": "stream",
     "text": [
      "MoviePy - Done.\n"
     ]
    },
    {
     "name": "stderr",
     "output_type": "stream",
     "text": [
      "chunk:   3%|▎         | 172/5105 [00:00<00:02, 1703.12it/s, now=None]"
     ]
    },
    {
     "name": "stdout",
     "output_type": "stream",
     "text": [
      "MoviePy - Writing audio in /Users/joshbernd/Desktop/gal_notes/Capstone/CNN-Instrument-Classification/mp3/-8H4GKg-mYQ.mp3\n"
     ]
    },
    {
     "name": "stderr",
     "output_type": "stream",
     "text": [
      "                                                                      \r"
     ]
    },
    {
     "name": "stdout",
     "output_type": "stream",
     "text": [
      "MoviePy - Done.\n"
     ]
    },
    {
     "name": "stderr",
     "output_type": "stream",
     "text": [
      "chunk:   3%|▎         | 134/4450 [00:00<00:03, 1337.36it/s, now=None]"
     ]
    },
    {
     "name": "stdout",
     "output_type": "stream",
     "text": [
      "MoviePy - Writing audio in /Users/joshbernd/Desktop/gal_notes/Capstone/CNN-Instrument-Classification/mp3/-8S_tLKfeJg.mp3\n"
     ]
    },
    {
     "name": "stderr",
     "output_type": "stream",
     "text": [
      "                                                                      \r"
     ]
    },
    {
     "name": "stdout",
     "output_type": "stream",
     "text": [
      "MoviePy - Done.\n"
     ]
    },
    {
     "name": "stderr",
     "output_type": "stream",
     "text": [
      "chunk:   9%|▊         | 126/1480 [00:00<00:01, 1253.33it/s, now=None]"
     ]
    },
    {
     "name": "stdout",
     "output_type": "stream",
     "text": [
      "MoviePy - Writing audio in /Users/joshbernd/Desktop/gal_notes/Capstone/CNN-Instrument-Classification/mp3/-8_HpHg6nCw.mp3\n"
     ]
    },
    {
     "name": "stderr",
     "output_type": "stream",
     "text": [
      "                                                                      \r"
     ]
    },
    {
     "name": "stdout",
     "output_type": "stream",
     "text": [
      "MoviePy - Done.\n"
     ]
    },
    {
     "name": "stderr",
     "output_type": "stream",
     "text": [
      "chunk:   6%|▌         | 123/2132 [00:00<00:01, 1229.60it/s, now=None]"
     ]
    },
    {
     "name": "stdout",
     "output_type": "stream",
     "text": [
      "MoviePy - Writing audio in /Users/joshbernd/Desktop/gal_notes/Capstone/CNN-Instrument-Classification/mp3/-8fQePz4FcE.mp3\n"
     ]
    },
    {
     "name": "stderr",
     "output_type": "stream",
     "text": [
      "                                                                      \r"
     ]
    },
    {
     "name": "stdout",
     "output_type": "stream",
     "text": [
      "MoviePy - Done.\n"
     ]
    },
    {
     "name": "stderr",
     "output_type": "stream",
     "text": [
      "chunk:   1%|          | 94/9467 [00:00<00:10, 917.06it/s, now=None]"
     ]
    },
    {
     "name": "stdout",
     "output_type": "stream",
     "text": [
      "MoviePy - Writing audio in /Users/joshbernd/Desktop/gal_notes/Capstone/CNN-Instrument-Classification/mp3/-8n2NqDFRko.mp3\n"
     ]
    },
    {
     "name": "stderr",
     "output_type": "stream",
     "text": [
      "                                                                      \r"
     ]
    },
    {
     "name": "stdout",
     "output_type": "stream",
     "text": [
      "MoviePy - Done.\n"
     ]
    },
    {
     "name": "stderr",
     "output_type": "stream",
     "text": [
      "chunk:   2%|▏         | 115/4880 [00:00<00:04, 1146.13it/s, now=None]"
     ]
    },
    {
     "name": "stdout",
     "output_type": "stream",
     "text": [
      "MoviePy - Writing audio in /Users/joshbernd/Desktop/gal_notes/Capstone/CNN-Instrument-Classification/mp3/-8wQV7VJnmM.mp3\n"
     ]
    },
    {
     "name": "stderr",
     "output_type": "stream",
     "text": [
      "                                                                      \r"
     ]
    },
    {
     "name": "stdout",
     "output_type": "stream",
     "text": [
      "MoviePy - Done.\n"
     ]
    },
    {
     "name": "stderr",
     "output_type": "stream",
     "text": [
      "chunk:   2%|▏         | 134/5578 [00:00<00:04, 1338.39it/s, now=None]"
     ]
    },
    {
     "name": "stdout",
     "output_type": "stream",
     "text": [
      "MoviePy - Writing audio in /Users/joshbernd/Desktop/gal_notes/Capstone/CNN-Instrument-Classification/mp3/-92cYmTgIjM.mp3\n"
     ]
    },
    {
     "name": "stderr",
     "output_type": "stream",
     "text": [
      "                                                                      \r"
     ]
    },
    {
     "name": "stdout",
     "output_type": "stream",
     "text": [
      "MoviePy - Done.\n"
     ]
    },
    {
     "name": "stderr",
     "output_type": "stream",
     "text": [
      "chunk:  13%|█▎        | 98/776 [00:00<00:00, 972.60it/s, now=None]"
     ]
    },
    {
     "name": "stdout",
     "output_type": "stream",
     "text": [
      "MoviePy - Writing audio in /Users/joshbernd/Desktop/gal_notes/Capstone/CNN-Instrument-Classification/mp3/-99daJhXYJY.mp3\n"
     ]
    },
    {
     "name": "stderr",
     "output_type": "stream",
     "text": [
      "                                                                    \r"
     ]
    },
    {
     "name": "stdout",
     "output_type": "stream",
     "text": [
      "MoviePy - Done.\n"
     ]
    },
    {
     "name": "stderr",
     "output_type": "stream",
     "text": [
      "chunk:   2%|▏         | 205/8877 [00:00<00:04, 2022.27it/s, now=None]"
     ]
    },
    {
     "name": "stdout",
     "output_type": "stream",
     "text": [
      "MoviePy - Writing audio in /Users/joshbernd/Desktop/gal_notes/Capstone/CNN-Instrument-Classification/mp3/-9ME9qMgkeY.mp3\n"
     ]
    },
    {
     "name": "stderr",
     "output_type": "stream",
     "text": [
      "                                                                      \r"
     ]
    },
    {
     "name": "stdout",
     "output_type": "stream",
     "text": [
      "MoviePy - Done.\n"
     ]
    },
    {
     "name": "stderr",
     "output_type": "stream",
     "text": [
      "chunk:   1%|          | 103/8345 [00:00<00:08, 1015.11it/s, now=None]"
     ]
    },
    {
     "name": "stdout",
     "output_type": "stream",
     "text": [
      "MoviePy - Writing audio in /Users/joshbernd/Desktop/gal_notes/Capstone/CNN-Instrument-Classification/mp3/-9Nl3LZBCOo.mp3\n"
     ]
    },
    {
     "name": "stderr",
     "output_type": "stream",
     "text": [
      "                                                                      \r"
     ]
    },
    {
     "name": "stdout",
     "output_type": "stream",
     "text": [
      "MoviePy - Done.\n"
     ]
    },
    {
     "name": "stderr",
     "output_type": "stream",
     "text": [
      "chunk:  28%|██▊       | 148/520 [00:00<00:00, 1467.93it/s, now=None]"
     ]
    },
    {
     "name": "stdout",
     "output_type": "stream",
     "text": [
      "MoviePy - Writing audio in /Users/joshbernd/Desktop/gal_notes/Capstone/CNN-Instrument-Classification/mp3/-9c1c8G_WO8.mp3\n"
     ]
    },
    {
     "name": "stderr",
     "output_type": "stream",
     "text": [
      "                                                                    \r"
     ]
    },
    {
     "name": "stdout",
     "output_type": "stream",
     "text": [
      "MoviePy - Done.\n"
     ]
    },
    {
     "name": "stderr",
     "output_type": "stream",
     "text": [
      "chunk:   2%|▏         | 102/6273 [00:00<00:06, 1008.99it/s, now=None]"
     ]
    },
    {
     "name": "stdout",
     "output_type": "stream",
     "text": [
      "MoviePy - Writing audio in /Users/joshbernd/Desktop/gal_notes/Capstone/CNN-Instrument-Classification/mp3/-9ek6eO0RtI.mp3\n"
     ]
    },
    {
     "name": "stderr",
     "output_type": "stream",
     "text": [
      "                                                                      \r"
     ]
    },
    {
     "name": "stdout",
     "output_type": "stream",
     "text": [
      "MoviePy - Done.\n"
     ]
    },
    {
     "name": "stderr",
     "output_type": "stream",
     "text": [
      "chunk:   0%|          | 93/28772 [00:00<00:30, 927.25it/s, now=None]"
     ]
    },
    {
     "name": "stdout",
     "output_type": "stream",
     "text": [
      "MoviePy - Writing audio in /Users/joshbernd/Desktop/gal_notes/Capstone/CNN-Instrument-Classification/mp3/-9wxcZf43a4.mp3\n"
     ]
    },
    {
     "name": "stderr",
     "output_type": "stream",
     "text": [
      "                                                                        \r"
     ]
    },
    {
     "name": "stdout",
     "output_type": "stream",
     "text": [
      "MoviePy - Done.\n"
     ]
    },
    {
     "name": "stderr",
     "output_type": "stream",
     "text": [
      "chunk:   6%|▌         | 98/1629 [00:00<00:01, 965.31it/s, now=None]"
     ]
    },
    {
     "name": "stdout",
     "output_type": "stream",
     "text": [
      "MoviePy - Writing audio in /Users/joshbernd/Desktop/gal_notes/Capstone/CNN-Instrument-Classification/mp3/-A0MTi2NMGI.mp3\n"
     ]
    },
    {
     "name": "stderr",
     "output_type": "stream",
     "text": [
      "                                                                      \r"
     ]
    },
    {
     "name": "stdout",
     "output_type": "stream",
     "text": [
      "MoviePy - Done.\n"
     ]
    },
    {
     "name": "stderr",
     "output_type": "stream",
     "text": [
      "chunk:   6%|▋         | 180/2803 [00:00<00:01, 1799.69it/s, now=None]"
     ]
    },
    {
     "name": "stdout",
     "output_type": "stream",
     "text": [
      "MoviePy - Writing audio in /Users/joshbernd/Desktop/gal_notes/Capstone/CNN-Instrument-Classification/mp3/-AIrHVeCgtM.mp3\n"
     ]
    },
    {
     "name": "stderr",
     "output_type": "stream",
     "text": [
      "                                                                      \r"
     ]
    },
    {
     "name": "stdout",
     "output_type": "stream",
     "text": [
      "MoviePy - Done.\n"
     ]
    },
    {
     "name": "stderr",
     "output_type": "stream",
     "text": [
      "chunk:   5%|▌         | 168/3191 [00:00<00:01, 1665.81it/s, now=None]"
     ]
    },
    {
     "name": "stdout",
     "output_type": "stream",
     "text": [
      "MoviePy - Writing audio in /Users/joshbernd/Desktop/gal_notes/Capstone/CNN-Instrument-Classification/mp3/-ASYwidRD7M.mp3\n"
     ]
    },
    {
     "name": "stderr",
     "output_type": "stream",
     "text": [
      "                                                                      \r"
     ]
    },
    {
     "name": "stdout",
     "output_type": "stream",
     "text": [
      "MoviePy - Done.\n"
     ]
    },
    {
     "name": "stderr",
     "output_type": "stream",
     "text": [
      "chunk:   7%|▋         | 280/3911 [00:00<00:01, 2798.13it/s, now=None]"
     ]
    },
    {
     "name": "stdout",
     "output_type": "stream",
     "text": [
      "MoviePy - Writing audio in /Users/joshbernd/Desktop/gal_notes/Capstone/CNN-Instrument-Classification/mp3/-AgbNy9f2sg.mp3\n"
     ]
    },
    {
     "name": "stderr",
     "output_type": "stream",
     "text": [
      "                                                                      \r"
     ]
    },
    {
     "name": "stdout",
     "output_type": "stream",
     "text": [
      "MoviePy - Done.\n"
     ]
    },
    {
     "name": "stderr",
     "output_type": "stream",
     "text": [
      "chunk:   2%|▏         | 193/11126 [00:00<00:05, 1929.63it/s, now=None]"
     ]
    },
    {
     "name": "stdout",
     "output_type": "stream",
     "text": [
      "MoviePy - Writing audio in /Users/joshbernd/Desktop/gal_notes/Capstone/CNN-Instrument-Classification/mp3/-Ar7D-GARhI.mp3\n"
     ]
    },
    {
     "name": "stderr",
     "output_type": "stream",
     "text": [
      "                                                                        \r"
     ]
    },
    {
     "name": "stdout",
     "output_type": "stream",
     "text": [
      "MoviePy - Done.\n"
     ]
    },
    {
     "name": "stderr",
     "output_type": "stream",
     "text": [
      "chunk:  18%|█▊        | 118/673 [00:00<00:00, 1171.67it/s, now=None]"
     ]
    },
    {
     "name": "stdout",
     "output_type": "stream",
     "text": [
      "MoviePy - Writing audio in /Users/joshbernd/Desktop/gal_notes/Capstone/CNN-Instrument-Classification/mp3/-AswFDuOptQ.mp3\n"
     ]
    },
    {
     "name": "stderr",
     "output_type": "stream",
     "text": [
      "                                                                    \r"
     ]
    },
    {
     "name": "stdout",
     "output_type": "stream",
     "text": [
      "MoviePy - Done.\n"
     ]
    },
    {
     "name": "stderr",
     "output_type": "stream",
     "text": [
      "chunk:   3%|▎         | 120/4479 [00:00<00:03, 1179.66it/s, now=None]"
     ]
    },
    {
     "name": "stdout",
     "output_type": "stream",
     "text": [
      "MoviePy - Writing audio in /Users/joshbernd/Desktop/gal_notes/Capstone/CNN-Instrument-Classification/mp3/-B3_mFE3pog.mp3\n"
     ]
    },
    {
     "name": "stderr",
     "output_type": "stream",
     "text": [
      "                                                                      \r"
     ]
    },
    {
     "name": "stdout",
     "output_type": "stream",
     "text": [
      "MoviePy - Done.\n"
     ]
    },
    {
     "name": "stderr",
     "output_type": "stream",
     "text": [
      "chunk:   1%|          | 112/10324 [00:00<00:09, 1119.26it/s, now=None]"
     ]
    },
    {
     "name": "stdout",
     "output_type": "stream",
     "text": [
      "MoviePy - Writing audio in /Users/joshbernd/Desktop/gal_notes/Capstone/CNN-Instrument-Classification/mp3/-BIMKnb3tlo.mp3\n"
     ]
    },
    {
     "name": "stderr",
     "output_type": "stream",
     "text": [
      "                                                                        \r"
     ]
    },
    {
     "name": "stdout",
     "output_type": "stream",
     "text": [
      "MoviePy - Done.\n"
     ]
    },
    {
     "name": "stderr",
     "output_type": "stream",
     "text": [
      "chunk:   4%|▍         | 200/4639 [00:00<00:02, 1978.36it/s, now=None]"
     ]
    },
    {
     "name": "stdout",
     "output_type": "stream",
     "text": [
      "MoviePy - Writing audio in /Users/joshbernd/Desktop/gal_notes/Capstone/CNN-Instrument-Classification/mp3/-BcwR0CSZ4w.mp3\n"
     ]
    },
    {
     "name": "stderr",
     "output_type": "stream",
     "text": [
      "                                                                      \r"
     ]
    },
    {
     "name": "stdout",
     "output_type": "stream",
     "text": [
      "MoviePy - Done.\n"
     ]
    },
    {
     "name": "stderr",
     "output_type": "stream",
     "text": [
      "chunk:   1%|          | 104/19853 [00:00<00:18, 1039.67it/s, now=None]"
     ]
    },
    {
     "name": "stdout",
     "output_type": "stream",
     "text": [
      "MoviePy - Writing audio in /Users/joshbernd/Desktop/gal_notes/Capstone/CNN-Instrument-Classification/mp3/-BqpAyCLh7U.mp3\n"
     ]
    },
    {
     "name": "stderr",
     "output_type": "stream",
     "text": [
      "                                                                        \r"
     ]
    },
    {
     "name": "stdout",
     "output_type": "stream",
     "text": [
      "MoviePy - Done.\n"
     ]
    },
    {
     "name": "stderr",
     "output_type": "stream",
     "text": [
      "chunk:   1%|          | 94/12841 [00:00<00:13, 918.22it/s, now=None]"
     ]
    },
    {
     "name": "stdout",
     "output_type": "stream",
     "text": [
      "MoviePy - Writing audio in /Users/joshbernd/Desktop/gal_notes/Capstone/CNN-Instrument-Classification/mp3/-BwM5Va6XFg.mp3\n"
     ]
    },
    {
     "name": "stderr",
     "output_type": "stream",
     "text": [
      "                                                                        \r"
     ]
    },
    {
     "name": "stdout",
     "output_type": "stream",
     "text": [
      "MoviePy - Done.\n"
     ]
    },
    {
     "name": "stderr",
     "output_type": "stream",
     "text": [
      "chunk:  15%|█▍        | 148/994 [00:00<00:00, 1470.04it/s, now=None]"
     ]
    },
    {
     "name": "stdout",
     "output_type": "stream",
     "text": [
      "MoviePy - Writing audio in /Users/joshbernd/Desktop/gal_notes/Capstone/CNN-Instrument-Classification/mp3/-BxQ9nkrId4.mp3\n"
     ]
    },
    {
     "name": "stderr",
     "output_type": "stream",
     "text": [
      "                                                                    \r"
     ]
    },
    {
     "name": "stdout",
     "output_type": "stream",
     "text": [
      "MoviePy - Done.\n"
     ]
    },
    {
     "name": "stderr",
     "output_type": "stream",
     "text": [
      "chunk:  21%|██        | 184/876 [00:00<00:00, 1818.47it/s, now=None]"
     ]
    },
    {
     "name": "stdout",
     "output_type": "stream",
     "text": [
      "MoviePy - Writing audio in /Users/joshbernd/Desktop/gal_notes/Capstone/CNN-Instrument-Classification/mp3/-By_0iIghuE.mp3\n"
     ]
    },
    {
     "name": "stderr",
     "output_type": "stream",
     "text": [
      "                                                                    \r"
     ]
    },
    {
     "name": "stdout",
     "output_type": "stream",
     "text": [
      "MoviePy - Done.\n"
     ]
    },
    {
     "name": "stderr",
     "output_type": "stream",
     "text": [
      "chunk:   5%|▌         | 224/4411 [00:00<00:01, 2226.07it/s, now=None]"
     ]
    },
    {
     "name": "stdout",
     "output_type": "stream",
     "text": [
      "MoviePy - Writing audio in /Users/joshbernd/Desktop/gal_notes/Capstone/CNN-Instrument-Classification/mp3/-C5dEU4zpJg.mp3\n"
     ]
    },
    {
     "name": "stderr",
     "output_type": "stream",
     "text": [
      "                                                                      \r"
     ]
    },
    {
     "name": "stdout",
     "output_type": "stream",
     "text": [
      "MoviePy - Done.\n"
     ]
    },
    {
     "name": "stderr",
     "output_type": "stream",
     "text": [
      "chunk:   3%|▎         | 171/6406 [00:00<00:03, 1709.49it/s, now=None]"
     ]
    },
    {
     "name": "stdout",
     "output_type": "stream",
     "text": [
      "MoviePy - Writing audio in /Users/joshbernd/Desktop/gal_notes/Capstone/CNN-Instrument-Classification/mp3/-CHMeZVAe2s.mp3\n"
     ]
    },
    {
     "name": "stderr",
     "output_type": "stream",
     "text": [
      "                                                                      \r"
     ]
    },
    {
     "name": "stdout",
     "output_type": "stream",
     "text": [
      "MoviePy - Done.\n"
     ]
    },
    {
     "name": "stderr",
     "output_type": "stream",
     "text": [
      "chunk:   1%|          | 115/12247 [00:00<00:10, 1148.77it/s, now=None]"
     ]
    },
    {
     "name": "stdout",
     "output_type": "stream",
     "text": [
      "MoviePy - Writing audio in /Users/joshbernd/Desktop/gal_notes/Capstone/CNN-Instrument-Classification/mp3/-CIxoobEubQ.mp3\n"
     ]
    },
    {
     "name": "stderr",
     "output_type": "stream",
     "text": [
      "                                                                        \r"
     ]
    },
    {
     "name": "stdout",
     "output_type": "stream",
     "text": [
      "MoviePy - Done.\n"
     ]
    },
    {
     "name": "stderr",
     "output_type": "stream",
     "text": [
      "chunk:   5%|▌         | 193/3719 [00:00<00:01, 1927.52it/s, now=None]"
     ]
    },
    {
     "name": "stdout",
     "output_type": "stream",
     "text": [
      "MoviePy - Writing audio in /Users/joshbernd/Desktop/gal_notes/Capstone/CNN-Instrument-Classification/mp3/-CUp_Tmg2Y0.mp3\n"
     ]
    },
    {
     "name": "stderr",
     "output_type": "stream",
     "text": [
      "                                                                      \r"
     ]
    },
    {
     "name": "stdout",
     "output_type": "stream",
     "text": [
      "MoviePy - Done.\n"
     ]
    },
    {
     "name": "stderr",
     "output_type": "stream",
     "text": [
      "chunk:   1%|          | 102/20310 [00:00<00:19, 1018.28it/s, now=None]"
     ]
    },
    {
     "name": "stdout",
     "output_type": "stream",
     "text": [
      "MoviePy - Writing audio in /Users/joshbernd/Desktop/gal_notes/Capstone/CNN-Instrument-Classification/mp3/-CgdUiJaNdU.mp3\n"
     ]
    },
    {
     "name": "stderr",
     "output_type": "stream",
     "text": [
      "                                                                        \r"
     ]
    },
    {
     "name": "stdout",
     "output_type": "stream",
     "text": [
      "MoviePy - Done.\n"
     ]
    },
    {
     "name": "stderr",
     "output_type": "stream",
     "text": [
      "chunk:   3%|▎         | 178/5163 [00:00<00:02, 1760.04it/s, now=None]"
     ]
    },
    {
     "name": "stdout",
     "output_type": "stream",
     "text": [
      "MoviePy - Writing audio in /Users/joshbernd/Desktop/gal_notes/Capstone/CNN-Instrument-Classification/mp3/-CniGkDLq-Y.mp3\n"
     ]
    },
    {
     "name": "stderr",
     "output_type": "stream",
     "text": [
      "                                                                      \r"
     ]
    },
    {
     "name": "stdout",
     "output_type": "stream",
     "text": [
      "MoviePy - Done.\n"
     ]
    },
    {
     "name": "stderr",
     "output_type": "stream",
     "text": [
      "chunk:  11%|█▏        | 128/1120 [00:00<00:00, 1278.74it/s, now=None]"
     ]
    },
    {
     "name": "stdout",
     "output_type": "stream",
     "text": [
      "MoviePy - Writing audio in /Users/joshbernd/Desktop/gal_notes/Capstone/CNN-Instrument-Classification/mp3/-DBcp6YGi6k.mp3\n"
     ]
    },
    {
     "name": "stderr",
     "output_type": "stream",
     "text": [
      "                                                                      \r"
     ]
    },
    {
     "name": "stdout",
     "output_type": "stream",
     "text": [
      "MoviePy - Done.\n"
     ]
    },
    {
     "name": "stderr",
     "output_type": "stream",
     "text": [
      "chunk:  36%|███▌      | 143/399 [00:00<00:00, 1425.85it/s, now=None]"
     ]
    },
    {
     "name": "stdout",
     "output_type": "stream",
     "text": [
      "MoviePy - Writing audio in /Users/joshbernd/Desktop/gal_notes/Capstone/CNN-Instrument-Classification/mp3/-DLL8LaKq-c.mp3\n"
     ]
    },
    {
     "name": "stderr",
     "output_type": "stream",
     "text": [
      "                                                                    \r"
     ]
    },
    {
     "name": "stdout",
     "output_type": "stream",
     "text": [
      "MoviePy - Done.\n"
     ]
    },
    {
     "name": "stderr",
     "output_type": "stream",
     "text": [
      "chunk:   6%|▌         | 52/835 [00:00<00:01, 507.71it/s, now=None]"
     ]
    },
    {
     "name": "stdout",
     "output_type": "stream",
     "text": [
      "MoviePy - Writing audio in /Users/joshbernd/Desktop/gal_notes/Capstone/CNN-Instrument-Classification/mp3/-DNkAalo7og.mp3\n"
     ]
    },
    {
     "name": "stderr",
     "output_type": "stream",
     "text": [
      "                                                                   \r"
     ]
    },
    {
     "name": "stdout",
     "output_type": "stream",
     "text": [
      "MoviePy - Done.\n"
     ]
    },
    {
     "name": "stderr",
     "output_type": "stream",
     "text": [
      "chunk:   1%|          | 98/10986 [00:00<00:11, 972.17it/s, now=None]"
     ]
    },
    {
     "name": "stdout",
     "output_type": "stream",
     "text": [
      "MoviePy - Writing audio in /Users/joshbernd/Desktop/gal_notes/Capstone/CNN-Instrument-Classification/mp3/-DWRAxaH_RY.mp3\n"
     ]
    },
    {
     "name": "stderr",
     "output_type": "stream",
     "text": [
      "                                                                        \r"
     ]
    },
    {
     "name": "stdout",
     "output_type": "stream",
     "text": [
      "MoviePy - Done.\n"
     ]
    },
    {
     "name": "stderr",
     "output_type": "stream",
     "text": [
      "chunk:   2%|▏         | 74/3450 [00:00<00:04, 711.40it/s, now=None]"
     ]
    },
    {
     "name": "stdout",
     "output_type": "stream",
     "text": [
      "MoviePy - Writing audio in /Users/joshbernd/Desktop/gal_notes/Capstone/CNN-Instrument-Classification/mp3/-DZMYxyB6L8.mp3\n"
     ]
    },
    {
     "name": "stderr",
     "output_type": "stream",
     "text": [
      "                                                                      \r"
     ]
    },
    {
     "name": "stdout",
     "output_type": "stream",
     "text": [
      "MoviePy - Done.\n"
     ]
    },
    {
     "name": "stderr",
     "output_type": "stream",
     "text": [
      "chunk:   0%|          | 86/29157 [00:00<00:34, 839.69it/s, now=None]"
     ]
    },
    {
     "name": "stdout",
     "output_type": "stream",
     "text": [
      "MoviePy - Writing audio in /Users/joshbernd/Desktop/gal_notes/Capstone/CNN-Instrument-Classification/mp3/-D_ljLTbCK0.mp3\n"
     ]
    },
    {
     "name": "stderr",
     "output_type": "stream",
     "text": [
      "                                                                        \r"
     ]
    },
    {
     "name": "stdout",
     "output_type": "stream",
     "text": [
      "MoviePy - Done.\n"
     ]
    },
    {
     "name": "stderr",
     "output_type": "stream",
     "text": [
      "chunk:   2%|▏         | 117/7629 [00:00<00:06, 1168.61it/s, now=None]"
     ]
    },
    {
     "name": "stdout",
     "output_type": "stream",
     "text": [
      "MoviePy - Writing audio in /Users/joshbernd/Desktop/gal_notes/Capstone/CNN-Instrument-Classification/mp3/-DcMk015qSA.mp3\n"
     ]
    },
    {
     "name": "stderr",
     "output_type": "stream",
     "text": [
      "                                                                      \r"
     ]
    },
    {
     "name": "stdout",
     "output_type": "stream",
     "text": [
      "MoviePy - Done.\n"
     ]
    },
    {
     "name": "stderr",
     "output_type": "stream",
     "text": [
      "chunk:   2%|▏         | 110/7115 [00:00<00:06, 1075.94it/s, now=None]"
     ]
    },
    {
     "name": "stdout",
     "output_type": "stream",
     "text": [
      "MoviePy - Writing audio in /Users/joshbernd/Desktop/gal_notes/Capstone/CNN-Instrument-Classification/mp3/-DeAdhYKbGE.mp3\n"
     ]
    },
    {
     "name": "stderr",
     "output_type": "stream",
     "text": [
      "                                                                      \r"
     ]
    },
    {
     "name": "stdout",
     "output_type": "stream",
     "text": [
      "MoviePy - Done.\n"
     ]
    },
    {
     "name": "stderr",
     "output_type": "stream",
     "text": [
      "chunk:   9%|▉         | 188/1990 [00:00<00:00, 1864.03it/s, now=None]"
     ]
    },
    {
     "name": "stdout",
     "output_type": "stream",
     "text": [
      "MoviePy - Writing audio in /Users/joshbernd/Desktop/gal_notes/Capstone/CNN-Instrument-Classification/mp3/-Dj2PfPmynQ.mp3\n"
     ]
    },
    {
     "name": "stderr",
     "output_type": "stream",
     "text": [
      "                                                                      \r"
     ]
    },
    {
     "name": "stdout",
     "output_type": "stream",
     "text": [
      "MoviePy - Done.\n"
     ]
    },
    {
     "name": "stderr",
     "output_type": "stream",
     "text": [
      "chunk:   2%|▏         | 119/6112 [00:00<00:05, 1188.33it/s, now=None]"
     ]
    },
    {
     "name": "stdout",
     "output_type": "stream",
     "text": [
      "MoviePy - Writing audio in /Users/joshbernd/Desktop/gal_notes/Capstone/CNN-Instrument-Classification/mp3/-Dl-VzBPd9E.mp3\n"
     ]
    },
    {
     "name": "stderr",
     "output_type": "stream",
     "text": [
      "                                                                      \r"
     ]
    },
    {
     "name": "stdout",
     "output_type": "stream",
     "text": [
      "MoviePy - Done.\n"
     ]
    },
    {
     "name": "stderr",
     "output_type": "stream",
     "text": [
      "chunk:   1%|          | 148/13584 [00:00<00:09, 1457.34it/s, now=None]"
     ]
    },
    {
     "name": "stdout",
     "output_type": "stream",
     "text": [
      "MoviePy - Writing audio in /Users/joshbernd/Desktop/gal_notes/Capstone/CNN-Instrument-Classification/mp3/-Dtir74TiUM.mp3\n"
     ]
    },
    {
     "name": "stderr",
     "output_type": "stream",
     "text": [
      "                                                                        \r"
     ]
    },
    {
     "name": "stdout",
     "output_type": "stream",
     "text": [
      "MoviePy - Done.\n"
     ]
    },
    {
     "name": "stderr",
     "output_type": "stream",
     "text": [
      "chunk:   1%|          | 147/14391 [00:00<00:09, 1468.10it/s, now=None]"
     ]
    },
    {
     "name": "stdout",
     "output_type": "stream",
     "text": [
      "MoviePy - Writing audio in /Users/joshbernd/Desktop/gal_notes/Capstone/CNN-Instrument-Classification/mp3/-DvxsHG1tuo.mp3\n"
     ]
    },
    {
     "name": "stderr",
     "output_type": "stream",
     "text": [
      "                                                                        \r"
     ]
    },
    {
     "name": "stdout",
     "output_type": "stream",
     "text": [
      "MoviePy - Done.\n"
     ]
    },
    {
     "name": "stderr",
     "output_type": "stream",
     "text": [
      "chunk:  25%|██▌       | 120/479 [00:00<00:00, 1192.45it/s, now=None]"
     ]
    },
    {
     "name": "stdout",
     "output_type": "stream",
     "text": [
      "MoviePy - Writing audio in /Users/joshbernd/Desktop/gal_notes/Capstone/CNN-Instrument-Classification/mp3/-E013cWxoMo.mp3\n"
     ]
    },
    {
     "name": "stderr",
     "output_type": "stream",
     "text": [
      "                                                                    \r"
     ]
    },
    {
     "name": "stdout",
     "output_type": "stream",
     "text": [
      "MoviePy - Done.\n"
     ]
    },
    {
     "name": "stderr",
     "output_type": "stream",
     "text": [
      "chunk:  11%|█         | 178/1607 [00:00<00:00, 1767.06it/s, now=None]"
     ]
    },
    {
     "name": "stdout",
     "output_type": "stream",
     "text": [
      "MoviePy - Writing audio in /Users/joshbernd/Desktop/gal_notes/Capstone/CNN-Instrument-Classification/mp3/-ECK_BisOLM.mp3\n"
     ]
    },
    {
     "name": "stderr",
     "output_type": "stream",
     "text": [
      "                                                                      \r"
     ]
    },
    {
     "name": "stdout",
     "output_type": "stream",
     "text": [
      "MoviePy - Done.\n"
     ]
    },
    {
     "name": "stderr",
     "output_type": "stream",
     "text": [
      "chunk:  16%|█▋        | 179/1100 [00:00<00:00, 1788.28it/s, now=None]"
     ]
    },
    {
     "name": "stdout",
     "output_type": "stream",
     "text": [
      "MoviePy - Writing audio in /Users/joshbernd/Desktop/gal_notes/Capstone/CNN-Instrument-Classification/mp3/-EDGR1davAc.mp3\n"
     ]
    },
    {
     "name": "stderr",
     "output_type": "stream",
     "text": [
      "                                                                      \r"
     ]
    },
    {
     "name": "stdout",
     "output_type": "stream",
     "text": [
      "MoviePy - Done.\n"
     ]
    },
    {
     "name": "stderr",
     "output_type": "stream",
     "text": [
      "chunk:   3%|▎         | 122/4412 [00:00<00:03, 1218.67it/s, now=None]"
     ]
    },
    {
     "name": "stdout",
     "output_type": "stream",
     "text": [
      "MoviePy - Writing audio in /Users/joshbernd/Desktop/gal_notes/Capstone/CNN-Instrument-Classification/mp3/-EDhb2m8qhk.mp3\n"
     ]
    },
    {
     "name": "stderr",
     "output_type": "stream",
     "text": [
      "                                                                      \r"
     ]
    },
    {
     "name": "stdout",
     "output_type": "stream",
     "text": [
      "MoviePy - Done.\n"
     ]
    },
    {
     "name": "stderr",
     "output_type": "stream",
     "text": [
      "chunk:   3%|▎         | 216/6725 [00:00<00:03, 2156.27it/s, now=None]"
     ]
    },
    {
     "name": "stdout",
     "output_type": "stream",
     "text": [
      "MoviePy - Writing audio in /Users/joshbernd/Desktop/gal_notes/Capstone/CNN-Instrument-Classification/mp3/-EFS2mihxs0.mp3\n"
     ]
    },
    {
     "name": "stderr",
     "output_type": "stream",
     "text": [
      "                                                                      \r"
     ]
    },
    {
     "name": "stdout",
     "output_type": "stream",
     "text": [
      "MoviePy - Done.\n"
     ]
    },
    {
     "name": "stderr",
     "output_type": "stream",
     "text": [
      "chunk:   8%|▊         | 154/1962 [00:00<00:01, 1505.77it/s, now=None]"
     ]
    },
    {
     "name": "stdout",
     "output_type": "stream",
     "text": [
      "MoviePy - Writing audio in /Users/joshbernd/Desktop/gal_notes/Capstone/CNN-Instrument-Classification/mp3/-ETHxO8vrAg.mp3\n"
     ]
    },
    {
     "name": "stderr",
     "output_type": "stream",
     "text": [
      "                                                                      \r"
     ]
    },
    {
     "name": "stdout",
     "output_type": "stream",
     "text": [
      "MoviePy - Done.\n"
     ]
    },
    {
     "name": "stderr",
     "output_type": "stream",
     "text": [
      "chunk:   1%|          | 118/11444 [00:00<00:09, 1171.85it/s, now=None]"
     ]
    },
    {
     "name": "stdout",
     "output_type": "stream",
     "text": [
      "MoviePy - Writing audio in /Users/joshbernd/Desktop/gal_notes/Capstone/CNN-Instrument-Classification/mp3/-ETSfElMyNc.mp3\n"
     ]
    },
    {
     "name": "stderr",
     "output_type": "stream",
     "text": [
      "                                                                        \r"
     ]
    },
    {
     "name": "stdout",
     "output_type": "stream",
     "text": [
      "MoviePy - Done.\n"
     ]
    },
    {
     "name": "stderr",
     "output_type": "stream",
     "text": [
      "chunk:   5%|▍         | 142/3069 [00:00<00:02, 1408.92it/s, now=None]"
     ]
    },
    {
     "name": "stdout",
     "output_type": "stream",
     "text": [
      "MoviePy - Writing audio in /Users/joshbernd/Desktop/gal_notes/Capstone/CNN-Instrument-Classification/mp3/-En5nC5Tka4.mp3\n"
     ]
    },
    {
     "name": "stderr",
     "output_type": "stream",
     "text": [
      "                                                                      \r"
     ]
    },
    {
     "name": "stdout",
     "output_type": "stream",
     "text": [
      "MoviePy - Done.\n"
     ]
    },
    {
     "name": "stderr",
     "output_type": "stream",
     "text": [
      "                                                       "
     ]
    },
    {
     "name": "stdout",
     "output_type": "stream",
     "text": [
      "MoviePy - Writing audio in /Users/joshbernd/Desktop/gal_notes/Capstone/CNN-Instrument-Classification/mp3/-F8ZP9sXcKM.mp3\n",
      "MoviePy - Done.\n"
     ]
    },
    {
     "name": "stderr",
     "output_type": "stream",
     "text": [
      "chunk:   1%|▏         | 94/6469 [00:00<00:06, 931.57it/s, now=None]"
     ]
    },
    {
     "name": "stdout",
     "output_type": "stream",
     "text": [
      "MoviePy - Writing audio in /Users/joshbernd/Desktop/gal_notes/Capstone/CNN-Instrument-Classification/mp3/-FEPOSP7ay0.mp3\n"
     ]
    },
    {
     "name": "stderr",
     "output_type": "stream",
     "text": [
      "                                                                      \r"
     ]
    },
    {
     "name": "stdout",
     "output_type": "stream",
     "text": [
      "MoviePy - Done.\n"
     ]
    },
    {
     "name": "stderr",
     "output_type": "stream",
     "text": [
      "chunk:   1%|          | 82/6739 [00:00<00:08, 795.36it/s, now=None]"
     ]
    },
    {
     "name": "stdout",
     "output_type": "stream",
     "text": [
      "MoviePy - Writing audio in /Users/joshbernd/Desktop/gal_notes/Capstone/CNN-Instrument-Classification/mp3/-FFx68qSAuY.mp3\n"
     ]
    },
    {
     "name": "stderr",
     "output_type": "stream",
     "text": [
      "                                                                      \r"
     ]
    },
    {
     "name": "stdout",
     "output_type": "stream",
     "text": [
      "MoviePy - Done.\n"
     ]
    },
    {
     "name": "stderr",
     "output_type": "stream",
     "text": [
      "chunk:   0%|          | 98/23943 [00:00<00:24, 958.45it/s, now=None]"
     ]
    },
    {
     "name": "stdout",
     "output_type": "stream",
     "text": [
      "MoviePy - Writing audio in /Users/joshbernd/Desktop/gal_notes/Capstone/CNN-Instrument-Classification/mp3/-FT5MbWPCzg.mp3\n"
     ]
    },
    {
     "name": "stderr",
     "output_type": "stream",
     "text": [
      "                                                                        \r"
     ]
    },
    {
     "name": "stdout",
     "output_type": "stream",
     "text": [
      "MoviePy - Done.\n"
     ]
    },
    {
     "name": "stderr",
     "output_type": "stream",
     "text": [
      "chunk:   3%|▎         | 152/5316 [00:00<00:03, 1519.35it/s, now=None]"
     ]
    },
    {
     "name": "stdout",
     "output_type": "stream",
     "text": [
      "MoviePy - Writing audio in /Users/joshbernd/Desktop/gal_notes/Capstone/CNN-Instrument-Classification/mp3/-FYyJ2sAWk4.mp3\n"
     ]
    },
    {
     "name": "stderr",
     "output_type": "stream",
     "text": [
      "                                                                      \r"
     ]
    },
    {
     "name": "stdout",
     "output_type": "stream",
     "text": [
      "MoviePy - Done.\n"
     ]
    },
    {
     "name": "stderr",
     "output_type": "stream",
     "text": [
      "chunk:   2%|▏         | 110/5961 [00:00<00:05, 1094.30it/s, now=None]"
     ]
    },
    {
     "name": "stdout",
     "output_type": "stream",
     "text": [
      "MoviePy - Writing audio in /Users/joshbernd/Desktop/gal_notes/Capstone/CNN-Instrument-Classification/mp3/-FlvaZQOr2I.mp3\n"
     ]
    },
    {
     "name": "stderr",
     "output_type": "stream",
     "text": [
      "                                                                      \r"
     ]
    },
    {
     "name": "stdout",
     "output_type": "stream",
     "text": [
      "MoviePy - Done.\n"
     ]
    },
    {
     "name": "stderr",
     "output_type": "stream",
     "text": [
      "chunk:   2%|▏         | 103/5919 [00:00<00:05, 1028.85it/s, now=None]"
     ]
    },
    {
     "name": "stdout",
     "output_type": "stream",
     "text": [
      "MoviePy - Writing audio in /Users/joshbernd/Desktop/gal_notes/Capstone/CNN-Instrument-Classification/mp3/-Fn3Ze8xVOE.mp3\n"
     ]
    },
    {
     "name": "stderr",
     "output_type": "stream",
     "text": [
      "                                                                      \r"
     ]
    },
    {
     "name": "stdout",
     "output_type": "stream",
     "text": [
      "MoviePy - Done.\n"
     ]
    },
    {
     "name": "stderr",
     "output_type": "stream",
     "text": [
      "chunk:   2%|▏         | 170/9148 [00:00<00:05, 1687.71it/s, now=None]"
     ]
    },
    {
     "name": "stdout",
     "output_type": "stream",
     "text": [
      "MoviePy - Writing audio in /Users/joshbernd/Desktop/gal_notes/Capstone/CNN-Instrument-Classification/mp3/-GDC7PuqdOM.mp3\n"
     ]
    },
    {
     "name": "stderr",
     "output_type": "stream",
     "text": [
      "                                                                      \r"
     ]
    },
    {
     "name": "stdout",
     "output_type": "stream",
     "text": [
      "MoviePy - Done.\n"
     ]
    },
    {
     "name": "stderr",
     "output_type": "stream",
     "text": [
      "chunk:   9%|▉         | 97/1067 [00:00<00:01, 969.84it/s, now=None]"
     ]
    },
    {
     "name": "stdout",
     "output_type": "stream",
     "text": [
      "MoviePy - Writing audio in /Users/joshbernd/Desktop/gal_notes/Capstone/CNN-Instrument-Classification/mp3/-GI5PbO6j50.mp3\n"
     ]
    },
    {
     "name": "stderr",
     "output_type": "stream",
     "text": [
      "                                                                     \r"
     ]
    },
    {
     "name": "stdout",
     "output_type": "stream",
     "text": [
      "MoviePy - Done.\n"
     ]
    },
    {
     "name": "stderr",
     "output_type": "stream",
     "text": [
      "chunk:   3%|▎         | 98/3427 [00:00<00:03, 971.39it/s, now=None]"
     ]
    },
    {
     "name": "stdout",
     "output_type": "stream",
     "text": [
      "MoviePy - Writing audio in /Users/joshbernd/Desktop/gal_notes/Capstone/CNN-Instrument-Classification/mp3/-GREE8GdRrc.mp3\n"
     ]
    },
    {
     "name": "stderr",
     "output_type": "stream",
     "text": [
      "                                                                      \r"
     ]
    },
    {
     "name": "stdout",
     "output_type": "stream",
     "text": [
      "MoviePy - Done.\n"
     ]
    },
    {
     "name": "stderr",
     "output_type": "stream",
     "text": [
      "chunk:   1%|▏         | 176/12934 [00:00<00:07, 1740.71it/s, now=None]"
     ]
    },
    {
     "name": "stdout",
     "output_type": "stream",
     "text": [
      "MoviePy - Writing audio in /Users/joshbernd/Desktop/gal_notes/Capstone/CNN-Instrument-Classification/mp3/-G_hnfp4a0M.mp3\n"
     ]
    },
    {
     "name": "stderr",
     "output_type": "stream",
     "text": [
      "                                                                        \r"
     ]
    },
    {
     "name": "stdout",
     "output_type": "stream",
     "text": [
      "MoviePy - Done.\n"
     ]
    },
    {
     "name": "stderr",
     "output_type": "stream",
     "text": [
      "chunk:   5%|▌         | 176/3226 [00:00<00:01, 1745.94it/s, now=None]"
     ]
    },
    {
     "name": "stdout",
     "output_type": "stream",
     "text": [
      "MoviePy - Writing audio in /Users/joshbernd/Desktop/gal_notes/Capstone/CNN-Instrument-Classification/mp3/-GbQWmFzVdY.mp3\n"
     ]
    },
    {
     "name": "stderr",
     "output_type": "stream",
     "text": [
      "                                                                      \r"
     ]
    },
    {
     "name": "stdout",
     "output_type": "stream",
     "text": [
      "MoviePy - Done.\n"
     ]
    },
    {
     "name": "stderr",
     "output_type": "stream",
     "text": [
      "chunk:   1%|          | 116/10790 [00:00<00:09, 1138.19it/s, now=None]"
     ]
    },
    {
     "name": "stdout",
     "output_type": "stream",
     "text": [
      "MoviePy - Writing audio in /Users/joshbernd/Desktop/gal_notes/Capstone/CNN-Instrument-Classification/mp3/-GiRtQZlnbw.mp3\n"
     ]
    },
    {
     "name": "stderr",
     "output_type": "stream",
     "text": [
      "                                                                        \r"
     ]
    },
    {
     "name": "stdout",
     "output_type": "stream",
     "text": [
      "MoviePy - Done.\n"
     ]
    },
    {
     "name": "stderr",
     "output_type": "stream",
     "text": [
      "chunk:   5%|▍         | 120/2475 [00:00<00:01, 1185.56it/s, now=None]"
     ]
    },
    {
     "name": "stdout",
     "output_type": "stream",
     "text": [
      "MoviePy - Writing audio in /Users/joshbernd/Desktop/gal_notes/Capstone/CNN-Instrument-Classification/mp3/-GlZ819IHfE.mp3\n"
     ]
    },
    {
     "name": "stderr",
     "output_type": "stream",
     "text": [
      "                                                                      \r"
     ]
    },
    {
     "name": "stdout",
     "output_type": "stream",
     "text": [
      "MoviePy - Done.\n"
     ]
    },
    {
     "name": "stderr",
     "output_type": "stream",
     "text": [
      "chunk:   3%|▎         | 162/5433 [00:00<00:03, 1619.89it/s, now=None]"
     ]
    },
    {
     "name": "stdout",
     "output_type": "stream",
     "text": [
      "MoviePy - Writing audio in /Users/joshbernd/Desktop/gal_notes/Capstone/CNN-Instrument-Classification/mp3/-H5kC4WsuI8.mp3\n"
     ]
    },
    {
     "name": "stderr",
     "output_type": "stream",
     "text": [
      "                                                                      \r"
     ]
    },
    {
     "name": "stdout",
     "output_type": "stream",
     "text": [
      "MoviePy - Done.\n"
     ]
    },
    {
     "name": "stderr",
     "output_type": "stream",
     "text": [
      "chunk:   1%|          | 148/19665 [00:00<00:13, 1478.30it/s, now=None]"
     ]
    },
    {
     "name": "stdout",
     "output_type": "stream",
     "text": [
      "MoviePy - Writing audio in /Users/joshbernd/Desktop/gal_notes/Capstone/CNN-Instrument-Classification/mp3/-H7l8OjHID4.mp3\n"
     ]
    },
    {
     "name": "stderr",
     "output_type": "stream",
     "text": [
      "                                                                        \r"
     ]
    },
    {
     "name": "stdout",
     "output_type": "stream",
     "text": [
      "MoviePy - Done.\n"
     ]
    },
    {
     "name": "stderr",
     "output_type": "stream",
     "text": [
      "                                                       "
     ]
    },
    {
     "name": "stdout",
     "output_type": "stream",
     "text": [
      "MoviePy - Writing audio in /Users/joshbernd/Desktop/gal_notes/Capstone/CNN-Instrument-Classification/mp3/-HLoD4GWMtw.mp3\n",
      "MoviePy - Done.\n"
     ]
    },
    {
     "name": "stderr",
     "output_type": "stream",
     "text": [
      "chunk:   1%|          | 126/13673 [00:00<00:10, 1258.96it/s, now=None]"
     ]
    },
    {
     "name": "stdout",
     "output_type": "stream",
     "text": [
      "MoviePy - Writing audio in /Users/joshbernd/Desktop/gal_notes/Capstone/CNN-Instrument-Classification/mp3/-HN5kqCKpEA.mp3\n"
     ]
    },
    {
     "name": "stderr",
     "output_type": "stream",
     "text": [
      "                                                                        \r"
     ]
    },
    {
     "name": "stdout",
     "output_type": "stream",
     "text": [
      "MoviePy - Done.\n"
     ]
    },
    {
     "name": "stderr",
     "output_type": "stream",
     "text": [
      "chunk:  19%|█▊        | 198/1060 [00:00<00:00, 1978.03it/s, now=None]"
     ]
    },
    {
     "name": "stdout",
     "output_type": "stream",
     "text": [
      "MoviePy - Writing audio in /Users/joshbernd/Desktop/gal_notes/Capstone/CNN-Instrument-Classification/mp3/-Hav5URxl74.mp3\n"
     ]
    },
    {
     "name": "stderr",
     "output_type": "stream",
     "text": [
      "                                                                     \r"
     ]
    },
    {
     "name": "stdout",
     "output_type": "stream",
     "text": [
      "MoviePy - Done.\n"
     ]
    },
    {
     "name": "stderr",
     "output_type": "stream",
     "text": [
      "chunk:   1%|          | 116/12843 [00:00<00:11, 1145.51it/s, now=None]"
     ]
    },
    {
     "name": "stdout",
     "output_type": "stream",
     "text": [
      "MoviePy - Writing audio in /Users/joshbernd/Desktop/gal_notes/Capstone/CNN-Instrument-Classification/mp3/-HlS6jz-f0I.mp3\n"
     ]
    },
    {
     "name": "stderr",
     "output_type": "stream",
     "text": [
      "                                                                        \r"
     ]
    },
    {
     "name": "stdout",
     "output_type": "stream",
     "text": [
      "MoviePy - Done.\n"
     ]
    },
    {
     "name": "stderr",
     "output_type": "stream",
     "text": [
      "chunk:   2%|▏         | 116/5954 [00:00<00:05, 1142.82it/s, now=None]"
     ]
    },
    {
     "name": "stdout",
     "output_type": "stream",
     "text": [
      "MoviePy - Writing audio in /Users/joshbernd/Desktop/gal_notes/Capstone/CNN-Instrument-Classification/mp3/-HnNrGtKXp4.mp3\n"
     ]
    },
    {
     "name": "stderr",
     "output_type": "stream",
     "text": [
      "                                                                      \r"
     ]
    },
    {
     "name": "stdout",
     "output_type": "stream",
     "text": [
      "MoviePy - Done.\n"
     ]
    },
    {
     "name": "stderr",
     "output_type": "stream",
     "text": [
      "chunk:   1%|          | 162/19338 [00:00<00:11, 1608.35it/s, now=None]"
     ]
    },
    {
     "name": "stdout",
     "output_type": "stream",
     "text": [
      "MoviePy - Writing audio in /Users/joshbernd/Desktop/gal_notes/Capstone/CNN-Instrument-Classification/mp3/-HvtS74RG8w.mp3\n"
     ]
    },
    {
     "name": "stderr",
     "output_type": "stream",
     "text": [
      "                                                                        \r"
     ]
    },
    {
     "name": "stdout",
     "output_type": "stream",
     "text": [
      "MoviePy - Done.\n"
     ]
    },
    {
     "name": "stderr",
     "output_type": "stream",
     "text": [
      "chunk:   4%|▍         | 160/4015 [00:00<00:02, 1597.38it/s, now=None]"
     ]
    },
    {
     "name": "stdout",
     "output_type": "stream",
     "text": [
      "MoviePy - Writing audio in /Users/joshbernd/Desktop/gal_notes/Capstone/CNN-Instrument-Classification/mp3/-J0H5ah1G7A.mp3\n"
     ]
    },
    {
     "name": "stderr",
     "output_type": "stream",
     "text": [
      "                                                                      \r"
     ]
    },
    {
     "name": "stdout",
     "output_type": "stream",
     "text": [
      "MoviePy - Done.\n"
     ]
    },
    {
     "name": "stderr",
     "output_type": "stream",
     "text": [
      "chunk:   1%|          | 119/19673 [00:00<00:16, 1188.49it/s, now=None]"
     ]
    },
    {
     "name": "stdout",
     "output_type": "stream",
     "text": [
      "MoviePy - Writing audio in /Users/joshbernd/Desktop/gal_notes/Capstone/CNN-Instrument-Classification/mp3/-JBvPwxaVVg.mp3\n"
     ]
    },
    {
     "name": "stderr",
     "output_type": "stream",
     "text": [
      "                                                                        \r"
     ]
    },
    {
     "name": "stdout",
     "output_type": "stream",
     "text": [
      "MoviePy - Done.\n"
     ]
    },
    {
     "name": "stderr",
     "output_type": "stream",
     "text": [
      "chunk:   1%|          | 150/12972 [00:00<00:08, 1490.54it/s, now=None]"
     ]
    },
    {
     "name": "stdout",
     "output_type": "stream",
     "text": [
      "MoviePy - Writing audio in /Users/joshbernd/Desktop/gal_notes/Capstone/CNN-Instrument-Classification/mp3/-JKLmqDk9p8.mp3\n"
     ]
    },
    {
     "name": "stderr",
     "output_type": "stream",
     "text": [
      "                                                                        \r"
     ]
    },
    {
     "name": "stdout",
     "output_type": "stream",
     "text": [
      "MoviePy - Done.\n"
     ]
    },
    {
     "name": "stderr",
     "output_type": "stream",
     "text": [
      "chunk:   1%|          | 157/17284 [00:00<00:10, 1569.01it/s, now=None]"
     ]
    },
    {
     "name": "stdout",
     "output_type": "stream",
     "text": [
      "MoviePy - Writing audio in /Users/joshbernd/Desktop/gal_notes/Capstone/CNN-Instrument-Classification/mp3/-JOKwS64mRU.mp3\n"
     ]
    },
    {
     "name": "stderr",
     "output_type": "stream",
     "text": [
      "                                                                        \r"
     ]
    },
    {
     "name": "stdout",
     "output_type": "stream",
     "text": [
      "MoviePy - Done.\n"
     ]
    },
    {
     "name": "stderr",
     "output_type": "stream",
     "text": [
      "chunk:   1%|          | 103/11482 [00:00<00:11, 968.60it/s, now=None]"
     ]
    },
    {
     "name": "stdout",
     "output_type": "stream",
     "text": [
      "MoviePy - Writing audio in /Users/joshbernd/Desktop/gal_notes/Capstone/CNN-Instrument-Classification/mp3/-JVWfFPBl84.mp3\n"
     ]
    },
    {
     "name": "stderr",
     "output_type": "stream",
     "text": [
      "                                                                        \r"
     ]
    },
    {
     "name": "stdout",
     "output_type": "stream",
     "text": [
      "MoviePy - Done.\n"
     ]
    },
    {
     "name": "stderr",
     "output_type": "stream",
     "text": [
      "chunk:   5%|▌         | 186/3537 [00:00<00:01, 1842.84it/s, now=None]"
     ]
    },
    {
     "name": "stdout",
     "output_type": "stream",
     "text": [
      "MoviePy - Writing audio in /Users/joshbernd/Desktop/gal_notes/Capstone/CNN-Instrument-Classification/mp3/-Jam3cjbeFQ.mp3\n"
     ]
    },
    {
     "name": "stderr",
     "output_type": "stream",
     "text": [
      "                                                                      \r"
     ]
    },
    {
     "name": "stdout",
     "output_type": "stream",
     "text": [
      "MoviePy - Done.\n"
     ]
    },
    {
     "name": "stderr",
     "output_type": "stream",
     "text": [
      "chunk:   3%|▎         | 205/6560 [00:00<00:03, 2009.90it/s, now=None]"
     ]
    },
    {
     "name": "stdout",
     "output_type": "stream",
     "text": [
      "MoviePy - Writing audio in /Users/joshbernd/Desktop/gal_notes/Capstone/CNN-Instrument-Classification/mp3/-JbPonixXS4.mp3\n"
     ]
    },
    {
     "name": "stderr",
     "output_type": "stream",
     "text": [
      "                                                                      \r"
     ]
    },
    {
     "name": "stdout",
     "output_type": "stream",
     "text": [
      "MoviePy - Done.\n"
     ]
    }
   ],
   "source": [
    "path = \"/Users/joshbernd/Desktop/gal_notes/Capstone/CNN-Instrument-Classification/mp4\"\n",
    "header = make_feature_file()\n",
    "i = 0\n",
    "for video in dataset['YTID']:\n",
    "    try:\n",
    "    \n",
    "        ##download youtube audio\n",
    "        filename = download_video(str(video), path)\n",
    "        ##convert to mp3 file\n",
    "        mp3, mp4 = to_mp3(path, filename)\n",
    "        ##get starting time for video\n",
    "        start = int(dataset['start_seconds'][dataset['YTID'] == video])\n",
    "        ##turn mp3 into spectrogram and extract features\n",
    "        \n",
    "        features = get_features(mp3, start)\n",
    "        ##write features to dataframe\n",
    "        write_to_file(features)\n",
    "\n",
    "        os.remove(mp3)\n",
    "        \n",
    "        \n",
    "        i += 1\n",
    "        if i > 100:\n",
    "            break\n",
    "\n",
    "    \n",
    "\n",
    "    except Exception:\n",
    "        #remove row from initial dataset with invalid youtube id\n",
    "        dataset = dataset[dataset['YTID'] != video]\n",
    "        if i > 100:\n",
    "            break\n",
    "        else:\n",
    "             i -= 1\n",
    "\n",
    "    \n",
    "    "
   ]
  },
  {
   "cell_type": "code",
   "execution_count": 11,
   "metadata": {},
   "outputs": [
    {
     "data": {
      "text/html": [
       "<div>\n",
       "<style scoped>\n",
       "    .dataframe tbody tr th:only-of-type {\n",
       "        vertical-align: middle;\n",
       "    }\n",
       "\n",
       "    .dataframe tbody tr th {\n",
       "        vertical-align: top;\n",
       "    }\n",
       "\n",
       "    .dataframe thead th {\n",
       "        text-align: right;\n",
       "    }\n",
       "</style>\n",
       "<table border=\"1\" class=\"dataframe\">\n",
       "  <thead>\n",
       "    <tr style=\"text-align: right;\">\n",
       "      <th></th>\n",
       "      <th>YTID</th>\n",
       "      <th>chroma_stft</th>\n",
       "      <th>rmse</th>\n",
       "      <th>spectral_centroid</th>\n",
       "      <th>spectral_bandwidth</th>\n",
       "      <th>rolloff</th>\n",
       "      <th>zero_crossing_rate</th>\n",
       "      <th>mfcc1</th>\n",
       "      <th>mfcc2</th>\n",
       "      <th>mfcc3</th>\n",
       "      <th>...</th>\n",
       "      <th>mfcc11</th>\n",
       "      <th>mfcc12</th>\n",
       "      <th>mfcc13</th>\n",
       "      <th>mfcc14</th>\n",
       "      <th>mfcc15</th>\n",
       "      <th>mfcc16</th>\n",
       "      <th>mfcc17</th>\n",
       "      <th>mfcc18</th>\n",
       "      <th>mfcc19</th>\n",
       "      <th>mfcc20</th>\n",
       "    </tr>\n",
       "  </thead>\n",
       "  <tbody>\n",
       "    <tr>\n",
       "      <th>0</th>\n",
       "      <td>--PJHxphWEs</td>\n",
       "      <td>0.144023</td>\n",
       "      <td>0.054509</td>\n",
       "      <td>3083.525008</td>\n",
       "      <td>2727.951400</td>\n",
       "      <td>6136.962891</td>\n",
       "      <td>0.000488</td>\n",
       "      <td>-677.725464</td>\n",
       "      <td>-60.321907</td>\n",
       "      <td>-1.675254</td>\n",
       "      <td>...</td>\n",
       "      <td>13.621056</td>\n",
       "      <td>65.283966</td>\n",
       "      <td>22.037888</td>\n",
       "      <td>-34.077576</td>\n",
       "      <td>1.344032</td>\n",
       "      <td>20.719837</td>\n",
       "      <td>-14.135757</td>\n",
       "      <td>39.440418</td>\n",
       "      <td>57.690269</td>\n",
       "      <td>-45.903584</td>\n",
       "    </tr>\n",
       "    <tr>\n",
       "      <th>1</th>\n",
       "      <td>--aE2O5G5WE</td>\n",
       "      <td>0.146669</td>\n",
       "      <td>0.021313</td>\n",
       "      <td>2056.899989</td>\n",
       "      <td>3176.120465</td>\n",
       "      <td>4909.570312</td>\n",
       "      <td>0.000000</td>\n",
       "      <td>-777.996643</td>\n",
       "      <td>-49.890053</td>\n",
       "      <td>13.396999</td>\n",
       "      <td>...</td>\n",
       "      <td>19.317492</td>\n",
       "      <td>51.159569</td>\n",
       "      <td>19.382998</td>\n",
       "      <td>-14.735193</td>\n",
       "      <td>-7.327859</td>\n",
       "      <td>12.584110</td>\n",
       "      <td>6.626073</td>\n",
       "      <td>29.135651</td>\n",
       "      <td>46.241631</td>\n",
       "      <td>-31.901894</td>\n",
       "    </tr>\n",
       "    <tr>\n",
       "      <th>2</th>\n",
       "      <td>--aaILOrkII</td>\n",
       "      <td>0.139654</td>\n",
       "      <td>0.399394</td>\n",
       "      <td>480.337467</td>\n",
       "      <td>1242.651527</td>\n",
       "      <td>1227.392578</td>\n",
       "      <td>0.000000</td>\n",
       "      <td>-516.471558</td>\n",
       "      <td>-17.606678</td>\n",
       "      <td>-2.516232</td>\n",
       "      <td>...</td>\n",
       "      <td>17.650810</td>\n",
       "      <td>48.678459</td>\n",
       "      <td>19.960388</td>\n",
       "      <td>-8.039909</td>\n",
       "      <td>-14.162983</td>\n",
       "      <td>9.131400</td>\n",
       "      <td>13.745262</td>\n",
       "      <td>32.253983</td>\n",
       "      <td>34.012314</td>\n",
       "      <td>-23.337450</td>\n",
       "    </tr>\n",
       "    <tr>\n",
       "      <th>3</th>\n",
       "      <td>--cB2ZVjpnA</td>\n",
       "      <td>0.110790</td>\n",
       "      <td>0.024786</td>\n",
       "      <td>2349.680827</td>\n",
       "      <td>1963.629772</td>\n",
       "      <td>3671.411133</td>\n",
       "      <td>0.000977</td>\n",
       "      <td>-735.875793</td>\n",
       "      <td>-43.371239</td>\n",
       "      <td>-12.871243</td>\n",
       "      <td>...</td>\n",
       "      <td>19.297230</td>\n",
       "      <td>63.482571</td>\n",
       "      <td>23.846874</td>\n",
       "      <td>-34.264587</td>\n",
       "      <td>-3.065814</td>\n",
       "      <td>15.538205</td>\n",
       "      <td>-11.578226</td>\n",
       "      <td>44.499367</td>\n",
       "      <td>48.511829</td>\n",
       "      <td>-40.622833</td>\n",
       "    </tr>\n",
       "    <tr>\n",
       "      <th>4</th>\n",
       "      <td>--ekDLDTUXA</td>\n",
       "      <td>0.138681</td>\n",
       "      <td>0.165942</td>\n",
       "      <td>1829.442944</td>\n",
       "      <td>2935.817842</td>\n",
       "      <td>4888.037109</td>\n",
       "      <td>0.000000</td>\n",
       "      <td>-582.247437</td>\n",
       "      <td>-39.230446</td>\n",
       "      <td>1.131112</td>\n",
       "      <td>...</td>\n",
       "      <td>22.324093</td>\n",
       "      <td>48.208324</td>\n",
       "      <td>36.402683</td>\n",
       "      <td>-29.619797</td>\n",
       "      <td>-3.743885</td>\n",
       "      <td>4.963671</td>\n",
       "      <td>13.029894</td>\n",
       "      <td>30.473604</td>\n",
       "      <td>50.506432</td>\n",
       "      <td>-39.929340</td>\n",
       "    </tr>\n",
       "  </tbody>\n",
       "</table>\n",
       "<p>5 rows × 27 columns</p>\n",
       "</div>"
      ],
      "text/plain": [
       "          YTID  chroma_stft      rmse  spectral_centroid  spectral_bandwidth  \\\n",
       "0  --PJHxphWEs     0.144023  0.054509        3083.525008         2727.951400   \n",
       "1  --aE2O5G5WE     0.146669  0.021313        2056.899989         3176.120465   \n",
       "2  --aaILOrkII     0.139654  0.399394         480.337467         1242.651527   \n",
       "3  --cB2ZVjpnA     0.110790  0.024786        2349.680827         1963.629772   \n",
       "4  --ekDLDTUXA     0.138681  0.165942        1829.442944         2935.817842   \n",
       "\n",
       "       rolloff  zero_crossing_rate       mfcc1      mfcc2      mfcc3  ...  \\\n",
       "0  6136.962891            0.000488 -677.725464 -60.321907  -1.675254  ...   \n",
       "1  4909.570312            0.000000 -777.996643 -49.890053  13.396999  ...   \n",
       "2  1227.392578            0.000000 -516.471558 -17.606678  -2.516232  ...   \n",
       "3  3671.411133            0.000977 -735.875793 -43.371239 -12.871243  ...   \n",
       "4  4888.037109            0.000000 -582.247437 -39.230446   1.131112  ...   \n",
       "\n",
       "      mfcc11     mfcc12     mfcc13     mfcc14     mfcc15     mfcc16  \\\n",
       "0  13.621056  65.283966  22.037888 -34.077576   1.344032  20.719837   \n",
       "1  19.317492  51.159569  19.382998 -14.735193  -7.327859  12.584110   \n",
       "2  17.650810  48.678459  19.960388  -8.039909 -14.162983   9.131400   \n",
       "3  19.297230  63.482571  23.846874 -34.264587  -3.065814  15.538205   \n",
       "4  22.324093  48.208324  36.402683 -29.619797  -3.743885   4.963671   \n",
       "\n",
       "      mfcc17     mfcc18     mfcc19     mfcc20  \n",
       "0 -14.135757  39.440418  57.690269 -45.903584  \n",
       "1   6.626073  29.135651  46.241631 -31.901894  \n",
       "2  13.745262  32.253983  34.012314 -23.337450  \n",
       "3 -11.578226  44.499367  48.511829 -40.622833  \n",
       "4  13.029894  30.473604  50.506432 -39.929340  \n",
       "\n",
       "[5 rows x 27 columns]"
      ]
     },
     "execution_count": 11,
     "metadata": {},
     "output_type": "execute_result"
    }
   ],
   "source": [
    "feature_df = pd.read_csv('dataset.csv')\n",
    "feature_df.head()"
   ]
  },
  {
   "cell_type": "code",
   "execution_count": 13,
   "metadata": {},
   "outputs": [
    {
     "data": {
      "text/html": [
       "<div>\n",
       "<style scoped>\n",
       "    .dataframe tbody tr th:only-of-type {\n",
       "        vertical-align: middle;\n",
       "    }\n",
       "\n",
       "    .dataframe tbody tr th {\n",
       "        vertical-align: top;\n",
       "    }\n",
       "\n",
       "    .dataframe thead th {\n",
       "        text-align: right;\n",
       "    }\n",
       "</style>\n",
       "<table border=\"1\" class=\"dataframe\">\n",
       "  <thead>\n",
       "    <tr style=\"text-align: right;\">\n",
       "      <th></th>\n",
       "      <th>YTID</th>\n",
       "      <th>chroma_stft</th>\n",
       "      <th>rmse</th>\n",
       "      <th>spectral_centroid</th>\n",
       "      <th>spectral_bandwidth</th>\n",
       "      <th>rolloff</th>\n",
       "      <th>zero_crossing_rate</th>\n",
       "      <th>mfcc1</th>\n",
       "      <th>mfcc2</th>\n",
       "      <th>mfcc3</th>\n",
       "      <th>...</th>\n",
       "      <th>mfcc11</th>\n",
       "      <th>mfcc12</th>\n",
       "      <th>mfcc13</th>\n",
       "      <th>mfcc14</th>\n",
       "      <th>mfcc15</th>\n",
       "      <th>mfcc16</th>\n",
       "      <th>mfcc17</th>\n",
       "      <th>mfcc18</th>\n",
       "      <th>mfcc19</th>\n",
       "      <th>mfcc20</th>\n",
       "    </tr>\n",
       "  </thead>\n",
       "  <tbody>\n",
       "    <tr>\n",
       "      <th>0</th>\n",
       "      <td>--PJHxphWEs</td>\n",
       "      <td>0.144023</td>\n",
       "      <td>0.054509</td>\n",
       "      <td>3083.525008</td>\n",
       "      <td>2727.951400</td>\n",
       "      <td>6136.962891</td>\n",
       "      <td>0.000488</td>\n",
       "      <td>-677.725464</td>\n",
       "      <td>-60.321907</td>\n",
       "      <td>-1.675254</td>\n",
       "      <td>...</td>\n",
       "      <td>13.621056</td>\n",
       "      <td>65.283966</td>\n",
       "      <td>22.037888</td>\n",
       "      <td>-34.077576</td>\n",
       "      <td>1.344032</td>\n",
       "      <td>20.719837</td>\n",
       "      <td>-14.135757</td>\n",
       "      <td>39.440418</td>\n",
       "      <td>57.690269</td>\n",
       "      <td>-45.903584</td>\n",
       "    </tr>\n",
       "    <tr>\n",
       "      <th>1</th>\n",
       "      <td>--aE2O5G5WE</td>\n",
       "      <td>0.146669</td>\n",
       "      <td>0.021313</td>\n",
       "      <td>2056.899989</td>\n",
       "      <td>3176.120465</td>\n",
       "      <td>4909.570312</td>\n",
       "      <td>0.000000</td>\n",
       "      <td>-777.996643</td>\n",
       "      <td>-49.890053</td>\n",
       "      <td>13.396999</td>\n",
       "      <td>...</td>\n",
       "      <td>19.317492</td>\n",
       "      <td>51.159569</td>\n",
       "      <td>19.382998</td>\n",
       "      <td>-14.735193</td>\n",
       "      <td>-7.327859</td>\n",
       "      <td>12.584110</td>\n",
       "      <td>6.626073</td>\n",
       "      <td>29.135651</td>\n",
       "      <td>46.241631</td>\n",
       "      <td>-31.901894</td>\n",
       "    </tr>\n",
       "    <tr>\n",
       "      <th>2</th>\n",
       "      <td>--aaILOrkII</td>\n",
       "      <td>0.139654</td>\n",
       "      <td>0.399394</td>\n",
       "      <td>480.337467</td>\n",
       "      <td>1242.651527</td>\n",
       "      <td>1227.392578</td>\n",
       "      <td>0.000000</td>\n",
       "      <td>-516.471558</td>\n",
       "      <td>-17.606678</td>\n",
       "      <td>-2.516232</td>\n",
       "      <td>...</td>\n",
       "      <td>17.650810</td>\n",
       "      <td>48.678459</td>\n",
       "      <td>19.960388</td>\n",
       "      <td>-8.039909</td>\n",
       "      <td>-14.162983</td>\n",
       "      <td>9.131400</td>\n",
       "      <td>13.745262</td>\n",
       "      <td>32.253983</td>\n",
       "      <td>34.012314</td>\n",
       "      <td>-23.337450</td>\n",
       "    </tr>\n",
       "    <tr>\n",
       "      <th>3</th>\n",
       "      <td>--cB2ZVjpnA</td>\n",
       "      <td>0.110790</td>\n",
       "      <td>0.024786</td>\n",
       "      <td>2349.680827</td>\n",
       "      <td>1963.629772</td>\n",
       "      <td>3671.411133</td>\n",
       "      <td>0.000977</td>\n",
       "      <td>-735.875793</td>\n",
       "      <td>-43.371239</td>\n",
       "      <td>-12.871243</td>\n",
       "      <td>...</td>\n",
       "      <td>19.297230</td>\n",
       "      <td>63.482571</td>\n",
       "      <td>23.846874</td>\n",
       "      <td>-34.264587</td>\n",
       "      <td>-3.065814</td>\n",
       "      <td>15.538205</td>\n",
       "      <td>-11.578226</td>\n",
       "      <td>44.499367</td>\n",
       "      <td>48.511829</td>\n",
       "      <td>-40.622833</td>\n",
       "    </tr>\n",
       "    <tr>\n",
       "      <th>4</th>\n",
       "      <td>--ekDLDTUXA</td>\n",
       "      <td>0.138681</td>\n",
       "      <td>0.165942</td>\n",
       "      <td>1829.442944</td>\n",
       "      <td>2935.817842</td>\n",
       "      <td>4888.037109</td>\n",
       "      <td>0.000000</td>\n",
       "      <td>-582.247437</td>\n",
       "      <td>-39.230446</td>\n",
       "      <td>1.131112</td>\n",
       "      <td>...</td>\n",
       "      <td>22.324093</td>\n",
       "      <td>48.208324</td>\n",
       "      <td>36.402683</td>\n",
       "      <td>-29.619797</td>\n",
       "      <td>-3.743885</td>\n",
       "      <td>4.963671</td>\n",
       "      <td>13.029894</td>\n",
       "      <td>30.473604</td>\n",
       "      <td>50.506432</td>\n",
       "      <td>-39.929340</td>\n",
       "    </tr>\n",
       "    <tr>\n",
       "      <th>...</th>\n",
       "      <td>...</td>\n",
       "      <td>...</td>\n",
       "      <td>...</td>\n",
       "      <td>...</td>\n",
       "      <td>...</td>\n",
       "      <td>...</td>\n",
       "      <td>...</td>\n",
       "      <td>...</td>\n",
       "      <td>...</td>\n",
       "      <td>...</td>\n",
       "      <td>...</td>\n",
       "      <td>...</td>\n",
       "      <td>...</td>\n",
       "      <td>...</td>\n",
       "      <td>...</td>\n",
       "      <td>...</td>\n",
       "      <td>...</td>\n",
       "      <td>...</td>\n",
       "      <td>...</td>\n",
       "      <td>...</td>\n",
       "      <td>...</td>\n",
       "    </tr>\n",
       "    <tr>\n",
       "      <th>126</th>\n",
       "      <td>-JKLmqDk9p8</td>\n",
       "      <td>0.192781</td>\n",
       "      <td>0.004820</td>\n",
       "      <td>4832.315379</td>\n",
       "      <td>3669.252886</td>\n",
       "      <td>9797.607422</td>\n",
       "      <td>0.002441</td>\n",
       "      <td>-914.773804</td>\n",
       "      <td>-65.093506</td>\n",
       "      <td>13.926597</td>\n",
       "      <td>...</td>\n",
       "      <td>12.904678</td>\n",
       "      <td>58.368774</td>\n",
       "      <td>29.181709</td>\n",
       "      <td>-23.927414</td>\n",
       "      <td>-15.933074</td>\n",
       "      <td>15.994800</td>\n",
       "      <td>2.668251</td>\n",
       "      <td>33.912552</td>\n",
       "      <td>52.804276</td>\n",
       "      <td>-44.254318</td>\n",
       "    </tr>\n",
       "    <tr>\n",
       "      <th>127</th>\n",
       "      <td>-JOKwS64mRU</td>\n",
       "      <td>0.489950</td>\n",
       "      <td>0.043773</td>\n",
       "      <td>203.299598</td>\n",
       "      <td>996.396862</td>\n",
       "      <td>10.766602</td>\n",
       "      <td>0.000000</td>\n",
       "      <td>-755.765076</td>\n",
       "      <td>-20.068527</td>\n",
       "      <td>10.470110</td>\n",
       "      <td>...</td>\n",
       "      <td>14.668190</td>\n",
       "      <td>32.084675</td>\n",
       "      <td>-1.794517</td>\n",
       "      <td>4.894401</td>\n",
       "      <td>10.609842</td>\n",
       "      <td>14.049875</td>\n",
       "      <td>1.249871</td>\n",
       "      <td>13.016512</td>\n",
       "      <td>29.078253</td>\n",
       "      <td>-4.659967</td>\n",
       "    </tr>\n",
       "    <tr>\n",
       "      <th>128</th>\n",
       "      <td>-JVWfFPBl84</td>\n",
       "      <td>0.135420</td>\n",
       "      <td>0.021622</td>\n",
       "      <td>1423.281525</td>\n",
       "      <td>2442.617707</td>\n",
       "      <td>2519.384766</td>\n",
       "      <td>0.000000</td>\n",
       "      <td>-790.405884</td>\n",
       "      <td>-47.060619</td>\n",
       "      <td>10.491171</td>\n",
       "      <td>...</td>\n",
       "      <td>16.250748</td>\n",
       "      <td>47.837238</td>\n",
       "      <td>2.965533</td>\n",
       "      <td>-8.182658</td>\n",
       "      <td>7.010826</td>\n",
       "      <td>18.803110</td>\n",
       "      <td>-5.540838</td>\n",
       "      <td>20.291389</td>\n",
       "      <td>46.918987</td>\n",
       "      <td>-23.676163</td>\n",
       "    </tr>\n",
       "    <tr>\n",
       "      <th>129</th>\n",
       "      <td>-Jam3cjbeFQ</td>\n",
       "      <td>0.111342</td>\n",
       "      <td>0.069059</td>\n",
       "      <td>2645.576128</td>\n",
       "      <td>2703.945140</td>\n",
       "      <td>4909.570312</td>\n",
       "      <td>0.000977</td>\n",
       "      <td>-671.135559</td>\n",
       "      <td>-57.651184</td>\n",
       "      <td>-0.991896</td>\n",
       "      <td>...</td>\n",
       "      <td>22.715660</td>\n",
       "      <td>66.719612</td>\n",
       "      <td>17.568981</td>\n",
       "      <td>-26.835751</td>\n",
       "      <td>-1.164851</td>\n",
       "      <td>15.078834</td>\n",
       "      <td>-4.106844</td>\n",
       "      <td>35.412018</td>\n",
       "      <td>58.241287</td>\n",
       "      <td>-41.305882</td>\n",
       "    </tr>\n",
       "    <tr>\n",
       "      <th>130</th>\n",
       "      <td>-JbPonixXS4</td>\n",
       "      <td>0.141076</td>\n",
       "      <td>0.097468</td>\n",
       "      <td>3589.985951</td>\n",
       "      <td>3449.301232</td>\n",
       "      <td>7375.122070</td>\n",
       "      <td>0.000488</td>\n",
       "      <td>-602.484497</td>\n",
       "      <td>-58.526474</td>\n",
       "      <td>10.303356</td>\n",
       "      <td>...</td>\n",
       "      <td>11.845843</td>\n",
       "      <td>63.799500</td>\n",
       "      <td>24.275890</td>\n",
       "      <td>-22.809498</td>\n",
       "      <td>-12.779671</td>\n",
       "      <td>14.155405</td>\n",
       "      <td>2.744324</td>\n",
       "      <td>35.155029</td>\n",
       "      <td>52.631874</td>\n",
       "      <td>-43.103882</td>\n",
       "    </tr>\n",
       "  </tbody>\n",
       "</table>\n",
       "<p>131 rows × 27 columns</p>\n",
       "</div>"
      ],
      "text/plain": [
       "            YTID  chroma_stft      rmse  spectral_centroid  \\\n",
       "0    --PJHxphWEs     0.144023  0.054509        3083.525008   \n",
       "1    --aE2O5G5WE     0.146669  0.021313        2056.899989   \n",
       "2    --aaILOrkII     0.139654  0.399394         480.337467   \n",
       "3    --cB2ZVjpnA     0.110790  0.024786        2349.680827   \n",
       "4    --ekDLDTUXA     0.138681  0.165942        1829.442944   \n",
       "..           ...          ...       ...                ...   \n",
       "126  -JKLmqDk9p8     0.192781  0.004820        4832.315379   \n",
       "127  -JOKwS64mRU     0.489950  0.043773         203.299598   \n",
       "128  -JVWfFPBl84     0.135420  0.021622        1423.281525   \n",
       "129  -Jam3cjbeFQ     0.111342  0.069059        2645.576128   \n",
       "130  -JbPonixXS4     0.141076  0.097468        3589.985951   \n",
       "\n",
       "     spectral_bandwidth      rolloff  zero_crossing_rate       mfcc1  \\\n",
       "0           2727.951400  6136.962891            0.000488 -677.725464   \n",
       "1           3176.120465  4909.570312            0.000000 -777.996643   \n",
       "2           1242.651527  1227.392578            0.000000 -516.471558   \n",
       "3           1963.629772  3671.411133            0.000977 -735.875793   \n",
       "4           2935.817842  4888.037109            0.000000 -582.247437   \n",
       "..                  ...          ...                 ...         ...   \n",
       "126         3669.252886  9797.607422            0.002441 -914.773804   \n",
       "127          996.396862    10.766602            0.000000 -755.765076   \n",
       "128         2442.617707  2519.384766            0.000000 -790.405884   \n",
       "129         2703.945140  4909.570312            0.000977 -671.135559   \n",
       "130         3449.301232  7375.122070            0.000488 -602.484497   \n",
       "\n",
       "         mfcc2      mfcc3  ...     mfcc11     mfcc12     mfcc13     mfcc14  \\\n",
       "0   -60.321907  -1.675254  ...  13.621056  65.283966  22.037888 -34.077576   \n",
       "1   -49.890053  13.396999  ...  19.317492  51.159569  19.382998 -14.735193   \n",
       "2   -17.606678  -2.516232  ...  17.650810  48.678459  19.960388  -8.039909   \n",
       "3   -43.371239 -12.871243  ...  19.297230  63.482571  23.846874 -34.264587   \n",
       "4   -39.230446   1.131112  ...  22.324093  48.208324  36.402683 -29.619797   \n",
       "..         ...        ...  ...        ...        ...        ...        ...   \n",
       "126 -65.093506  13.926597  ...  12.904678  58.368774  29.181709 -23.927414   \n",
       "127 -20.068527  10.470110  ...  14.668190  32.084675  -1.794517   4.894401   \n",
       "128 -47.060619  10.491171  ...  16.250748  47.837238   2.965533  -8.182658   \n",
       "129 -57.651184  -0.991896  ...  22.715660  66.719612  17.568981 -26.835751   \n",
       "130 -58.526474  10.303356  ...  11.845843  63.799500  24.275890 -22.809498   \n",
       "\n",
       "        mfcc15     mfcc16     mfcc17     mfcc18     mfcc19     mfcc20  \n",
       "0     1.344032  20.719837 -14.135757  39.440418  57.690269 -45.903584  \n",
       "1    -7.327859  12.584110   6.626073  29.135651  46.241631 -31.901894  \n",
       "2   -14.162983   9.131400  13.745262  32.253983  34.012314 -23.337450  \n",
       "3    -3.065814  15.538205 -11.578226  44.499367  48.511829 -40.622833  \n",
       "4    -3.743885   4.963671  13.029894  30.473604  50.506432 -39.929340  \n",
       "..         ...        ...        ...        ...        ...        ...  \n",
       "126 -15.933074  15.994800   2.668251  33.912552  52.804276 -44.254318  \n",
       "127  10.609842  14.049875   1.249871  13.016512  29.078253  -4.659967  \n",
       "128   7.010826  18.803110  -5.540838  20.291389  46.918987 -23.676163  \n",
       "129  -1.164851  15.078834  -4.106844  35.412018  58.241287 -41.305882  \n",
       "130 -12.779671  14.155405   2.744324  35.155029  52.631874 -43.103882  \n",
       "\n",
       "[131 rows x 27 columns]"
      ]
     },
     "execution_count": 13,
     "metadata": {},
     "output_type": "execute_result"
    }
   ],
   "source": [
    "feature_df.head(131)"
   ]
  },
  {
   "cell_type": "code",
   "execution_count": 14,
   "metadata": {},
   "outputs": [
    {
     "data": {
      "text/html": [
       "<div>\n",
       "<style scoped>\n",
       "    .dataframe tbody tr th:only-of-type {\n",
       "        vertical-align: middle;\n",
       "    }\n",
       "\n",
       "    .dataframe tbody tr th {\n",
       "        vertical-align: top;\n",
       "    }\n",
       "\n",
       "    .dataframe thead th {\n",
       "        text-align: right;\n",
       "    }\n",
       "</style>\n",
       "<table border=\"1\" class=\"dataframe\">\n",
       "  <thead>\n",
       "    <tr style=\"text-align: right;\">\n",
       "      <th></th>\n",
       "      <th>YTID</th>\n",
       "      <th>start_seconds</th>\n",
       "      <th>end_seconds</th>\n",
       "      <th>positive_labels</th>\n",
       "      <th>recorded_labels</th>\n",
       "    </tr>\n",
       "  </thead>\n",
       "  <tbody>\n",
       "    <tr>\n",
       "      <th>0</th>\n",
       "      <td>--PJHxphWEs</td>\n",
       "      <td>30.0</td>\n",
       "      <td>40.0</td>\n",
       "      <td>\"/m/09x0r,/t/dd00088\"</td>\n",
       "      <td>[/m/09x0r, /t/dd00088]</td>\n",
       "    </tr>\n",
       "    <tr>\n",
       "      <th>2</th>\n",
       "      <td>--aE2O5G5WE</td>\n",
       "      <td>0.0</td>\n",
       "      <td>10.0</td>\n",
       "      <td>\"/m/03fwl,/m/04rlf,/m/09x0r\"</td>\n",
       "      <td>[/m/03fwl, /m/04rlf, /m/09x0r]</td>\n",
       "    </tr>\n",
       "    <tr>\n",
       "      <th>4</th>\n",
       "      <td>--aaILOrkII</td>\n",
       "      <td>200.0</td>\n",
       "      <td>210.0</td>\n",
       "      <td>\"/m/032s66,/m/073cg4\"</td>\n",
       "      <td>[/m/032s66, /m/073cg4]</td>\n",
       "    </tr>\n",
       "    <tr>\n",
       "      <th>5</th>\n",
       "      <td>--cB2ZVjpnA</td>\n",
       "      <td>30.0</td>\n",
       "      <td>40.0</td>\n",
       "      <td>\"/m/01y3hg\"</td>\n",
       "      <td>[/m/01y3hg]</td>\n",
       "    </tr>\n",
       "    <tr>\n",
       "      <th>6</th>\n",
       "      <td>--ekDLDTUXA</td>\n",
       "      <td>30.0</td>\n",
       "      <td>40.0</td>\n",
       "      <td>\"/m/015lz1,/m/07pws3f\"</td>\n",
       "      <td>[/m/015lz1, /m/07pws3f]</td>\n",
       "    </tr>\n",
       "    <tr>\n",
       "      <th>...</th>\n",
       "      <td>...</td>\n",
       "      <td>...</td>\n",
       "      <td>...</td>\n",
       "      <td>...</td>\n",
       "      <td>...</td>\n",
       "    </tr>\n",
       "    <tr>\n",
       "      <th>156</th>\n",
       "      <td>-JKLmqDk9p8</td>\n",
       "      <td>490.0</td>\n",
       "      <td>500.0</td>\n",
       "      <td>\"/m/06mb1,/m/07r10fb,/m/0jb2l,/m/0ngt1,/t/dd00...</td>\n",
       "      <td>[/m/06mb1, /m/07r10fb, /m/0jb2l, /m/0ngt1, /t/...</td>\n",
       "    </tr>\n",
       "    <tr>\n",
       "      <th>157</th>\n",
       "      <td>-JOKwS64mRU</td>\n",
       "      <td>150.0</td>\n",
       "      <td>160.0</td>\n",
       "      <td>\"/m/019jd,/m/03m9d0z,/m/06q74,/t/dd00092\"</td>\n",
       "      <td>[/m/019jd, /m/03m9d0z, /m/06q74, /t/dd00092]</td>\n",
       "    </tr>\n",
       "    <tr>\n",
       "      <th>158</th>\n",
       "      <td>-JVWfFPBl84</td>\n",
       "      <td>330.0</td>\n",
       "      <td>340.0</td>\n",
       "      <td>\"/m/0l14t7\"</td>\n",
       "      <td>[/m/0l14t7]</td>\n",
       "    </tr>\n",
       "    <tr>\n",
       "      <th>159</th>\n",
       "      <td>-Jam3cjbeFQ</td>\n",
       "      <td>30.0</td>\n",
       "      <td>40.0</td>\n",
       "      <td>\"/m/07pws3f,/m/09x0r\"</td>\n",
       "      <td>[/m/07pws3f, /m/09x0r]</td>\n",
       "    </tr>\n",
       "    <tr>\n",
       "      <th>160</th>\n",
       "      <td>-JbPonixXS4</td>\n",
       "      <td>0.0</td>\n",
       "      <td>10.0</td>\n",
       "      <td>\"/m/01j4z9,/m/0_ksk\"</td>\n",
       "      <td>[/m/01j4z9, /m/0_ksk]</td>\n",
       "    </tr>\n",
       "  </tbody>\n",
       "</table>\n",
       "<p>131 rows × 5 columns</p>\n",
       "</div>"
      ],
      "text/plain": [
       "            YTID  start_seconds  end_seconds  \\\n",
       "0    --PJHxphWEs           30.0         40.0   \n",
       "2    --aE2O5G5WE            0.0         10.0   \n",
       "4    --aaILOrkII          200.0        210.0   \n",
       "5    --cB2ZVjpnA           30.0         40.0   \n",
       "6    --ekDLDTUXA           30.0         40.0   \n",
       "..           ...            ...          ...   \n",
       "156  -JKLmqDk9p8          490.0        500.0   \n",
       "157  -JOKwS64mRU          150.0        160.0   \n",
       "158  -JVWfFPBl84          330.0        340.0   \n",
       "159  -Jam3cjbeFQ           30.0         40.0   \n",
       "160  -JbPonixXS4            0.0         10.0   \n",
       "\n",
       "                                       positive_labels  \\\n",
       "0                                \"/m/09x0r,/t/dd00088\"   \n",
       "2                         \"/m/03fwl,/m/04rlf,/m/09x0r\"   \n",
       "4                                \"/m/032s66,/m/073cg4\"   \n",
       "5                                          \"/m/01y3hg\"   \n",
       "6                               \"/m/015lz1,/m/07pws3f\"   \n",
       "..                                                 ...   \n",
       "156  \"/m/06mb1,/m/07r10fb,/m/0jb2l,/m/0ngt1,/t/dd00...   \n",
       "157          \"/m/019jd,/m/03m9d0z,/m/06q74,/t/dd00092\"   \n",
       "158                                        \"/m/0l14t7\"   \n",
       "159                              \"/m/07pws3f,/m/09x0r\"   \n",
       "160                               \"/m/01j4z9,/m/0_ksk\"   \n",
       "\n",
       "                                       recorded_labels  \n",
       "0                               [/m/09x0r, /t/dd00088]  \n",
       "2                       [/m/03fwl, /m/04rlf, /m/09x0r]  \n",
       "4                               [/m/032s66, /m/073cg4]  \n",
       "5                                          [/m/01y3hg]  \n",
       "6                              [/m/015lz1, /m/07pws3f]  \n",
       "..                                                 ...  \n",
       "156  [/m/06mb1, /m/07r10fb, /m/0jb2l, /m/0ngt1, /t/...  \n",
       "157       [/m/019jd, /m/03m9d0z, /m/06q74, /t/dd00092]  \n",
       "158                                        [/m/0l14t7]  \n",
       "159                             [/m/07pws3f, /m/09x0r]  \n",
       "160                              [/m/01j4z9, /m/0_ksk]  \n",
       "\n",
       "[131 rows x 5 columns]"
      ]
     },
     "execution_count": 14,
     "metadata": {},
     "output_type": "execute_result"
    }
   ],
   "source": [
    "dataset.head(131)"
   ]
  },
  {
   "cell_type": "code",
   "execution_count": null,
   "metadata": {},
   "outputs": [],
   "source": []
  },
  {
   "cell_type": "code",
   "execution_count": null,
   "metadata": {},
   "outputs": [],
   "source": []
  },
  {
   "cell_type": "code",
   "execution_count": null,
   "metadata": {},
   "outputs": [],
   "source": []
  },
  {
   "cell_type": "code",
   "execution_count": null,
   "metadata": {},
   "outputs": [],
   "source": []
  },
  {
   "cell_type": "code",
   "execution_count": null,
   "metadata": {},
   "outputs": [],
   "source": []
  },
  {
   "cell_type": "code",
   "execution_count": null,
   "metadata": {},
   "outputs": [],
   "source": []
  },
  {
   "cell_type": "code",
   "execution_count": null,
   "metadata": {},
   "outputs": [],
   "source": []
  },
  {
   "cell_type": "code",
   "execution_count": null,
   "metadata": {},
   "outputs": [],
   "source": []
  },
  {
   "cell_type": "code",
   "execution_count": null,
   "metadata": {},
   "outputs": [],
   "source": []
  },
  {
   "cell_type": "code",
   "execution_count": null,
   "metadata": {},
   "outputs": [],
   "source": [
    "a = int(sr/2)\n",
    "b = int(sr*(3/2))\n",
    "fig, ax = plt.subplots(figsize = (25, 10))\n",
    "snippet = data[sr*5:sr*6]\n",
    "ax.plot(snippet)"
   ]
  },
  {
   "cell_type": "markdown",
   "metadata": {},
   "source": [
    "## Save audio as spectrogram.png"
   ]
  },
  {
   "cell_type": "code",
   "execution_count": null,
   "metadata": {},
   "outputs": [],
   "source": [
    "def get_audio(file, start, stop):\n",
    "    '''\n",
    "    parameters:\n",
    "        file: str, location of audio filein mp3 audio file\n",
    "        start: beggining of clip in seconds\n",
    "        stop: end of clip in seconds\n",
    "    returns:\n",
    "        tuple\n",
    "        data: numpy array\n",
    "        sr: int\n",
    "    '''\n",
    "    data, sr = librosa.load(file, mono=True)\n",
    "    data = data[sr*start:sr*stop]\n",
    "    return (data, sr)\n",
    "\n",
    "def get_spec(lib_file):\n",
    "    cmap = plt.get_cmap('inferno')\n",
    "    plt.figure(figsize=(8,8))\n",
    "    plt.specgram(y, NFFT=2048, Fs=2, Fc=0, \n",
    "                 noverlap=128, cmap=cmap, \n",
    "                 sides='default', mode='default', \n",
    "                 scale='dB');\n",
    "    plt.axis('off')\n",
    "    plt.savefig(f'/Users/joshbernd/Desktop/gal_notes/Capstone/Capstone_2/img/{filename[:-3].replace(\".\", \"\")}.png')\n",
    "    plt.clf()\n",
    "    \n",
    "    \n",
    "def trim(y, sr, start, stop):\n",
    "    y = y[sr*start:sr*stop]\n",
    "\n",
    "\n",
    "    \n",
    "    \n",
    "data = get_audio('/Users/joshbernd/Desktop/gal_notes/Capstone/Capstone_2/downloaded_videos/Vince Guaraldi Trio - Linus And Lucy.mp3', 5, 15)[0]    \n",
    "get_spec(data)"
   ]
  },
  {
   "cell_type": "markdown",
   "metadata": {},
   "source": [
    "## 5. Extracting features from Spectrogram: \n",
    "1 - Mel-frequency cepstral coefficients (MFCC) \n",
    "\n",
    "2 - Spectral Centroid\n",
    "\n",
    "3 - Zero Crossing Rate\n",
    "\n",
    "4 - Chroma Frequencies\n",
    "\n",
    "5 - Spectral Roll-off."
   ]
  },
  {
   "cell_type": "code",
   "execution_count": null,
   "metadata": {},
   "outputs": [],
   "source": []
  }
 ],
 "metadata": {
  "kernelspec": {
   "display_name": "Python 3",
   "language": "python",
   "name": "python3"
  },
  "language_info": {
   "codemirror_mode": {
    "name": "ipython",
    "version": 3
   },
   "file_extension": ".py",
   "mimetype": "text/x-python",
   "name": "python",
   "nbconvert_exporter": "python",
   "pygments_lexer": "ipython3",
   "version": "3.8.2"
  }
 },
 "nbformat": 4,
 "nbformat_minor": 4
}
